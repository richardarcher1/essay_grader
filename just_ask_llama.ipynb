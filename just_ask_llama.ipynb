{
 "cells": [
  {
   "cell_type": "code",
   "id": "initial_id",
   "metadata": {
    "collapsed": true,
    "ExecuteTime": {
     "end_time": "2024-12-13T01:36:40.844635Z",
     "start_time": "2024-12-13T01:36:39.223379Z"
    }
   },
   "source": [
    "# standard python imports\n",
    "import os\n",
    "# import pandas as pd\n",
    "import torch\n",
    "\n",
    "# huggingface libraries\n",
    "\n",
    "from transformers import (\n",
    "    AutoModelForCausalLM,\n",
    "    AutoTokenizer,\n",
    "    BitsAndBytesConfig,\n",
    "    # HfArgumentParser,\n",
    "    # TrainingArguments,\n",
    "    pipeline,\n",
    "    # logging,\n",
    "    LlamaForCausalLM\n",
    ")\n",
    "from peft import (\n",
    "#     LoraConfig,\n",
    "    PeftModel,\n",
    "#     prepare_model_for_kbit_training,\n",
    "#     get_peft_model,\n",
    ")\n",
    "from datasets import load_dataset, Dataset\n",
    "# from trl import SFTTrainer, setup_chat_format\n",
    "\n",
    "# import wandb\n",
    "\n",
    "import polars as pl\n",
    "# import pandas as pd\n",
    "\n",
    "from transformers.pipelines.pt_utils import KeyDataset"
   ],
   "outputs": [],
   "execution_count": 1
  },
  {
   "metadata": {
    "ExecuteTime": {
     "end_time": "2024-12-13T01:37:28.238161Z",
     "start_time": "2024-12-13T01:37:28.236332Z"
    }
   },
   "cell_type": "code",
   "source": [
    "def create_prompt(review):\n",
    "    system_prompt = f\"You read student essays reviews and return a score from 0 to 60 that represents your besst guess of the number of rating given by the grader. Return just the number 0, 1, ..., 60 with no context, explanation, or special symbols.\"\n",
    "    prompt = f\"Here is the review to evaluate: [[[{review}]]]. You read student essays reviews and return a score from 0 to 60 that represents your besst guess of the number of rating given by the grader. Return just the number 0, 1, ..., 60 with no context, explanation, or special symbols.\"\n",
    "\n",
    "    return system_prompt, prompt\n"
   ],
   "id": "1a69d01046c63b8f",
   "outputs": [],
   "execution_count": 7
  },
  {
   "metadata": {
    "ExecuteTime": {
     "end_time": "2024-12-13T01:37:28.875259Z",
     "start_time": "2024-12-13T01:37:28.872482Z"
    }
   },
   "cell_type": "code",
   "source": [
    "# df_train = pl.read_csv(\"../data/1_train_test_split/df_train.csv\")\n",
    "# df_val = pl.read_csv(\"../data/1_train_test_split/df_validation.csv\")\n",
    "\n",
    "df_val = pl.read_csv(\"data/imported/val.csv\")"
   ],
   "id": "dd217abf75548e67",
   "outputs": [],
   "execution_count": 8
  },
  {
   "metadata": {
    "ExecuteTime": {
     "end_time": "2024-12-13T01:37:29.394753Z",
     "start_time": "2024-12-13T01:37:29.390362Z"
    }
   },
   "cell_type": "code",
   "source": [
    "lst_system_prompt, lst_prompt = [], []\n",
    "for row in df_val.iter_rows(named=True):\n",
    "    system_prompt, prompt = create_prompt(row[\"text\"])\n",
    "    lst_system_prompt.append(system_prompt)\n",
    "    lst_prompt.append(prompt)\n",
    "df_val = df_val.with_columns(pl.Series(lst_system_prompt).alias(\"system_prompt\"), pl.Series(lst_prompt).alias(\"prompt\"))"
   ],
   "id": "58e55d8b46dc33ac",
   "outputs": [],
   "execution_count": 9
  },
  {
   "metadata": {
    "ExecuteTime": {
     "end_time": "2024-12-13T01:37:33.410143Z",
     "start_time": "2024-12-13T01:37:33.397545Z"
    }
   },
   "cell_type": "code",
   "source": [
    "test_texts = df_val[\"text\"].to_list()\n",
    "test_labels = df_val[\"score\"].to_list()\n",
    "\n",
    "data_ = Dataset.from_polars(df_val)"
   ],
   "id": "19ac07b2242dd0af",
   "outputs": [],
   "execution_count": 11
  },
  {
   "metadata": {},
   "cell_type": "code",
   "source": "# !ls /home/richardarcher/Dropbox/Sci24_LLM_Polarization/project_/weights_local/models--meta-llama--Meta-Llama-3.1-8B-Instruct/snapshots/0e9e39f249a16976918f6564b8830bc894c89659",
   "id": "529877df60b0dca",
   "outputs": [],
   "execution_count": null
  },
  {
   "metadata": {
    "ExecuteTime": {
     "end_time": "2024-12-13T01:37:34.652011Z",
     "start_time": "2024-12-13T01:37:34.650342Z"
    }
   },
   "cell_type": "code",
   "source": "base_model = \"/home/richardarcher/Dropbox/Sci24_LLM_Polarization/project_/weights_local/models--meta-llama--Meta-Llama-3.1-8B-Instruct/snapshots/0e9e39f249a16976918f6564b8830bc894c89659\"",
   "id": "37e6d55334f5b694",
   "outputs": [],
   "execution_count": 12
  },
  {
   "metadata": {},
   "cell_type": "code",
   "source": "# PATH_adapter_custom_weights = \"../weights/sft/run01/checkpoint-1034\"",
   "id": "3b16b06ddeb2a463",
   "outputs": [],
   "execution_count": null
  },
  {
   "metadata": {
    "ExecuteTime": {
     "end_time": "2024-12-13T01:37:37.367282Z",
     "start_time": "2024-12-13T01:37:37.161501Z"
    }
   },
   "cell_type": "code",
   "source": [
    "tokenizer = AutoTokenizer.from_pretrained(\n",
    "    base_model,\n",
    "    tokenizer_file=os.path.join(base_model, 'tokenizer.json'),\n",
    "    tokenizer_config_file=os.path.join(base_model, 'tokenizer_config.json'),\n",
    "    special_tokens_map_file=os.path.join(base_model, 'special_tokens_map.json'),\n",
    "    trust_remote_code=True,\n",
    "    padding_side='left'\n",
    ")\n",
    "\n",
    "tokenizer.padding_side = 'left'"
   ],
   "id": "b30b22b7c82e8852",
   "outputs": [],
   "execution_count": 13
  },
  {
   "metadata": {
    "ExecuteTime": {
     "end_time": "2024-12-13T01:37:44.484068Z",
     "start_time": "2024-12-13T01:37:37.896796Z"
    }
   },
   "cell_type": "code",
   "source": [
    "nf4_config = BitsAndBytesConfig(\n",
    "    load_in_4bit=True,\n",
    "    # load_in_8bit=True,\n",
    "    bnb_4bit_quant_type=\"nf4\",\n",
    "    bnb_4bit_compute_dtype=torch.float16,  # Match input dtype\n",
    "\n",
    ")\n",
    "\n",
    "model = LlamaForCausalLM.from_pretrained(base_model, quantization_config=nf4_config)"
   ],
   "id": "c277d54a99697aaa",
   "outputs": [
    {
     "name": "stderr",
     "output_type": "stream",
     "text": [
      "`low_cpu_mem_usage` was None, now default to True since model is quantized.\n"
     ]
    },
    {
     "data": {
      "text/plain": [
       "Loading checkpoint shards:   0%|          | 0/4 [00:00<?, ?it/s]"
      ],
      "application/vnd.jupyter.widget-view+json": {
       "version_major": 2,
       "version_minor": 0,
       "model_id": "8cbe137b8e70416c96625d355f82ddca"
      }
     },
     "metadata": {},
     "output_type": "display_data"
    }
   ],
   "execution_count": 14
  },
  {
   "metadata": {},
   "cell_type": "code",
   "source": [
    "# model = PeftModel.from_pretrained(model, PATH_adapter_custom_weights)\n",
    "# model = model.merge_and_unload() # This line merges the weights"
   ],
   "id": "b093843d6a7a734b",
   "outputs": [],
   "execution_count": null
  },
  {
   "metadata": {
    "ExecuteTime": {
     "end_time": "2024-12-13T01:37:44.487541Z",
     "start_time": "2024-12-13T01:37:44.486117Z"
    }
   },
   "cell_type": "code",
   "source": [
    "if not tokenizer.pad_token_id:\n",
    "    tokenizer.pad_token_id = tokenizer.eos_token_id\n",
    "if model.config.pad_token_id is None:\n",
    "    model.config.pad_token_id = model.config.eos_token_id"
   ],
   "id": "47304be292554fd5",
   "outputs": [],
   "execution_count": 15
  },
  {
   "metadata": {
    "ExecuteTime": {
     "end_time": "2024-12-13T01:37:44.529470Z",
     "start_time": "2024-12-13T01:37:44.528011Z"
    }
   },
   "cell_type": "code",
   "source": [
    "def remove_header(text, K_times):\n",
    "    for _ in range(K_times):\n",
    "        if \"<|end_header_id|>\" in text:\n",
    "            text = text.split(\"<|end_header_id|>\", 1)[1]\n",
    "    return text"
   ],
   "id": "6f469e982841cc6a",
   "outputs": [],
   "execution_count": 16
  },
  {
   "metadata": {},
   "cell_type": "code",
   "source": [
    "# # one at a time (not pipeline; pipeline is next section) (skip to next section for best results)\n",
    "# \n",
    "# pipe = pipeline(\n",
    "#     \"text-generation\",\n",
    "#     model=model,\n",
    "#     tokenizer=tokenizer,\n",
    "#     torch_dtype=torch.float16,\n",
    "#     device_map=\"auto\",\n",
    "# )\n",
    "# \n",
    "# \n",
    "# \n",
    "# # # TEST EXAMPLE\n",
    "# # messages = [\n",
    "# #     {\"role\": \"system\", \"content\": \"You are a pirate chatbot who always responds in pirate speak!\"},\n",
    "# #     {\"role\": \"user\", \"content\": \"Who are you?\"},\n",
    "# # ]\n",
    "# # \n",
    "# # prompt = tokenizer.apply_chat_template(\n",
    "# #     messages, tokenize=False, add_generation_prompt=True\n",
    "# # )\n",
    "# # \n",
    "# # outputs = pipe(prompt, max_new_tokens=120, do_sample=True)\n",
    "# # \n",
    "# # cleaned_text = remove_header(outputs[0][\"generated_text\"], 3).strip()\n",
    "# # print(cleaned_text)\n",
    "# \n",
    "# df = pl.read_csv(\"../data/inference_ready/prompts_for_pilot00.csv\")\n",
    "# \n",
    "# res = []\n",
    "# ix = 1\n",
    "# N = df.shape[0]\n",
    "# for row in df.iter_rows(named=True):\n",
    "#     print(f\"Now Processing {ix}/{N}\")\n",
    "#     messages = [\n",
    "#         {\"role\": \"system\", \"content\": row[\"system_prompt\"]},\n",
    "#         {\"role\": \"user\", \"content\": row[\"prompt\"]},\n",
    "#     ]\n",
    "# \n",
    "#     prompt = tokenizer.apply_chat_template(\n",
    "#         messages, tokenize=False, add_generation_prompt=True\n",
    "#     )\n",
    "# \n",
    "#     outputs = pipe(prompt, max_new_tokens=2_000, do_sample=True)\n",
    "#     cleaned_text = remove_header(outputs[0][\"generated_text\"], 3).strip()\n",
    "#     res.append(cleaned_text)\n",
    "#     ix = ix + 1"
   ],
   "id": "44c21fbd7493508c",
   "outputs": [],
   "execution_count": null
  },
  {
   "metadata": {
    "ExecuteTime": {
     "end_time": "2024-12-13T01:37:44.572658Z",
     "start_time": "2024-12-13T01:37:44.571005Z"
    }
   },
   "cell_type": "code",
   "source": [
    "def create_format_chat_template(tokenizer):\n",
    "    def format_chat_template(row):\n",
    "        row_json = [{\"role\": \"system\", \"content\": row[\"system_prompt\"]},\n",
    "                    {\"role\": \"user\", \"content\": row[\"prompt\"]}]\n",
    "\n",
    "        # row[\"text\"] = tokenizer.apply_chat_template(row_json, tokenize=False)\n",
    "        row[\"text\"] = tokenizer.apply_chat_template(row_json, tokenize=False, add_generation_prompt=True)\n",
    "        return row\n",
    "    return format_chat_template"
   ],
   "id": "7a224b5d123ec1cd",
   "outputs": [],
   "execution_count": 17
  },
  {
   "metadata": {
    "ExecuteTime": {
     "end_time": "2024-12-13T01:37:44.832145Z",
     "start_time": "2024-12-13T01:37:44.830494Z"
    }
   },
   "cell_type": "code",
   "source": "batch_size = 8",
   "id": "83a81c70c7841d9c",
   "outputs": [],
   "execution_count": 18
  },
  {
   "metadata": {
    "ExecuteTime": {
     "end_time": "2024-12-13T01:37:45.446228Z",
     "start_time": "2024-12-13T01:37:45.443681Z"
    }
   },
   "cell_type": "code",
   "source": [
    "pipe = pipeline(\n",
    "    \"text-generation\",\n",
    "    model=model,\n",
    "    tokenizer=tokenizer,\n",
    "    # torch_dtype=torch.float32,\n",
    "    torch_dtype=torch.float16,\n",
    "    device_map=\"auto\",\n",
    "    batch_size=batch_size, # CHANGE TO FOUR IF TOO SLOW\n",
    "    max_new_tokens=5,\n",
    ")"
   ],
   "id": "6757cf10b573d793",
   "outputs": [],
   "execution_count": 19
  },
  {
   "metadata": {
    "ExecuteTime": {
     "end_time": "2024-12-13T01:37:46.164759Z",
     "start_time": "2024-12-13T01:37:46.049179Z"
    }
   },
   "cell_type": "code",
   "source": [
    "data_ = data_.map(\n",
    "    create_format_chat_template(tokenizer)\n",
    ")"
   ],
   "id": "3b8f2678c135fa66",
   "outputs": [
    {
     "data": {
      "text/plain": [
       "Map:   0%|          | 0/622 [00:00<?, ? examples/s]"
      ],
      "application/vnd.jupyter.widget-view+json": {
       "version_major": 2,
       "version_minor": 0,
       "model_id": "6b5717c3fc6d4e84adcd93f25dbdfe2a"
      }
     },
     "metadata": {},
     "output_type": "display_data"
    }
   ],
   "execution_count": 20
  },
  {
   "metadata": {
    "ExecuteTime": {
     "end_time": "2024-12-13T01:38:44.236068Z",
     "start_time": "2024-12-13T01:37:47.532290Z"
    }
   },
   "cell_type": "code",
   "source": [
    "res = []\n",
    "ix = 0 \n",
    "for out in pipe(KeyDataset(data_, \"text\")):\n",
    "    ix = ix + 1\n",
    "    if ix % batch_size == 0:\n",
    "        print(f\"{ix}/{data_.shape[0]}\")\n",
    "    \n",
    "    cleaned_text = remove_header(out[0][\"generated_text\"], 3).strip()\n",
    "    res.append(cleaned_text)"
   ],
   "id": "72f3f866c60f5fde",
   "outputs": [
    {
     "name": "stdout",
     "output_type": "stream",
     "text": [
      "8/622\n",
      "16/622\n",
      "24/622\n",
      "32/622\n",
      "40/622\n",
      "48/622\n",
      "56/622\n",
      "64/622\n",
      "72/622\n",
      "80/622\n",
      "88/622\n",
      "96/622\n",
      "104/622\n",
      "112/622\n",
      "120/622\n",
      "128/622\n",
      "136/622\n",
      "144/622\n",
      "152/622\n",
      "160/622\n",
      "168/622\n",
      "176/622\n",
      "184/622\n",
      "192/622\n",
      "200/622\n",
      "208/622\n",
      "216/622\n",
      "224/622\n",
      "232/622\n",
      "240/622\n",
      "248/622\n",
      "256/622\n",
      "264/622\n",
      "272/622\n",
      "280/622\n",
      "288/622\n",
      "296/622\n",
      "304/622\n",
      "312/622\n",
      "320/622\n",
      "328/622\n",
      "336/622\n",
      "344/622\n",
      "352/622\n",
      "360/622\n",
      "368/622\n",
      "376/622\n",
      "384/622\n",
      "392/622\n",
      "400/622\n",
      "408/622\n",
      "416/622\n",
      "424/622\n",
      "432/622\n",
      "440/622\n",
      "448/622\n",
      "456/622\n",
      "464/622\n",
      "472/622\n",
      "480/622\n",
      "488/622\n",
      "496/622\n",
      "504/622\n",
      "512/622\n",
      "520/622\n",
      "528/622\n",
      "536/622\n",
      "544/622\n",
      "552/622\n",
      "560/622\n",
      "568/622\n",
      "576/622\n",
      "584/622\n",
      "592/622\n",
      "600/622\n",
      "608/622\n",
      "616/622\n"
     ]
    }
   ],
   "execution_count": 21
  },
  {
   "metadata": {
    "ExecuteTime": {
     "end_time": "2024-12-13T01:38:44.239516Z",
     "start_time": "2024-12-13T01:38:44.237996Z"
    }
   },
   "cell_type": "code",
   "source": "res_int = [int(i) for i in res]",
   "id": "d2eb106b7339e996",
   "outputs": [],
   "execution_count": 22
  },
  {
   "metadata": {
    "ExecuteTime": {
     "end_time": "2024-12-13T01:39:10.405600Z",
     "start_time": "2024-12-13T01:39:10.404149Z"
    }
   },
   "cell_type": "code",
   "source": "import numpy as np",
   "id": "d1b0a2d7bfdab313",
   "outputs": [],
   "execution_count": 26
  },
  {
   "metadata": {
    "ExecuteTime": {
     "end_time": "2024-12-13T01:39:23.058222Z",
     "start_time": "2024-12-13T01:39:23.056650Z"
    }
   },
   "cell_type": "code",
   "source": "a, b = np.array(res_int), np.array(test_labels)",
   "id": "1916d40576a93144",
   "outputs": [],
   "execution_count": 28
  },
  {
   "metadata": {
    "ExecuteTime": {
     "end_time": "2024-12-13T01:39:31.582541Z",
     "start_time": "2024-12-13T01:39:31.455928Z"
    }
   },
   "cell_type": "code",
   "source": "import matplotlib.pyplot as plt",
   "id": "3ff808ef802efa1b",
   "outputs": [],
   "execution_count": 29
  },
  {
   "metadata": {
    "ExecuteTime": {
     "end_time": "2024-12-13T01:39:49.811005Z",
     "start_time": "2024-12-13T01:39:49.808767Z"
    }
   },
   "cell_type": "code",
   "source": [
    "from sklearn.metrics import mean_squared_error\n",
    "test_mse = mean_squared_error(a, b)"
   ],
   "id": "62c003e68002c8dc",
   "outputs": [],
   "execution_count": 32
  },
  {
   "metadata": {
    "ExecuteTime": {
     "end_time": "2024-12-13T01:39:53.207391Z",
     "start_time": "2024-12-13T01:39:53.205291Z"
    }
   },
   "cell_type": "code",
   "source": "test_mse",
   "id": "9b229ed0b1c59c89",
   "outputs": [
    {
     "data": {
      "text/plain": [
       "1049.7154340836014"
      ]
     },
     "execution_count": 33,
     "metadata": {},
     "output_type": "execute_result"
    }
   ],
   "execution_count": 33
  },
  {
   "metadata": {
    "ExecuteTime": {
     "end_time": "2024-12-13T01:39:54.288656Z",
     "start_time": "2024-12-13T01:39:54.285986Z"
    }
   },
   "cell_type": "code",
   "source": "df_val = df_val.with_columns(pl.Series(res_int).alias(\"8b_quant_prediction\"))",
   "id": "c2e62ef238a608f7",
   "outputs": [],
   "execution_count": 34
  },
  {
   "metadata": {
    "ExecuteTime": {
     "end_time": "2024-12-13T01:40:02.072605Z",
     "start_time": "2024-12-13T01:40:02.067042Z"
    }
   },
   "cell_type": "code",
   "source": "df_val.write_csv(\"data/outputs/8b_quantized_predictions_for_eval_set.csv\")",
   "id": "7d54d132fafc5ed3",
   "outputs": [],
   "execution_count": 36
  },
  {
   "metadata": {
    "ExecuteTime": {
     "end_time": "2024-12-13T01:40:34.488746Z",
     "start_time": "2024-12-13T01:40:34.485975Z"
    }
   },
   "cell_type": "code",
   "source": "np.corrcoef(a, b)",
   "id": "ff02925110a96a25",
   "outputs": [
    {
     "data": {
      "text/plain": [
       "array([[1.        , 0.03508957],\n",
       "       [0.03508957, 1.        ]])"
      ]
     },
     "execution_count": 39,
     "metadata": {},
     "output_type": "execute_result"
    }
   ],
   "execution_count": 39
  },
  {
   "metadata": {
    "ExecuteTime": {
     "end_time": "2024-12-13T01:40:55.306399Z",
     "start_time": "2024-12-13T01:40:55.263276Z"
    }
   },
   "cell_type": "code",
   "source": "plt.hist(b)",
   "id": "214b29fdc760e9ea",
   "outputs": [
    {
     "data": {
      "text/plain": [
       "(array([411.,  50.,  69.,  27.,  21.,   6.,   6.,  10.,  17.,   5.]),\n",
       " array([ 0. ,  4.5,  9. , 13.5, 18. , 22.5, 27. , 31.5, 36. , 40.5, 45. ]),\n",
       " <BarContainer object of 10 artists>)"
      ]
     },
     "execution_count": 42,
     "metadata": {},
     "output_type": "execute_result"
    },
    {
     "data": {
      "text/plain": [
       "<Figure size 640x480 with 1 Axes>"
      ],
      "image/png": "[encoded data removed]"
     },
     "metadata": {},
     "output_type": "display_data"
    }
   ],
   "execution_count": 42
  },
  {
   "metadata": {
    "ExecuteTime": {
     "end_time": "2024-12-13T01:40:52.671817Z",
     "start_time": "2024-12-13T01:40:52.630097Z"
    }
   },
   "cell_type": "code",
   "source": "plt.hist(a)",
   "id": "581b5114394cd9ef",
   "outputs": [
    {
     "data": {
      "text/plain": [
       "(array([  4.,  20.,  44.,  73.,  42., 121., 113., 116.,  54.,  35.]),\n",
       " array([ 4. ,  9.5, 15. , 20.5, 26. , 31.5, 37. , 42.5, 48. , 53.5, 59. ]),\n",
       " <BarContainer object of 10 artists>)"
      ]
     },
     "execution_count": 41,
     "metadata": {},
     "output_type": "execute_result"
    },
    {
     "data": {
      "text/plain": [
       "<Figure size 640x480 with 1 Axes>"
      ],
      "image/png": "[encoded data removed]"
     },
     "metadata": {},
     "output_type": "display_data"
    }
   ],
   "execution_count": 41
  }
 ],
 "metadata": {
  "kernelspec": {
   "display_name": "Python 3",
   "language": "python",
   "name": "python3"
  },
  "language_info": {
   "codemirror_mode": {
    "name": "ipython",
    "version": 2
   },
   "file_extension": ".py",
   "mimetype": "text/x-python",
   "name": "python",
   "nbconvert_exporter": "python",
   "pygments_lexer": "ipython2",
   "version": "2.7.6"
  }
 },
 "nbformat": 4,
 "nbformat_minor": 5
}
