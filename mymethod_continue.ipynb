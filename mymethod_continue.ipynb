{
 "cells": [
  {
   "cell_type": "code",
   "id": "initial_id",
   "metadata": {
    "collapsed": true,
    "ExecuteTime": {
     "end_time": "2024-12-13T01:34:31.032361Z",
     "start_time": "2024-12-13T01:34:31.030714Z"
    }
   },
   "source": "base_data_path = \"data/mymethod/\"",
   "outputs": [],
   "execution_count": 1
  },
  {
   "metadata": {
    "ExecuteTime": {
     "end_time": "2024-12-13T01:34:31.299367Z",
     "start_time": "2024-12-13T01:34:31.072141Z"
    }
   },
   "cell_type": "code",
   "source": "!ls data/mymethod",
   "id": "e546bcc4f3f67b9f",
   "outputs": [
    {
     "name": "stdout",
     "output_type": "stream",
     "text": [
      "archive  testing.pt  training.pt  val.pt\r\n"
     ]
    }
   ],
   "execution_count": 2
  },
  {
   "metadata": {
    "ExecuteTime": {
     "end_time": "2024-12-13T01:34:32.186563Z",
     "start_time": "2024-12-13T01:34:31.352101Z"
    }
   },
   "cell_type": "code",
   "source": [
    "import torch\n",
    "from torch.utils.data import Dataset\n",
    "\n",
    "import torch\n",
    "import torch.nn as nn\n",
    "import torch.optim as optim\n",
    "from torch.utils.data import DataLoader\n",
    "# from torch.utils.tensorboard import SummaryWriter\n",
    "# from tqdm import tqdm\n",
    "from tqdm.notebook import tqdm\n",
    "\n",
    "from matplotlib import pyplot as plt"
   ],
   "id": "5591af65dc96a9cc",
   "outputs": [],
   "execution_count": 3
  },
  {
   "metadata": {
    "ExecuteTime": {
     "end_time": "2024-12-13T01:34:32.191024Z",
     "start_time": "2024-12-13T01:34:32.189475Z"
    }
   },
   "cell_type": "code",
   "source": [
    "class EmbeddingDataset(Dataset):\n",
    "    def __init__(self, embeddings, labels):\n",
    "        # embeddings: list of numpy arrays or torch tensors\n",
    "        # labels: list of scalars\n",
    "        self.X = torch.tensor(embeddings, dtype=torch.float32)\n",
    "        self.y = torch.tensor(labels, dtype=torch.float16)  # or long, depending on your task\n",
    "\n",
    "    def __len__(self):\n",
    "        return len(self.y)\n",
    "\n",
    "    def __getitem__(self, idx):\n",
    "        return self.X[idx], self.y[idx]"
   ],
   "id": "56bdf2aac5b7c6d1",
   "outputs": [],
   "execution_count": 4
  },
  {
   "metadata": {
    "ExecuteTime": {
     "end_time": "2024-12-13T01:34:32.373197Z",
     "start_time": "2024-12-13T01:34:32.304389Z"
    }
   },
   "cell_type": "code",
   "source": [
    "training_dataset = torch.load(\"data/mymethod/training.pt\")\n",
    "testing_dataset = torch.load(\"data/mymethod/testing.pt\")\n",
    "val_dataset = torch.load(\"data/mymethod/val.pt\")"
   ],
   "id": "6b765a4d5b9a2627",
   "outputs": [
    {
     "name": "stderr",
     "output_type": "stream",
     "text": [
      "/tmp/ipykernel_34944/2319508829.py:1: FutureWarning: You are using `torch.load` with `weights_only=False` (the current default value), which uses the default pickle module implicitly. It is possible to construct malicious pickle data which will execute arbitrary code during unpickling (See https://github.com/pytorch/pytorch/blob/main/SECURITY.md#untrusted-models for more details). In a future release, the default value for `weights_only` will be flipped to `True`. This limits the functions that could be executed during unpickling. Arbitrary objects will no longer be allowed to be loaded via this mode unless they are explicitly allowlisted by the user via `torch.serialization.add_safe_globals`. We recommend you start setting `weights_only=True` for any use case where you don't have full control of the loaded file. Please open an issue on GitHub for any issues related to this experimental feature.\n",
      "  training_dataset = torch.load(\"data/mymethod/training.pt\")\n",
      "/tmp/ipykernel_34944/2319508829.py:2: FutureWarning: You are using `torch.load` with `weights_only=False` (the current default value), which uses the default pickle module implicitly. It is possible to construct malicious pickle data which will execute arbitrary code during unpickling (See https://github.com/pytorch/pytorch/blob/main/SECURITY.md#untrusted-models for more details). In a future release, the default value for `weights_only` will be flipped to `True`. This limits the functions that could be executed during unpickling. Arbitrary objects will no longer be allowed to be loaded via this mode unless they are explicitly allowlisted by the user via `torch.serialization.add_safe_globals`. We recommend you start setting `weights_only=True` for any use case where you don't have full control of the loaded file. Please open an issue on GitHub for any issues related to this experimental feature.\n",
      "  testing_dataset = torch.load(\"data/mymethod/testing.pt\")\n",
      "/tmp/ipykernel_34944/2319508829.py:3: FutureWarning: You are using `torch.load` with `weights_only=False` (the current default value), which uses the default pickle module implicitly. It is possible to construct malicious pickle data which will execute arbitrary code during unpickling (See https://github.com/pytorch/pytorch/blob/main/SECURITY.md#untrusted-models for more details). In a future release, the default value for `weights_only` will be flipped to `True`. This limits the functions that could be executed during unpickling. Arbitrary objects will no longer be allowed to be loaded via this mode unless they are explicitly allowlisted by the user via `torch.serialization.add_safe_globals`. We recommend you start setting `weights_only=True` for any use case where you don't have full control of the loaded file. Please open an issue on GitHub for any issues related to this experimental feature.\n",
      "  val_dataset = torch.load(\"data/mymethod/val.pt\")\n"
     ]
    }
   ],
   "execution_count": 5
  },
  {
   "metadata": {
    "ExecuteTime": {
     "end_time": "2024-12-13T01:34:32.447553Z",
     "start_time": "2024-12-13T01:34:32.445069Z"
    }
   },
   "cell_type": "code",
   "source": "len(val_dataset), len(testing_dataset), len(training_dataset)",
   "id": "3aa7ea76857fac6d",
   "outputs": [
    {
     "data": {
      "text/plain": [
       "(622, 1952, 10403)"
      ]
     },
     "execution_count": 6,
     "metadata": {},
     "output_type": "execute_result"
    }
   ],
   "execution_count": 6
  },
  {
   "metadata": {
    "ExecuteTime": {
     "end_time": "2024-12-13T01:34:32.543701Z",
     "start_time": "2024-12-13T01:34:32.541241Z"
    }
   },
   "cell_type": "code",
   "source": [
    "# Convert dataset outcomes to float32\n",
    "def convert_dataset_to_float32(dataset):\n",
    "    dataset.y = dataset.y.to(torch.float32)\n",
    "    return dataset\n",
    "\n",
    "# Convert all datasets\n",
    "training_dataset = convert_dataset_to_float32(training_dataset)\n",
    "testing_dataset = convert_dataset_to_float32(testing_dataset)\n",
    "val_dataset = convert_dataset_to_float32(val_dataset)\n"
   ],
   "id": "e55f1ac596026dbb",
   "outputs": [],
   "execution_count": 7
  },
  {
   "metadata": {
    "ExecuteTime": {
     "end_time": "2024-12-13T01:34:32.585694Z",
     "start_time": "2024-12-13T01:34:32.584108Z"
    }
   },
   "cell_type": "code",
   "source": [
    "# # Define a simple two-layer neural net with dropout and layer norm\n",
    "# class SimpleNeuralNet(nn.Module):\n",
    "#     def __init__(self, input_dim, hidden_dim, output_dim):\n",
    "#         super(SimpleNeuralNet, self).__init__()\n",
    "#         self.layer1 = nn.Sequential(\n",
    "#             nn.Linear(input_dim, hidden_dim),\n",
    "#             nn.LayerNorm(hidden_dim),\n",
    "#             nn.ReLU(),\n",
    "#             nn.Dropout(0.2)\n",
    "#         )\n",
    "#         self.layer2 = nn.Linear(hidden_dim, output_dim)\n",
    "# \n",
    "#     def forward(self, x):\n",
    "#         x = self.layer1(x)\n",
    "#         x = self.layer2(x)\n",
    "#         return x\n"
   ],
   "id": "5e80977cc3b1bc7a",
   "outputs": [],
   "execution_count": 8
  },
  {
   "metadata": {
    "ExecuteTime": {
     "end_time": "2024-12-13T01:34:32.628618Z",
     "start_time": "2024-12-13T01:34:32.626781Z"
    }
   },
   "cell_type": "code",
   "source": [
    "# Define a simple two-layer neural net with dropout and layer norm\n",
    "class SimpleNeuralNet(nn.Module):\n",
    "    def __init__(self, input_dim, hidden_dim, output_dim):\n",
    "        super(SimpleNeuralNet, self).__init__()\n",
    "        self.layer1 = nn.Sequential(\n",
    "            nn.Linear(input_dim, hidden_dim),\n",
    "            nn.LayerNorm(hidden_dim),\n",
    "            nn.ReLU(),\n",
    "            nn.Dropout(0.1)\n",
    "        )\n",
    "        self.layer2 = nn.Sequential(\n",
    "            nn.Linear(hidden_dim, 128),\n",
    "            nn.LayerNorm(128),\n",
    "            nn.ReLU(),\n",
    "            nn.Dropout(0.1)\n",
    "        )\n",
    "        self.layer3 = nn.Linear(128, output_dim)\n",
    "\n",
    "    def forward(self, x):\n",
    "        x = self.layer1(x)\n",
    "        x = self.layer2(x)\n",
    "        x = self.layer3(x)\n",
    "        return x\n"
   ],
   "id": "7e884b07852f0dc5",
   "outputs": [],
   "execution_count": 9
  },
  {
   "metadata": {
    "ExecuteTime": {
     "end_time": "2024-12-13T01:34:32.671322Z",
     "start_time": "2024-12-13T01:34:32.669761Z"
    }
   },
   "cell_type": "code",
   "source": [
    "input_dim = int(testing_dataset.X[0].shape[0])\n",
    "hidden_dim = int(testing_dataset.X[0].shape[0]/2)"
   ],
   "id": "4b638e0aca6eb7ce",
   "outputs": [],
   "execution_count": 10
  },
  {
   "metadata": {
    "ExecuteTime": {
     "end_time": "2024-12-13T01:34:32.811032Z",
     "start_time": "2024-12-13T01:34:32.711731Z"
    }
   },
   "cell_type": "code",
   "source": [
    "model = SimpleNeuralNet(input_dim=input_dim, hidden_dim=hidden_dim, output_dim=1)\n",
    "model = model.to(\"cuda\")"
   ],
   "id": "24e3e20c0ea171bb",
   "outputs": [],
   "execution_count": 11
  },
  {
   "metadata": {
    "ExecuteTime": {
     "end_time": "2024-12-13T01:34:33.264718Z",
     "start_time": "2024-12-13T01:34:32.814128Z"
    }
   },
   "cell_type": "code",
   "source": [
    "optimizer = optim.AdamW(model.parameters(), lr=1e-3)\n",
    "\n",
    "# num_epochs_10 = 25\n",
    "# scheduler_10 = optim.lr_scheduler.LambdaLR(\n",
    "#     optimizer,\n",
    "#     lr_lambda=lambda epoch: 1e-6 / 1e-3 + (1 - epoch / num_epochs_10) * (1e-3 - 1e-6) / 1e-3\n",
    "# )\n",
    "\n",
    "\n",
    "# num_epochs_5 = 5\n",
    "# scheduler_5 = optim.lr_scheduler.LambdaLR(\n",
    "#     optimizer,\n",
    "#     lr_lambda=lambda epoch: 1e-6 / 1e-3 + (1 - epoch / num_epochs_5) * (1e-3 - 1e-6) / 1e-3\n",
    "# )\n",
    "\n",
    "# # Define total epochs and flat epochs\n",
    "# num_epochs = 10  # Example total epochs\n",
    "# num_step_epochs = 5  # Epochs to step the learning rate down\n",
    "# \n",
    "# # Define the scheduler\n",
    "# START_ = 1e-3\n",
    "# END_ = 1e-5\n",
    "# \n",
    "# scheduler = optim.lr_scheduler.LambdaLR(\n",
    "#     optimizer,\n",
    "#     lr_lambda=lambda epoch: (\n",
    "#         END_ / START_ + (1 - epoch / num_step_epochs) * (START_ - END_) / START_\n",
    "#         if epoch < num_step_epochs\n",
    "#         else END_ / START_\n",
    "#     )\n",
    "# )"
   ],
   "id": "c4f315cb50bafd10",
   "outputs": [],
   "execution_count": 12
  },
  {
   "metadata": {
    "ExecuteTime": {
     "end_time": "2024-12-13T01:34:33.272460Z",
     "start_time": "2024-12-13T01:34:33.270296Z"
    }
   },
   "cell_type": "code",
   "source": [
    "from torch.optim import Optimizer\n",
    "from torch.optim.lr_scheduler import _LRScheduler\n",
    "\n",
    "class FlatLRScheduler(_LRScheduler):\n",
    "    def __init__(self, optimizer: Optimizer, schedule: list, last_epoch: int = -1):\n",
    "        \"\"\"\n",
    "        Custom Learning Rate Scheduler.\n",
    "\n",
    "        Args:\n",
    "            optimizer (Optimizer): Wrapped optimizer.\n",
    "            schedule (list): List of tuples defining (epoch_range, lr_value).\n",
    "                             Example: [(9, 1e-3), (8, 1e-4), (8, 1e-5)]\n",
    "            last_epoch (int): The index of the last epoch. Default is -1.\n",
    "        \"\"\"\n",
    "        self.schedule = []\n",
    "        total_epochs = 0\n",
    "        for epochs, lr in schedule:\n",
    "            total_epochs += epochs\n",
    "            self.schedule.append((total_epochs, lr))\n",
    "        super().__init__(optimizer, last_epoch)\n",
    "\n",
    "    def get_lr(self):\n",
    "        current_epoch = self.last_epoch + 1\n",
    "        for end_epoch, lr in self.schedule:\n",
    "            if current_epoch <= end_epoch:\n",
    "                return [lr for _ in self.optimizer.param_groups]\n",
    "        raise ValueError(f\"Epoch {current_epoch} is out of range for the provided schedule.\")\n",
    "    \n",
    "# Define the schedule: [(9 epochs at 1e-3), (8 epochs at 1e-4), (8 epochs at 1e-5)]\n",
    "# schedule = [(9, 1e-3), (8, 1e-4), (8, 1e-5)]\n",
    "# schedule = [(10, 1e-3), (10, 1e-4), (5, 1e-5)]\n",
    "schedule = [(15, 1e-3), (16, 1e-4)] # THIS SHOULD BE ONE LONGER THAN NUM_EPOCHS TO AVOID OFF BY ONE ERROR\n",
    "\n",
    "# Initialize the custom scheduler\n",
    "scheduler = FlatLRScheduler(optimizer, schedule)\n"
   ],
   "id": "dfa2d269db373b4d",
   "outputs": [],
   "execution_count": 13
  },
  {
   "metadata": {
    "ExecuteTime": {
     "end_time": "2024-12-13T01:34:33.317508Z",
     "start_time": "2024-12-13T01:34:33.316285Z"
    }
   },
   "cell_type": "code",
   "source": "criterion = nn.MSELoss()",
   "id": "a66813dbd2f0b6a3",
   "outputs": [],
   "execution_count": 14
  },
  {
   "metadata": {
    "ExecuteTime": {
     "end_time": "2024-12-13T01:34:33.360632Z",
     "start_time": "2024-12-13T01:34:33.359386Z"
    }
   },
   "cell_type": "code",
   "source": "num_epochs = 30",
   "id": "9c42c8e272b89baf",
   "outputs": [],
   "execution_count": 15
  },
  {
   "metadata": {
    "ExecuteTime": {
     "end_time": "2024-12-13T01:34:33.404229Z",
     "start_time": "2024-12-13T01:34:33.402736Z"
    }
   },
   "cell_type": "code",
   "source": [
    "# Prepare data loaders\n",
    "batch_size = 256\n",
    "train_loader = DataLoader(training_dataset, batch_size=batch_size, shuffle=True)\n",
    "test_loader = DataLoader(testing_dataset, batch_size=batch_size, shuffle=False)\n"
   ],
   "id": "b595c2c2de42eecd",
   "outputs": [],
   "execution_count": 16
  },
  {
   "metadata": {
    "ExecuteTime": {
     "end_time": "2024-12-13T01:34:37.185326Z",
     "start_time": "2024-12-13T01:34:33.446575Z"
    }
   },
   "cell_type": "code",
   "source": [
    "train_losses = []\n",
    "test_losses = []\n",
    "lr_s = []\n",
    "\n",
    "for epoch_num in range(num_epochs):\n",
    "    \n",
    "    test_loss = 0.0\n",
    "    model.eval()\n",
    "    with torch.no_grad():\n",
    "        # for inputs, labels in tqdm(test_loader, desc=f\"Testing Epoch {epoch_num}\"):\n",
    "        for inputs, labels in test_loader:\n",
    "            inputs, labels = inputs.to(\"cuda\"), labels.to(\"cuda\")\n",
    "            outputs = model(inputs)\n",
    "            loss = criterion(outputs.squeeze(-1), labels)\n",
    "            # test_loss += loss.item()\n",
    "            test_loss += loss.item() * inputs.size(0)  # Multiply batch loss by batch size\n",
    "        avg_loss = test_loss/len(testing_dataset)\n",
    "        test_losses.append(avg_loss)\n",
    "        print(f\"TEST LOSS: PRE Epoch-{epoch_num}, we have {avg_loss:.4f}\")\n",
    "        \n",
    "\n",
    "    model.train()\n",
    "    train_loss = 0.0\n",
    "\n",
    "    for inputs, labels in tqdm(train_loader, desc=f\"Training Epoch {epoch_num}\"):\n",
    "        inputs, labels = inputs.to(\"cuda\"), labels.to(\"cuda\")\n",
    "\n",
    "        # Zero the parameter gradients\n",
    "        optimizer.zero_grad()\n",
    "\n",
    "        # Forward pass\n",
    "        outputs = model(inputs)\n",
    "        # loss = criterion(outputs, labels) # MY MSITAKE - DO NOT DO THIS\n",
    "        loss = criterion(outputs.squeeze(-1), labels)\n",
    "\n",
    "        # Backward pass and optimization\n",
    "        loss.backward()\n",
    "        optimizer.step()\n",
    "\n",
    "        # train_loss += loss.item()\n",
    "        train_loss += loss.item() * inputs.size(0)  # Multiply batch loss by batch size\n",
    "    avg_loss = train_loss/len(training_dataset) # /len(train_dataset) ?? TODO\n",
    "    train_losses.append(avg_loss)  \n",
    "    print(f\"TRAIN LOSS: On Epoch-{epoch_num}, we have {avg_loss:.4f}\")\n",
    "    # scheduler_10.step()\n",
    "    # print(f\"Epoch {epoch_num + 1}, LR: {scheduler_10.get_last_lr()[0]}\")\n",
    "    # scheduler_5.step()\n",
    "    # scheduler.step()\n",
    "    # print(f\"Epoch {epoch + 1}, LR: {scheduler.get_last_lr()[0]:.6f}\")\n",
    "    # lr_s.append(scheduler.get_last_lr()[0])\n",
    "    scheduler.step()\n",
    "    current_lr = scheduler.get_last_lr()\n",
    "    # print(f\"Epoch {epoch_num + 1}: Learning Rate: {current_lr}\")\n",
    "    lr_s.append(current_lr)\n",
    "\n",
    "        \n",
    "        "
   ],
   "id": "d04b590217f2da4f",
   "outputs": [
    {
     "name": "stdout",
     "output_type": "stream",
     "text": [
      "TEST LOSS: PRE Epoch-0, we have 118.8037\n"
     ]
    },
    {
     "data": {
      "text/plain": [
       "Training Epoch 0:   0%|          | 0/41 [00:00<?, ?it/s]"
      ],
      "application/vnd.jupyter.widget-view+json": {
       "version_major": 2,
       "version_minor": 0,
       "model_id": "4110b38d791e437ca010c0483f03a9d7"
      }
     },
     "metadata": {},
     "output_type": "display_data"
    },
    {
     "name": "stdout",
     "output_type": "stream",
     "text": [
      "TRAIN LOSS: On Epoch-0, we have 85.7285\n",
      "TEST LOSS: PRE Epoch-1, we have 77.4781\n"
     ]
    },
    {
     "data": {
      "text/plain": [
       "Training Epoch 1:   0%|          | 0/41 [00:00<?, ?it/s]"
      ],
      "application/vnd.jupyter.widget-view+json": {
       "version_major": 2,
       "version_minor": 0,
       "model_id": "be2d3fe2ed42485aa682b3097d32cf01"
      }
     },
     "metadata": {},
     "output_type": "display_data"
    },
    {
     "name": "stdout",
     "output_type": "stream",
     "text": [
      "TRAIN LOSS: On Epoch-1, we have 81.1344\n",
      "TEST LOSS: PRE Epoch-2, we have 77.0211\n"
     ]
    },
    {
     "data": {
      "text/plain": [
       "Training Epoch 2:   0%|          | 0/41 [00:00<?, ?it/s]"
      ],
      "application/vnd.jupyter.widget-view+json": {
       "version_major": 2,
       "version_minor": 0,
       "model_id": "ebb9dbc8a5d14e5aaac5d29deac6f72f"
      }
     },
     "metadata": {},
     "output_type": "display_data"
    },
    {
     "name": "stdout",
     "output_type": "stream",
     "text": [
      "TRAIN LOSS: On Epoch-2, we have 77.4890\n",
      "TEST LOSS: PRE Epoch-3, we have 65.3890\n"
     ]
    },
    {
     "data": {
      "text/plain": [
       "Training Epoch 3:   0%|          | 0/41 [00:00<?, ?it/s]"
      ],
      "application/vnd.jupyter.widget-view+json": {
       "version_major": 2,
       "version_minor": 0,
       "model_id": "9ea6ca54be91413a959df2b3349cf83a"
      }
     },
     "metadata": {},
     "output_type": "display_data"
    },
    {
     "name": "stdout",
     "output_type": "stream",
     "text": [
      "TRAIN LOSS: On Epoch-3, we have 58.7083\n",
      "TEST LOSS: PRE Epoch-4, we have 43.9166\n"
     ]
    },
    {
     "data": {
      "text/plain": [
       "Training Epoch 4:   0%|          | 0/41 [00:00<?, ?it/s]"
      ],
      "application/vnd.jupyter.widget-view+json": {
       "version_major": 2,
       "version_minor": 0,
       "model_id": "76eb638c6ba5411d9adea97e014ae686"
      }
     },
     "metadata": {},
     "output_type": "display_data"
    },
    {
     "name": "stdout",
     "output_type": "stream",
     "text": [
      "TRAIN LOSS: On Epoch-4, we have 40.8170\n",
      "TEST LOSS: PRE Epoch-5, we have 31.5260\n"
     ]
    },
    {
     "data": {
      "text/plain": [
       "Training Epoch 5:   0%|          | 0/41 [00:00<?, ?it/s]"
      ],
      "application/vnd.jupyter.widget-view+json": {
       "version_major": 2,
       "version_minor": 0,
       "model_id": "45cc69a63ad548c5a32ecc930e6d4c42"
      }
     },
     "metadata": {},
     "output_type": "display_data"
    },
    {
     "name": "stdout",
     "output_type": "stream",
     "text": [
      "TRAIN LOSS: On Epoch-5, we have 29.2154\n",
      "TEST LOSS: PRE Epoch-6, we have 21.9403\n"
     ]
    },
    {
     "data": {
      "text/plain": [
       "Training Epoch 6:   0%|          | 0/41 [00:00<?, ?it/s]"
      ],
      "application/vnd.jupyter.widget-view+json": {
       "version_major": 2,
       "version_minor": 0,
       "model_id": "f90dbd58cad942c5b6f60c8908e6d643"
      }
     },
     "metadata": {},
     "output_type": "display_data"
    },
    {
     "name": "stdout",
     "output_type": "stream",
     "text": [
      "TRAIN LOSS: On Epoch-6, we have 21.9719\n",
      "TEST LOSS: PRE Epoch-7, we have 15.6693\n"
     ]
    },
    {
     "data": {
      "text/plain": [
       "Training Epoch 7:   0%|          | 0/41 [00:00<?, ?it/s]"
      ],
      "application/vnd.jupyter.widget-view+json": {
       "version_major": 2,
       "version_minor": 0,
       "model_id": "358cf61f477c492495cfc02fe98d622b"
      }
     },
     "metadata": {},
     "output_type": "display_data"
    },
    {
     "name": "stdout",
     "output_type": "stream",
     "text": [
      "TRAIN LOSS: On Epoch-7, we have 16.1823\n",
      "TEST LOSS: PRE Epoch-8, we have 11.7062\n"
     ]
    },
    {
     "data": {
      "text/plain": [
       "Training Epoch 8:   0%|          | 0/41 [00:00<?, ?it/s]"
      ],
      "application/vnd.jupyter.widget-view+json": {
       "version_major": 2,
       "version_minor": 0,
       "model_id": "152f8531e0ab4bd1a043446a992f7add"
      }
     },
     "metadata": {},
     "output_type": "display_data"
    },
    {
     "name": "stdout",
     "output_type": "stream",
     "text": [
      "TRAIN LOSS: On Epoch-8, we have 13.1398\n",
      "TEST LOSS: PRE Epoch-9, we have 10.0419\n"
     ]
    },
    {
     "data": {
      "text/plain": [
       "Training Epoch 9:   0%|          | 0/41 [00:00<?, ?it/s]"
      ],
      "application/vnd.jupyter.widget-view+json": {
       "version_major": 2,
       "version_minor": 0,
       "model_id": "29dca62fc9b54e01a63424d0ad2814eb"
      }
     },
     "metadata": {},
     "output_type": "display_data"
    },
    {
     "name": "stdout",
     "output_type": "stream",
     "text": [
      "TRAIN LOSS: On Epoch-9, we have 9.7798\n",
      "TEST LOSS: PRE Epoch-10, we have 7.2362\n"
     ]
    },
    {
     "data": {
      "text/plain": [
       "Training Epoch 10:   0%|          | 0/41 [00:00<?, ?it/s]"
      ],
      "application/vnd.jupyter.widget-view+json": {
       "version_major": 2,
       "version_minor": 0,
       "model_id": "95aae6c189c84602b7a48d20e8fbf9ad"
      }
     },
     "metadata": {},
     "output_type": "display_data"
    },
    {
     "name": "stdout",
     "output_type": "stream",
     "text": [
      "TRAIN LOSS: On Epoch-10, we have 7.9147\n",
      "TEST LOSS: PRE Epoch-11, we have 6.5953\n"
     ]
    },
    {
     "data": {
      "text/plain": [
       "Training Epoch 11:   0%|          | 0/41 [00:00<?, ?it/s]"
      ],
      "application/vnd.jupyter.widget-view+json": {
       "version_major": 2,
       "version_minor": 0,
       "model_id": "8298672b4e6a4c6f9932e998d241ac2f"
      }
     },
     "metadata": {},
     "output_type": "display_data"
    },
    {
     "name": "stdout",
     "output_type": "stream",
     "text": [
      "TRAIN LOSS: On Epoch-11, we have 6.8823\n",
      "TEST LOSS: PRE Epoch-12, we have 5.6833\n"
     ]
    },
    {
     "data": {
      "text/plain": [
       "Training Epoch 12:   0%|          | 0/41 [00:00<?, ?it/s]"
      ],
      "application/vnd.jupyter.widget-view+json": {
       "version_major": 2,
       "version_minor": 0,
       "model_id": "02c08034bd994494bfe7a7bd01193e00"
      }
     },
     "metadata": {},
     "output_type": "display_data"
    },
    {
     "name": "stdout",
     "output_type": "stream",
     "text": [
      "TRAIN LOSS: On Epoch-12, we have 7.0893\n",
      "TEST LOSS: PRE Epoch-13, we have 4.7853\n"
     ]
    },
    {
     "data": {
      "text/plain": [
       "Training Epoch 13:   0%|          | 0/41 [00:00<?, ?it/s]"
      ],
      "application/vnd.jupyter.widget-view+json": {
       "version_major": 2,
       "version_minor": 0,
       "model_id": "b243ae7bce02477ebbe23697e45ea14a"
      }
     },
     "metadata": {},
     "output_type": "display_data"
    },
    {
     "name": "stdout",
     "output_type": "stream",
     "text": [
      "TRAIN LOSS: On Epoch-13, we have 6.6705\n",
      "TEST LOSS: PRE Epoch-14, we have 4.8360\n"
     ]
    },
    {
     "data": {
      "text/plain": [
       "Training Epoch 14:   0%|          | 0/41 [00:00<?, ?it/s]"
      ],
      "application/vnd.jupyter.widget-view+json": {
       "version_major": 2,
       "version_minor": 0,
       "model_id": "5effc48d602a4ebd8643dddb5f0afa12"
      }
     },
     "metadata": {},
     "output_type": "display_data"
    },
    {
     "name": "stdout",
     "output_type": "stream",
     "text": [
      "TRAIN LOSS: On Epoch-14, we have 5.7694\n",
      "TEST LOSS: PRE Epoch-15, we have 4.8678\n"
     ]
    },
    {
     "data": {
      "text/plain": [
       "Training Epoch 15:   0%|          | 0/41 [00:00<?, ?it/s]"
      ],
      "application/vnd.jupyter.widget-view+json": {
       "version_major": 2,
       "version_minor": 0,
       "model_id": "261c937ed7ac40dfa41eae1d196439d9"
      }
     },
     "metadata": {},
     "output_type": "display_data"
    },
    {
     "name": "stdout",
     "output_type": "stream",
     "text": [
      "TRAIN LOSS: On Epoch-15, we have 4.5653\n",
      "TEST LOSS: PRE Epoch-16, we have 4.2092\n"
     ]
    },
    {
     "data": {
      "text/plain": [
       "Training Epoch 16:   0%|          | 0/41 [00:00<?, ?it/s]"
      ],
      "application/vnd.jupyter.widget-view+json": {
       "version_major": 2,
       "version_minor": 0,
       "model_id": "5f98947c25a4445dbd41797e4de84334"
      }
     },
     "metadata": {},
     "output_type": "display_data"
    },
    {
     "name": "stdout",
     "output_type": "stream",
     "text": [
      "TRAIN LOSS: On Epoch-16, we have 4.1935\n",
      "TEST LOSS: PRE Epoch-17, we have 3.8632\n"
     ]
    },
    {
     "data": {
      "text/plain": [
       "Training Epoch 17:   0%|          | 0/41 [00:00<?, ?it/s]"
      ],
      "application/vnd.jupyter.widget-view+json": {
       "version_major": 2,
       "version_minor": 0,
       "model_id": "677ce3478169496fa62d101c4bbc8b2a"
      }
     },
     "metadata": {},
     "output_type": "display_data"
    },
    {
     "name": "stdout",
     "output_type": "stream",
     "text": [
      "TRAIN LOSS: On Epoch-17, we have 4.1748\n",
      "TEST LOSS: PRE Epoch-18, we have 3.7444\n"
     ]
    },
    {
     "data": {
      "text/plain": [
       "Training Epoch 18:   0%|          | 0/41 [00:00<?, ?it/s]"
      ],
      "application/vnd.jupyter.widget-view+json": {
       "version_major": 2,
       "version_minor": 0,
       "model_id": "011f4f0e4f4247629388a7c716f73952"
      }
     },
     "metadata": {},
     "output_type": "display_data"
    },
    {
     "name": "stdout",
     "output_type": "stream",
     "text": [
      "TRAIN LOSS: On Epoch-18, we have 4.0421\n",
      "TEST LOSS: PRE Epoch-19, we have 3.6441\n"
     ]
    },
    {
     "data": {
      "text/plain": [
       "Training Epoch 19:   0%|          | 0/41 [00:00<?, ?it/s]"
      ],
      "application/vnd.jupyter.widget-view+json": {
       "version_major": 2,
       "version_minor": 0,
       "model_id": "7506e219e52f4b59bca1130d12c01344"
      }
     },
     "metadata": {},
     "output_type": "display_data"
    },
    {
     "name": "stdout",
     "output_type": "stream",
     "text": [
      "TRAIN LOSS: On Epoch-19, we have 4.1268\n",
      "TEST LOSS: PRE Epoch-20, we have 3.6816\n"
     ]
    },
    {
     "data": {
      "text/plain": [
       "Training Epoch 20:   0%|          | 0/41 [00:00<?, ?it/s]"
      ],
      "application/vnd.jupyter.widget-view+json": {
       "version_major": 2,
       "version_minor": 0,
       "model_id": "48a98e66ed2c4edd8c042c721afc163e"
      }
     },
     "metadata": {},
     "output_type": "display_data"
    },
    {
     "name": "stdout",
     "output_type": "stream",
     "text": [
      "TRAIN LOSS: On Epoch-20, we have 4.1729\n",
      "TEST LOSS: PRE Epoch-21, we have 3.6337\n"
     ]
    },
    {
     "data": {
      "text/plain": [
       "Training Epoch 21:   0%|          | 0/41 [00:00<?, ?it/s]"
      ],
      "application/vnd.jupyter.widget-view+json": {
       "version_major": 2,
       "version_minor": 0,
       "model_id": "4064303903a643d89a04cf61ea92ac33"
      }
     },
     "metadata": {},
     "output_type": "display_data"
    },
    {
     "name": "stdout",
     "output_type": "stream",
     "text": [
      "TRAIN LOSS: On Epoch-21, we have 3.9840\n",
      "TEST LOSS: PRE Epoch-22, we have 3.5498\n"
     ]
    },
    {
     "data": {
      "text/plain": [
       "Training Epoch 22:   0%|          | 0/41 [00:00<?, ?it/s]"
      ],
      "application/vnd.jupyter.widget-view+json": {
       "version_major": 2,
       "version_minor": 0,
       "model_id": "e6b416e6c658497f8724302e569e887f"
      }
     },
     "metadata": {},
     "output_type": "display_data"
    },
    {
     "name": "stdout",
     "output_type": "stream",
     "text": [
      "TRAIN LOSS: On Epoch-22, we have 4.0892\n",
      "TEST LOSS: PRE Epoch-23, we have 3.7049\n"
     ]
    },
    {
     "data": {
      "text/plain": [
       "Training Epoch 23:   0%|          | 0/41 [00:00<?, ?it/s]"
      ],
      "application/vnd.jupyter.widget-view+json": {
       "version_major": 2,
       "version_minor": 0,
       "model_id": "9d0a6be6c0184e51b8d3141c9d35d1fa"
      }
     },
     "metadata": {},
     "output_type": "display_data"
    },
    {
     "name": "stdout",
     "output_type": "stream",
     "text": [
      "TRAIN LOSS: On Epoch-23, we have 3.9802\n",
      "TEST LOSS: PRE Epoch-24, we have 3.4570\n"
     ]
    },
    {
     "data": {
      "text/plain": [
       "Training Epoch 24:   0%|          | 0/41 [00:00<?, ?it/s]"
      ],
      "application/vnd.jupyter.widget-view+json": {
       "version_major": 2,
       "version_minor": 0,
       "model_id": "cdb9ecc4aff84f35967d931a6811b34c"
      }
     },
     "metadata": {},
     "output_type": "display_data"
    },
    {
     "name": "stdout",
     "output_type": "stream",
     "text": [
      "TRAIN LOSS: On Epoch-24, we have 3.8691\n",
      "TEST LOSS: PRE Epoch-25, we have 3.5197\n"
     ]
    },
    {
     "data": {
      "text/plain": [
       "Training Epoch 25:   0%|          | 0/41 [00:00<?, ?it/s]"
      ],
      "application/vnd.jupyter.widget-view+json": {
       "version_major": 2,
       "version_minor": 0,
       "model_id": "2acb07a96bcd4cd1bae10022176b47c6"
      }
     },
     "metadata": {},
     "output_type": "display_data"
    },
    {
     "name": "stdout",
     "output_type": "stream",
     "text": [
      "TRAIN LOSS: On Epoch-25, we have 3.8825\n",
      "TEST LOSS: PRE Epoch-26, we have 3.4658\n"
     ]
    },
    {
     "data": {
      "text/plain": [
       "Training Epoch 26:   0%|          | 0/41 [00:00<?, ?it/s]"
      ],
      "application/vnd.jupyter.widget-view+json": {
       "version_major": 2,
       "version_minor": 0,
       "model_id": "e8e1917745074e80a9033feb44b73738"
      }
     },
     "metadata": {},
     "output_type": "display_data"
    },
    {
     "name": "stdout",
     "output_type": "stream",
     "text": [
      "TRAIN LOSS: On Epoch-26, we have 3.8853\n",
      "TEST LOSS: PRE Epoch-27, we have 3.4012\n"
     ]
    },
    {
     "data": {
      "text/plain": [
       "Training Epoch 27:   0%|          | 0/41 [00:00<?, ?it/s]"
      ],
      "application/vnd.jupyter.widget-view+json": {
       "version_major": 2,
       "version_minor": 0,
       "model_id": "f28151fe9ea9421c924230c1a5c953f8"
      }
     },
     "metadata": {},
     "output_type": "display_data"
    },
    {
     "name": "stdout",
     "output_type": "stream",
     "text": [
      "TRAIN LOSS: On Epoch-27, we have 3.9367\n",
      "TEST LOSS: PRE Epoch-28, we have 3.5947\n"
     ]
    },
    {
     "data": {
      "text/plain": [
       "Training Epoch 28:   0%|          | 0/41 [00:00<?, ?it/s]"
      ],
      "application/vnd.jupyter.widget-view+json": {
       "version_major": 2,
       "version_minor": 0,
       "model_id": "6cdcfe04832c46d2bd8028fa3ae7b7f0"
      }
     },
     "metadata": {},
     "output_type": "display_data"
    },
    {
     "name": "stdout",
     "output_type": "stream",
     "text": [
      "TRAIN LOSS: On Epoch-28, we have 3.7849\n",
      "TEST LOSS: PRE Epoch-29, we have 3.4152\n"
     ]
    },
    {
     "data": {
      "text/plain": [
       "Training Epoch 29:   0%|          | 0/41 [00:00<?, ?it/s]"
      ],
      "application/vnd.jupyter.widget-view+json": {
       "version_major": 2,
       "version_minor": 0,
       "model_id": "2764e1015a3b4df3b06871d7d8f9e661"
      }
     },
     "metadata": {},
     "output_type": "display_data"
    },
    {
     "name": "stdout",
     "output_type": "stream",
     "text": [
      "TRAIN LOSS: On Epoch-29, we have 3.6768\n"
     ]
    }
   ],
   "execution_count": 17
  },
  {
   "metadata": {
    "ExecuteTime": {
     "end_time": "2024-12-13T01:34:37.249004Z",
     "start_time": "2024-12-13T01:34:37.247916Z"
    }
   },
   "cell_type": "code",
   "source": "",
   "id": "858bc3ff06a7f73a",
   "outputs": [],
   "execution_count": null
  },
  {
   "metadata": {
    "ExecuteTime": {
     "end_time": "2024-12-13T01:34:56.355637Z",
     "start_time": "2024-12-13T01:34:56.316386Z"
    }
   },
   "cell_type": "code",
   "source": "plt.plot(train_losses)",
   "id": "94cfe7edf10a146b",
   "outputs": [
    {
     "data": {
      "text/plain": [
       "[<matplotlib.lines.Line2D at 0x7c9f8f4e5130>]"
      ]
     },
     "execution_count": 22,
     "metadata": {},
     "output_type": "execute_result"
    },
    {
     "data": {
      "text/plain": [
       "<Figure size 640x480 with 1 Axes>"
      ],
      "image/png": "[encoded data removed]"
     },
     "metadata": {},
     "output_type": "display_data"
    }
   ],
   "execution_count": 22
  },
  {
   "metadata": {
    "ExecuteTime": {
     "end_time": "2024-12-13T01:34:37.386327Z",
     "start_time": "2024-12-13T01:34:37.348859Z"
    }
   },
   "cell_type": "code",
   "source": "plt.plot(test_losses)",
   "id": "7c7477e38872d15",
   "outputs": [
    {
     "data": {
      "text/plain": [
       "[<matplotlib.lines.Line2D at 0x7c9f8f5dbf20>]"
      ]
     },
     "execution_count": 19,
     "metadata": {},
     "output_type": "execute_result"
    },
    {
     "data": {
      "text/plain": [
       "<Figure size 640x480 with 1 Axes>"
      ],
      "image/png": "[encoded data removed]"
     },
     "metadata": {},
     "output_type": "display_data"
    }
   ],
   "execution_count": 19
  },
  {
   "metadata": {
    "ExecuteTime": {
     "end_time": "2024-12-13T01:35:15.969504Z",
     "start_time": "2024-12-13T01:35:15.851112Z"
    }
   },
   "cell_type": "code",
   "source": "plt.plot(test_losses[15:])",
   "id": "a373dc1190b884b",
   "outputs": [
    {
     "data": {
      "text/plain": [
       "[<matplotlib.lines.Line2D at 0x7c9f8f360860>]"
      ]
     },
     "execution_count": 25,
     "metadata": {},
     "output_type": "execute_result"
    },
    {
     "data": {
      "text/plain": [
       "<Figure size 640x480 with 1 Axes>"
      ],
      "image/png": "[encoded data removed]"
     },
     "metadata": {},
     "output_type": "display_data"
    }
   ],
   "execution_count": 25
  },
  {
   "metadata": {
    "ExecuteTime": {
     "end_time": "2024-12-13T01:34:37.432215Z",
     "start_time": "2024-12-13T01:34:37.395837Z"
    }
   },
   "cell_type": "code",
   "source": "plt.plot(lr_s)",
   "id": "30871d2f6f796277",
   "outputs": [
    {
     "data": {
      "text/plain": [
       "[<matplotlib.lines.Line2D at 0x7c9f8f475550>]"
      ]
     },
     "execution_count": 20,
     "metadata": {},
     "output_type": "execute_result"
    },
    {
     "data": {
      "text/plain": [
       "<Figure size 640x480 with 1 Axes>"
      ],
      "image/png": "[encoded data removed]"
     },
     "metadata": {},
     "output_type": "display_data"
    }
   ],
   "execution_count": 20
  },
  {
   "metadata": {
    "ExecuteTime": {
     "end_time": "2024-12-13T01:34:37.455331Z",
     "start_time": "2024-12-13T01:34:37.454350Z"
    }
   },
   "cell_type": "code",
   "source": "",
   "id": "6d2b1c5541168ac4",
   "outputs": [],
   "execution_count": null
  },
  {
   "metadata": {
    "ExecuteTime": {
     "end_time": "2024-12-13T01:34:37.500124Z",
     "start_time": "2024-12-13T01:34:37.482982Z"
    }
   },
   "cell_type": "code",
   "source": [
    "val_loader = DataLoader(val_dataset, batch_size=batch_size, shuffle=False)\n",
    "\n",
    "val_loss = 0.0\n",
    "model.eval()\n",
    "with torch.no_grad():\n",
    "    # for inputs, labels in tqdm(test_loader, desc=f\"Testing Epoch {epoch_num}\"):\n",
    "    for inputs, labels in test_loader:\n",
    "        inputs, labels = inputs.to(\"cuda\"), labels.to(\"cuda\")\n",
    "        outputs = model(inputs)\n",
    "        loss = criterion(outputs.squeeze(-1), labels)\n",
    "        # test_loss += loss.item()\n",
    "        val_loss += loss.item() * inputs.size(0)  # Multiply batch loss by batch size\n",
    "    avg_loss = val_loss/len(testing_dataset)\n",
    "    print(f\"ON VAL SET, ACHIEVED {avg_loss:.4f}\")"
   ],
   "id": "402409a7ef3f90b8",
   "outputs": [
    {
     "name": "stdout",
     "output_type": "stream",
     "text": [
      "ON VAL SET, ACHIEVED 3.5315\n"
     ]
    }
   ],
   "execution_count": 21
  },
  {
   "metadata": {
    "ExecuteTime": {
     "end_time": "2024-12-13T01:34:37.528915Z",
     "start_time": "2024-12-13T01:34:37.527831Z"
    }
   },
   "cell_type": "code",
   "source": "",
   "id": "1ba4307cd50ee010",
   "outputs": [],
   "execution_count": null
  },
  {
   "metadata": {
    "ExecuteTime": {
     "end_time": "2024-12-13T01:34:37.572064Z",
     "start_time": "2024-12-13T01:34:37.570829Z"
    }
   },
   "cell_type": "code",
   "source": "",
   "id": "f4c71ad0c33f159",
   "outputs": [],
   "execution_count": null
  },
  {
   "metadata": {
    "ExecuteTime": {
     "end_time": "2024-12-13T01:34:37.613823Z",
     "start_time": "2024-12-13T01:34:37.612785Z"
    }
   },
   "cell_type": "code",
   "source": "",
   "id": "f3c1e898837f053f",
   "outputs": [],
   "execution_count": null
  },
  {
   "metadata": {
    "ExecuteTime": {
     "end_time": "2024-12-13T01:34:37.655828Z",
     "start_time": "2024-12-13T01:34:37.654794Z"
    }
   },
   "cell_type": "code",
   "source": "",
   "id": "235e10d7a67ef628",
   "outputs": [],
   "execution_count": null
  },
  {
   "metadata": {
    "ExecuteTime": {
     "end_time": "2024-12-13T01:34:37.698030Z",
     "start_time": "2024-12-13T01:34:37.696936Z"
    }
   },
   "cell_type": "code",
   "source": "\n",
   "id": "f5c87f5e53320772",
   "outputs": [],
   "execution_count": 21
  },
  {
   "metadata": {
    "ExecuteTime": {
     "end_time": "2024-12-13T01:34:37.739874Z",
     "start_time": "2024-12-13T01:34:37.738812Z"
    }
   },
   "cell_type": "code",
   "source": "",
   "id": "942812119a61fe48",
   "outputs": [],
   "execution_count": null
  },
  {
   "metadata": {
    "ExecuteTime": {
     "end_time": "2024-12-13T01:34:37.783265Z",
     "start_time": "2024-12-13T01:34:37.782060Z"
    }
   },
   "cell_type": "code",
   "source": "",
   "id": "31499e4b71196ec",
   "outputs": [],
   "execution_count": null
  },
  {
   "metadata": {
    "ExecuteTime": {
     "end_time": "2024-12-13T01:34:37.825865Z",
     "start_time": "2024-12-13T01:34:37.824828Z"
    }
   },
   "cell_type": "code",
   "source": "",
   "id": "9d026d0ebb627f81",
   "outputs": [],
   "execution_count": null
  },
  {
   "metadata": {
    "ExecuteTime": {
     "end_time": "2024-12-13T01:34:37.867822Z",
     "start_time": "2024-12-13T01:34:37.866785Z"
    }
   },
   "cell_type": "code",
   "source": "",
   "id": "31ab04797e92617",
   "outputs": [],
   "execution_count": null
  },
  {
   "metadata": {
    "ExecuteTime": {
     "end_time": "2024-12-13T01:34:37.909835Z",
     "start_time": "2024-12-13T01:34:37.908798Z"
    }
   },
   "cell_type": "code",
   "source": "",
   "id": "1a41f8f485a1e4d7",
   "outputs": [],
   "execution_count": null
  }
 ],
 "metadata": {
  "kernelspec": {
   "display_name": "Python 3",
   "language": "python",
   "name": "python3"
  },
  "language_info": {
   "codemirror_mode": {
    "name": "ipython",
    "version": 2
   },
   "file_extension": ".py",
   "mimetype": "text/x-python",
   "name": "python",
   "nbconvert_exporter": "python",
   "pygments_lexer": "ipython2",
   "version": "2.7.6"
  }
 },
 "nbformat": 4,
 "nbformat_minor": 5
}
