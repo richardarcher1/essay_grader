{
 "cells": [
  {
   "cell_type": "code",
   "id": "initial_id",
   "metadata": {
    "collapsed": true,
    "ExecuteTime": {
     "end_time": "2024-12-11T18:13:26.526849Z",
     "start_time": "2024-12-11T18:13:26.523939Z"
    }
   },
   "source": [
    "import numpy as np\n",
    "import polars as pl"
   ],
   "outputs": [],
   "execution_count": 10
  },
  {
   "metadata": {
    "ExecuteTime": {
     "end_time": "2024-12-11T18:12:06.586928Z",
     "start_time": "2024-12-11T18:12:06.457487Z"
    }
   },
   "cell_type": "code",
   "source": [
    "df = pl.read_excel('unzipped/training_set_rel3.xlsx').filter(pl.col('domain1_score').is_not_null())\n",
    "\n",
    "df = df.select([\n",
    "    pl.col('essay_id').alias('id'),\n",
    "    pl.col('essay').alias('text'),\n",
    "    pl.col('domain1_score').alias('score')\n",
    "])\n"
   ],
   "id": "b8058ac32ab33119",
   "outputs": [],
   "execution_count": 9
  },
  {
   "metadata": {
    "ExecuteTime": {
     "end_time": "2024-12-11T18:13:51.201364Z",
     "start_time": "2024-12-11T18:13:51.192303Z"
    }
   },
   "cell_type": "code",
   "source": [
    "np.random.seed(42)  # For reproducibility\n",
    "assignments = np.random.choice([1, 2, 3], size=len(df), p=[0.8, 0.15, 0.05])\n",
    "df = df.with_columns(pl.Series(assignments).alias('assign'))\n",
    "\n",
    "# Split the dataframe based on 'assign'\n",
    "training = df.filter(pl.col('assign') == 1)\n",
    "testing = df.filter(pl.col('assign') == 2)\n",
    "val = df.filter(pl.col('assign') == 3)"
   ],
   "id": "e32855a349305bd4",
   "outputs": [],
   "execution_count": 12
  },
  {
   "metadata": {
    "ExecuteTime": {
     "end_time": "2024-12-11T18:21:07.013196Z",
     "start_time": "2024-12-11T18:21:06.994736Z"
    }
   },
   "cell_type": "code",
   "source": [
    "training.write_csv('data/imported/training.csv')\n",
    "testing.write_csv('data/imported/testing.csv')\n",
    "val.write_csv('data/imported/val.csv')"
   ],
   "id": "c9b7d4ae5efbad5d",
   "outputs": [],
   "execution_count": 15
  },
  {
   "metadata": {
    "ExecuteTime": {
     "end_time": "2024-12-11T18:21:11.172736Z",
     "start_time": "2024-12-11T18:21:10.962317Z"
    }
   },
   "cell_type": "code",
   "source": "!ls data/imported",
   "id": "a8ceb4a74746ab8b",
   "outputs": [
    {
     "name": "stdout",
     "output_type": "stream",
     "text": [
      "testing.csv  training.csv  val.csv\r\n"
     ]
    }
   ],
   "execution_count": 16
  }
 ],
 "metadata": {
  "kernelspec": {
   "display_name": "Python 3",
   "language": "python",
   "name": "python3"
  },
  "language_info": {
   "codemirror_mode": {
    "name": "ipython",
    "version": 2
   },
   "file_extension": ".py",
   "mimetype": "text/x-python",
   "name": "python",
   "nbconvert_exporter": "python",
   "pygments_lexer": "ipython2",
   "version": "2.7.6"
  }
 },
 "nbformat": 4,
 "nbformat_minor": 5
}
