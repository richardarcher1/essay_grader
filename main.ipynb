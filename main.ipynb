{
 "cells": [
  {
   "metadata": {
    "ExecuteTime": {
     "end_time": "2024-12-13T20:49:10.260762Z",
     "start_time": "2024-12-13T20:49:10.036645Z"
    }
   },
   "cell_type": "code",
   "source": [
    "import polars as pl\n",
    "import matplotlib.pyplot as plt"
   ],
   "id": "a9a52b545f90a6a0",
   "outputs": [],
   "execution_count": 1
  },
  {
   "metadata": {
    "ExecuteTime": {
     "end_time": "2024-12-13T20:51:20.035412Z",
     "start_time": "2024-12-13T20:51:20.033718Z"
    }
   },
   "cell_type": "code",
   "source": "# !ls outputs/predictions",
   "id": "31c9871c4dd6fba6",
   "outputs": [],
   "execution_count": 6
  },
  {
   "metadata": {
    "ExecuteTime": {
     "end_time": "2024-12-13T20:51:28.437558Z",
     "start_time": "2024-12-13T20:51:28.435852Z"
    }
   },
   "cell_type": "code",
   "source": "base_path = \"outputs/predictions/\"",
   "id": "1e950184b6f62fab",
   "outputs": [],
   "execution_count": 10
  },
  {
   "metadata": {
    "ExecuteTime": {
     "end_time": "2024-12-13T20:51:34.140028Z",
     "start_time": "2024-12-13T20:51:34.133754Z"
    }
   },
   "cell_type": "code",
   "source": [
    "# BASELINE\n",
    "df_just_guess_the_mean = pl.read_csv(base_path+\"just_guess_the_mean.csv\")\n",
    "# JUST ASK LLAMA\n",
    "df_just_ask_llama = pl.read_csv(base_path+\"8b_quantized_base.csv\")\n",
    "# TRADITIONAL FINE TUNING\n",
    "df_fine_tuned_llama = pl.read_csv(base_path+\"finetuned_checkpoint650.csv\")\n",
    "# EMBEDDING\n",
    "df_small_embed = pl.read_csv(base_path+\"small_embed_predictions.csv\")\n",
    "df_large_embed = pl.read_csv(base_path+\"large_embed_predictions.csv\")\n",
    "# MY METHOD\n",
    "df_mymethod = pl.read_csv(base_path+\"mymethod03predictions.csv\")\n"
   ],
   "id": "a9b6053d671a7a8e",
   "outputs": [],
   "execution_count": 12
  },
  {
   "metadata": {
    "ExecuteTime": {
     "end_time": "2024-12-13T20:55:12.288854Z",
     "start_time": "2024-12-13T20:55:12.285550Z"
    }
   },
   "cell_type": "code",
   "source": "df_just_guess_the_mean.with_columns(pl.col(\"score\").alias(\"true\"), pl.col(\"naive_guess\").alias(\"predicted\")).select(pl.col(\"true\",\"predicted\"))",
   "id": "35ccf8da1b0db43d",
   "outputs": [
    {
     "data": {
      "text/plain": [
       "shape: (622, 2)\n",
       "┌──────┬───────────┐\n",
       "│ true ┆ predicted │\n",
       "│ ---  ┆ ---       │\n",
       "│ i64  ┆ f64       │\n",
       "╞══════╪═══════════╡\n",
       "│ 9    ┆ 6.786216  │\n",
       "│ 8    ┆ 6.786216  │\n",
       "│ 9    ┆ 6.786216  │\n",
       "│ 9    ┆ 6.786216  │\n",
       "│ 12   ┆ 6.786216  │\n",
       "│ …    ┆ …         │\n",
       "│ 36   ┆ 6.786216  │\n",
       "│ 35   ┆ 6.786216  │\n",
       "│ 36   ┆ 6.786216  │\n",
       "│ 40   ┆ 6.786216  │\n",
       "│ 40   ┆ 6.786216  │\n",
       "└──────┴───────────┘"
      ],
      "text/html": [
       "<div><style>\n",
       ".dataframe > thead > tr,\n",
       ".dataframe > tbody > tr {\n",
       "  text-align: right;\n",
       "  white-space: pre-wrap;\n",
       "}\n",
       "</style>\n",
       "<small>shape: (622, 2)</small><table border=\"1\" class=\"dataframe\"><thead><tr><th>true</th><th>predicted</th></tr><tr><td>i64</td><td>f64</td></tr></thead><tbody><tr><td>9</td><td>6.786216</td></tr><tr><td>8</td><td>6.786216</td></tr><tr><td>9</td><td>6.786216</td></tr><tr><td>9</td><td>6.786216</td></tr><tr><td>12</td><td>6.786216</td></tr><tr><td>&hellip;</td><td>&hellip;</td></tr><tr><td>36</td><td>6.786216</td></tr><tr><td>35</td><td>6.786216</td></tr><tr><td>36</td><td>6.786216</td></tr><tr><td>40</td><td>6.786216</td></tr><tr><td>40</td><td>6.786216</td></tr></tbody></table></div>"
      ]
     },
     "execution_count": 15,
     "metadata": {},
     "output_type": "execute_result"
    }
   ],
   "execution_count": 15
  },
  {
   "metadata": {},
   "cell_type": "code",
   "outputs": [],
   "execution_count": null,
   "source": "",
   "id": "b777753fd859ca72"
  },
  {
   "metadata": {},
   "cell_type": "code",
   "outputs": [],
   "execution_count": null,
   "source": "",
   "id": "8b752b7f9513939e"
  },
  {
   "metadata": {},
   "cell_type": "code",
   "outputs": [],
   "execution_count": null,
   "source": "",
   "id": "6c181b66cdf6bdf6"
  },
  {
   "metadata": {},
   "cell_type": "code",
   "outputs": [],
   "execution_count": null,
   "source": "",
   "id": "830d6f3ea1804a50"
  },
  {
   "metadata": {},
   "cell_type": "code",
   "outputs": [],
   "execution_count": null,
   "source": "df_val.select(pl.col(\"score\", \"8b_quant_prediction\"))",
   "id": "712702e22b04aec3"
  },
  {
   "metadata": {},
   "cell_type": "code",
   "outputs": [],
   "execution_count": null,
   "source": "",
   "id": "f0b7fbe5590887e7"
  },
  {
   "metadata": {},
   "cell_type": "code",
   "outputs": [],
   "execution_count": null,
   "source": [
    "class CustomDataset(Dataset):\n",
    "    def __init__(self, embeddings, labels):\n",
    "        # embeddings: list of numpy arrays or torch tensors\n",
    "        # labels: list of scalars\n",
    "        self.X = torch.tensor(embeddings, dtype=torch.float32)\n",
    "        self.y = torch.tensor(labels, dtype=torch.float32)  # or long, depending on your task\n",
    "\n",
    "    def __len__(self):\n",
    "        return len(self.y)\n",
    "\n",
    "    def __getitem__(self, idx):\n",
    "        return self.X[idx], self.y[idx]"
   ],
   "id": "20a401e107381b5f"
  },
  {
   "metadata": {},
   "cell_type": "code",
   "outputs": [],
   "execution_count": null,
   "source": [
    "# Define a simple two-layer neural net with dropout and layer norm\n",
    "class SmallEmbeddingNeuralNet(nn.Module):\n",
    "    def __init__(self, input_dim, hidden_dim, output_dim):\n",
    "        super(SmallEmbeddingNeuralNet, self).__init__()\n",
    "        self.layer1 = nn.Sequential(\n",
    "            nn.Linear(input_dim, hidden_dim),\n",
    "            nn.LayerNorm(hidden_dim),\n",
    "            nn.ReLU(),\n",
    "            nn.Dropout(0.1)\n",
    "        )\n",
    "        self.layer2 = nn.Sequential(\n",
    "            nn.Linear(hidden_dim, 128),\n",
    "            nn.LayerNorm(128),\n",
    "            nn.ReLU(),\n",
    "            nn.Dropout(0.1)\n",
    "        )\n",
    "        self.layer3 = nn.Linear(128, output_dim)\n",
    "\n",
    "    def forward(self, x):\n",
    "        x = self.layer1(x)\n",
    "        x = self.layer2(x)\n",
    "        x = self.layer3(x)\n",
    "        return x\n"
   ],
   "id": "2a94197968ae321b"
  },
  {
   "metadata": {},
   "cell_type": "code",
   "outputs": [],
   "execution_count": null,
   "source": "",
   "id": "b73db811738354b3"
  },
  {
   "metadata": {},
   "cell_type": "code",
   "outputs": [],
   "execution_count": null,
   "source": [
    "# Initialize the model architecture (same as the one used during training)\n",
    "model = your_model_definition.ModelClass()  # Replace with your model class\n",
    "\n",
    "# Path to load the model\n",
    "load_path = \"../models/embedding/nn_on_small_embedding.pt\"\n",
    "\n",
    "# Load the model's state dict\n",
    "model.load_state_dict(torch.load(load_path))\n",
    "\n",
    "# Set the model to evaluation mode\n",
    "model.eval()"
   ],
   "id": "7d721c1b068b55a9"
  },
  {
   "metadata": {},
   "cell_type": "code",
   "outputs": [],
   "execution_count": null,
   "source": "",
   "id": "f61b28073a5cc3e4"
  },
  {
   "metadata": {},
   "cell_type": "code",
   "outputs": [],
   "execution_count": null,
   "source": "",
   "id": "9f3a12070f6ac830"
  },
  {
   "metadata": {},
   "cell_type": "code",
   "outputs": [],
   "execution_count": null,
   "source": [
    "df_val.write_csv(\"data/outputs/8b_quantized_predictions_for_eval_set.csv\")\n",
    "np.corrcoef(a, b)\n",
    "plt.hist(b)"
   ],
   "id": "cc75ece1c5f14a2d"
  }
 ],
 "metadata": {
  "kernelspec": {
   "name": "python3",
   "language": "python",
   "display_name": "Python 3 (ipykernel)"
  }
 },
 "nbformat": 5,
 "nbformat_minor": 9
}
