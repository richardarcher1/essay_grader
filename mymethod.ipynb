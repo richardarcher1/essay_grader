{
 "cells": [
  {
   "cell_type": "code",
   "id": "initial_id",
   "metadata": {
    "collapsed": true,
    "ExecuteTime": {
     "end_time": "2024-12-13T01:31:42.126389Z",
     "start_time": "2024-12-13T01:31:42.124993Z"
    }
   },
   "source": "base_data_path = \"data/mymethod/\"",
   "outputs": [],
   "execution_count": 1
  },
  {
   "metadata": {
    "ExecuteTime": {
     "end_time": "2024-12-13T01:31:42.388905Z",
     "start_time": "2024-12-13T01:31:42.166264Z"
    }
   },
   "cell_type": "code",
   "source": "!ls data/mymethod",
   "id": "e546bcc4f3f67b9f",
   "outputs": [
    {
     "name": "stdout",
     "output_type": "stream",
     "text": [
      "archive  testing.pt  training.pt  val.pt\r\n"
     ]
    }
   ],
   "execution_count": 2
  },
  {
   "metadata": {
    "ExecuteTime": {
     "end_time": "2024-12-13T01:31:43.275073Z",
     "start_time": "2024-12-13T01:31:42.435962Z"
    }
   },
   "cell_type": "code",
   "source": [
    "import torch\n",
    "from torch.utils.data import Dataset\n",
    "\n",
    "import torch\n",
    "import torch.nn as nn\n",
    "import torch.optim as optim\n",
    "from torch.utils.data import DataLoader\n",
    "# from torch.utils.tensorboard import SummaryWriter\n",
    "# from tqdm import tqdm\n",
    "from tqdm.notebook import tqdm\n",
    "\n",
    "from matplotlib import pyplot as plt"
   ],
   "id": "5591af65dc96a9cc",
   "outputs": [],
   "execution_count": 3
  },
  {
   "metadata": {
    "ExecuteTime": {
     "end_time": "2024-12-13T01:31:43.279571Z",
     "start_time": "2024-12-13T01:31:43.277977Z"
    }
   },
   "cell_type": "code",
   "source": [
    "class EmbeddingDataset(Dataset):\n",
    "    def __init__(self, embeddings, labels):\n",
    "        # embeddings: list of numpy arrays or torch tensors\n",
    "        # labels: list of scalars\n",
    "        self.X = torch.tensor(embeddings, dtype=torch.float32)\n",
    "        self.y = torch.tensor(labels, dtype=torch.float16)  # or long, depending on your task\n",
    "\n",
    "    def __len__(self):\n",
    "        return len(self.y)\n",
    "\n",
    "    def __getitem__(self, idx):\n",
    "        return self.X[idx], self.y[idx]"
   ],
   "id": "56bdf2aac5b7c6d1",
   "outputs": [],
   "execution_count": 4
  },
  {
   "metadata": {
    "ExecuteTime": {
     "end_time": "2024-12-13T01:31:43.387432Z",
     "start_time": "2024-12-13T01:31:43.318629Z"
    }
   },
   "cell_type": "code",
   "source": [
    "training_dataset = torch.load(\"data/mymethod/training.pt\")\n",
    "testing_dataset = torch.load(\"data/mymethod/testing.pt\")\n",
    "val_dataset = torch.load(\"data/mymethod/val.pt\")"
   ],
   "id": "6b765a4d5b9a2627",
   "outputs": [
    {
     "name": "stderr",
     "output_type": "stream",
     "text": [
      "/tmp/ipykernel_34535/2319508829.py:1: FutureWarning: You are using `torch.load` with `weights_only=False` (the current default value), which uses the default pickle module implicitly. It is possible to construct malicious pickle data which will execute arbitrary code during unpickling (See https://github.com/pytorch/pytorch/blob/main/SECURITY.md#untrusted-models for more details). In a future release, the default value for `weights_only` will be flipped to `True`. This limits the functions that could be executed during unpickling. Arbitrary objects will no longer be allowed to be loaded via this mode unless they are explicitly allowlisted by the user via `torch.serialization.add_safe_globals`. We recommend you start setting `weights_only=True` for any use case where you don't have full control of the loaded file. Please open an issue on GitHub for any issues related to this experimental feature.\n",
      "  training_dataset = torch.load(\"data/mymethod/training.pt\")\n",
      "/tmp/ipykernel_34535/2319508829.py:2: FutureWarning: You are using `torch.load` with `weights_only=False` (the current default value), which uses the default pickle module implicitly. It is possible to construct malicious pickle data which will execute arbitrary code during unpickling (See https://github.com/pytorch/pytorch/blob/main/SECURITY.md#untrusted-models for more details). In a future release, the default value for `weights_only` will be flipped to `True`. This limits the functions that could be executed during unpickling. Arbitrary objects will no longer be allowed to be loaded via this mode unless they are explicitly allowlisted by the user via `torch.serialization.add_safe_globals`. We recommend you start setting `weights_only=True` for any use case where you don't have full control of the loaded file. Please open an issue on GitHub for any issues related to this experimental feature.\n",
      "  testing_dataset = torch.load(\"data/mymethod/testing.pt\")\n",
      "/tmp/ipykernel_34535/2319508829.py:3: FutureWarning: You are using `torch.load` with `weights_only=False` (the current default value), which uses the default pickle module implicitly. It is possible to construct malicious pickle data which will execute arbitrary code during unpickling (See https://github.com/pytorch/pytorch/blob/main/SECURITY.md#untrusted-models for more details). In a future release, the default value for `weights_only` will be flipped to `True`. This limits the functions that could be executed during unpickling. Arbitrary objects will no longer be allowed to be loaded via this mode unless they are explicitly allowlisted by the user via `torch.serialization.add_safe_globals`. We recommend you start setting `weights_only=True` for any use case where you don't have full control of the loaded file. Please open an issue on GitHub for any issues related to this experimental feature.\n",
      "  val_dataset = torch.load(\"data/mymethod/val.pt\")\n"
     ]
    }
   ],
   "execution_count": 5
  },
  {
   "metadata": {
    "ExecuteTime": {
     "end_time": "2024-12-13T01:31:43.393599Z",
     "start_time": "2024-12-13T01:31:43.391196Z"
    }
   },
   "cell_type": "code",
   "source": "len(val_dataset), len(testing_dataset), len(training_dataset)",
   "id": "3aa7ea76857fac6d",
   "outputs": [
    {
     "data": {
      "text/plain": [
       "(622, 1952, 10403)"
      ]
     },
     "execution_count": 6,
     "metadata": {},
     "output_type": "execute_result"
    }
   ],
   "execution_count": 6
  },
  {
   "metadata": {
    "ExecuteTime": {
     "end_time": "2024-12-13T01:31:43.438584Z",
     "start_time": "2024-12-13T01:31:43.436400Z"
    }
   },
   "cell_type": "code",
   "source": [
    "# Convert dataset outcomes to float32\n",
    "def convert_dataset_to_float32(dataset):\n",
    "    dataset.y = dataset.y.to(torch.float32)\n",
    "    return dataset\n",
    "\n",
    "# Convert all datasets\n",
    "training_dataset = convert_dataset_to_float32(training_dataset)\n",
    "testing_dataset = convert_dataset_to_float32(testing_dataset)\n",
    "val_dataset = convert_dataset_to_float32(val_dataset)\n"
   ],
   "id": "e55f1ac596026dbb",
   "outputs": [],
   "execution_count": 7
  },
  {
   "metadata": {
    "ExecuteTime": {
     "end_time": "2024-12-13T01:31:43.481069Z",
     "start_time": "2024-12-13T01:31:43.479559Z"
    }
   },
   "cell_type": "code",
   "source": [
    "# # Define a simple two-layer neural net with dropout and layer norm\n",
    "# class SimpleNeuralNet(nn.Module):\n",
    "#     def __init__(self, input_dim, hidden_dim, output_dim):\n",
    "#         super(SimpleNeuralNet, self).__init__()\n",
    "#         self.layer1 = nn.Sequential(\n",
    "#             nn.Linear(input_dim, hidden_dim),\n",
    "#             nn.LayerNorm(hidden_dim),\n",
    "#             nn.ReLU(),\n",
    "#             nn.Dropout(0.2)\n",
    "#         )\n",
    "#         self.layer2 = nn.Linear(hidden_dim, output_dim)\n",
    "# \n",
    "#     def forward(self, x):\n",
    "#         x = self.layer1(x)\n",
    "#         x = self.layer2(x)\n",
    "#         return x\n"
   ],
   "id": "5e80977cc3b1bc7a",
   "outputs": [],
   "execution_count": 8
  },
  {
   "metadata": {
    "ExecuteTime": {
     "end_time": "2024-12-13T01:31:43.524590Z",
     "start_time": "2024-12-13T01:31:43.522576Z"
    }
   },
   "cell_type": "code",
   "source": [
    "# Define a simple two-layer neural net with dropout and layer norm\n",
    "class SimpleNeuralNet(nn.Module):\n",
    "    def __init__(self, input_dim, hidden_dim, output_dim):\n",
    "        super(SimpleNeuralNet, self).__init__()\n",
    "        self.layer1 = nn.Sequential(\n",
    "            nn.Linear(input_dim, hidden_dim),\n",
    "            nn.LayerNorm(hidden_dim),\n",
    "            nn.ReLU(),\n",
    "            nn.Dropout(0.1)\n",
    "        )\n",
    "        self.layer2 = nn.Sequential(\n",
    "            nn.Linear(hidden_dim, 128),\n",
    "            nn.LayerNorm(128),\n",
    "            nn.ReLU(),\n",
    "            nn.Dropout(0.1)\n",
    "        )\n",
    "        self.layer3 = nn.Linear(128, output_dim)\n",
    "\n",
    "    def forward(self, x):\n",
    "        x = self.layer1(x)\n",
    "        x = self.layer2(x)\n",
    "        x = self.layer3(x)\n",
    "        return x\n"
   ],
   "id": "7e884b07852f0dc5",
   "outputs": [],
   "execution_count": 9
  },
  {
   "metadata": {
    "ExecuteTime": {
     "end_time": "2024-12-13T01:31:43.568158Z",
     "start_time": "2024-12-13T01:31:43.566585Z"
    }
   },
   "cell_type": "code",
   "source": [
    "input_dim = int(testing_dataset.X[0].shape[0])\n",
    "hidden_dim = int(testing_dataset.X[0].shape[0]/2)"
   ],
   "id": "4b638e0aca6eb7ce",
   "outputs": [],
   "execution_count": 10
  },
  {
   "metadata": {
    "ExecuteTime": {
     "end_time": "2024-12-13T01:31:43.710229Z",
     "start_time": "2024-12-13T01:31:43.609616Z"
    }
   },
   "cell_type": "code",
   "source": [
    "model = SimpleNeuralNet(input_dim=input_dim, hidden_dim=hidden_dim, output_dim=1)\n",
    "model = model.to(\"cuda\")"
   ],
   "id": "24e3e20c0ea171bb",
   "outputs": [],
   "execution_count": 11
  },
  {
   "metadata": {
    "ExecuteTime": {
     "end_time": "2024-12-13T01:31:44.161495Z",
     "start_time": "2024-12-13T01:31:43.713272Z"
    }
   },
   "cell_type": "code",
   "source": [
    "optimizer = optim.AdamW(model.parameters(), lr=1e-3)\n",
    "\n",
    "# num_epochs_10 = 25\n",
    "# scheduler_10 = optim.lr_scheduler.LambdaLR(\n",
    "#     optimizer,\n",
    "#     lr_lambda=lambda epoch: 1e-6 / 1e-3 + (1 - epoch / num_epochs_10) * (1e-3 - 1e-6) / 1e-3\n",
    "# )\n",
    "\n",
    "\n",
    "# num_epochs_5 = 5\n",
    "# scheduler_5 = optim.lr_scheduler.LambdaLR(\n",
    "#     optimizer,\n",
    "#     lr_lambda=lambda epoch: 1e-6 / 1e-3 + (1 - epoch / num_epochs_5) * (1e-3 - 1e-6) / 1e-3\n",
    "# )\n",
    "\n",
    "# # Define total epochs and flat epochs\n",
    "# num_epochs = 10  # Example total epochs\n",
    "# num_step_epochs = 5  # Epochs to step the learning rate down\n",
    "# \n",
    "# # Define the scheduler\n",
    "# START_ = 1e-3\n",
    "# END_ = 1e-5\n",
    "# \n",
    "# scheduler = optim.lr_scheduler.LambdaLR(\n",
    "#     optimizer,\n",
    "#     lr_lambda=lambda epoch: (\n",
    "#         END_ / START_ + (1 - epoch / num_step_epochs) * (START_ - END_) / START_\n",
    "#         if epoch < num_step_epochs\n",
    "#         else END_ / START_\n",
    "#     )\n",
    "# )"
   ],
   "id": "c4f315cb50bafd10",
   "outputs": [],
   "execution_count": 12
  },
  {
   "metadata": {
    "ExecuteTime": {
     "end_time": "2024-12-13T01:31:44.166627Z",
     "start_time": "2024-12-13T01:31:44.164573Z"
    }
   },
   "cell_type": "code",
   "source": [
    "from torch.optim import Optimizer\n",
    "from torch.optim.lr_scheduler import _LRScheduler\n",
    "\n",
    "class FlatLRScheduler(_LRScheduler):\n",
    "    def __init__(self, optimizer: Optimizer, schedule: list, last_epoch: int = -1):\n",
    "        \"\"\"\n",
    "        Custom Learning Rate Scheduler.\n",
    "\n",
    "        Args:\n",
    "            optimizer (Optimizer): Wrapped optimizer.\n",
    "            schedule (list): List of tuples defining (epoch_range, lr_value).\n",
    "                             Example: [(9, 1e-3), (8, 1e-4), (8, 1e-5)]\n",
    "            last_epoch (int): The index of the last epoch. Default is -1.\n",
    "        \"\"\"\n",
    "        self.schedule = []\n",
    "        total_epochs = 0\n",
    "        for epochs, lr in schedule:\n",
    "            total_epochs += epochs\n",
    "            self.schedule.append((total_epochs, lr))\n",
    "        super().__init__(optimizer, last_epoch)\n",
    "\n",
    "    def get_lr(self):\n",
    "        current_epoch = self.last_epoch + 1\n",
    "        for end_epoch, lr in self.schedule:\n",
    "            if current_epoch <= end_epoch:\n",
    "                return [lr for _ in self.optimizer.param_groups]\n",
    "        raise ValueError(f\"Epoch {current_epoch} is out of range for the provided schedule.\")\n",
    "    \n",
    "# Define the schedule: [(9 epochs at 1e-3), (8 epochs at 1e-4), (8 epochs at 1e-5)]\n",
    "# schedule = [(9, 1e-3), (8, 1e-4), (8, 1e-5)]\n",
    "# schedule = [(10, 1e-3), (10, 1e-4), (5, 1e-5)]\n",
    "schedule = [(15, 1e-3), (10, 1e-4)]\n",
    "\n",
    "# Initialize the custom scheduler\n",
    "scheduler = FlatLRScheduler(optimizer, schedule)\n"
   ],
   "id": "dfa2d269db373b4d",
   "outputs": [],
   "execution_count": 13
  },
  {
   "metadata": {
    "ExecuteTime": {
     "end_time": "2024-12-13T01:31:44.206426Z",
     "start_time": "2024-12-13T01:31:44.205168Z"
    }
   },
   "cell_type": "code",
   "source": "criterion = nn.MSELoss()",
   "id": "a66813dbd2f0b6a3",
   "outputs": [],
   "execution_count": 14
  },
  {
   "metadata": {
    "ExecuteTime": {
     "end_time": "2024-12-13T01:31:44.249373Z",
     "start_time": "2024-12-13T01:31:44.247747Z"
    }
   },
   "cell_type": "code",
   "source": "num_epochs = 20",
   "id": "9c42c8e272b89baf",
   "outputs": [],
   "execution_count": 15
  },
  {
   "metadata": {
    "ExecuteTime": {
     "end_time": "2024-12-13T01:31:44.291330Z",
     "start_time": "2024-12-13T01:31:44.289872Z"
    }
   },
   "cell_type": "code",
   "source": [
    "# Prepare data loaders\n",
    "batch_size = 256\n",
    "train_loader = DataLoader(training_dataset, batch_size=batch_size, shuffle=True)\n",
    "test_loader = DataLoader(testing_dataset, batch_size=batch_size, shuffle=False)\n"
   ],
   "id": "b595c2c2de42eecd",
   "outputs": [],
   "execution_count": 16
  },
  {
   "metadata": {
    "ExecuteTime": {
     "end_time": "2024-12-13T01:31:46.913409Z",
     "start_time": "2024-12-13T01:31:44.332703Z"
    }
   },
   "cell_type": "code",
   "source": [
    "train_losses = []\n",
    "test_losses = []\n",
    "lr_s = []\n",
    "\n",
    "for epoch_num in range(num_epochs):\n",
    "    \n",
    "    test_loss = 0.0\n",
    "    model.eval()\n",
    "    with torch.no_grad():\n",
    "        # for inputs, labels in tqdm(test_loader, desc=f\"Testing Epoch {epoch_num}\"):\n",
    "        for inputs, labels in test_loader:\n",
    "            inputs, labels = inputs.to(\"cuda\"), labels.to(\"cuda\")\n",
    "            outputs = model(inputs)\n",
    "            loss = criterion(outputs.squeeze(-1), labels)\n",
    "            # test_loss += loss.item()\n",
    "            test_loss += loss.item() * inputs.size(0)  # Multiply batch loss by batch size\n",
    "        avg_loss = test_loss/len(testing_dataset)\n",
    "        test_losses.append(avg_loss)\n",
    "        print(f\"TEST LOSS: PRE Epoch-{epoch_num}, we have {avg_loss:.4f}\")\n",
    "        \n",
    "\n",
    "    model.train()\n",
    "    train_loss = 0.0\n",
    "\n",
    "    for inputs, labels in tqdm(train_loader, desc=f\"Training Epoch {epoch_num}\"):\n",
    "        inputs, labels = inputs.to(\"cuda\"), labels.to(\"cuda\")\n",
    "\n",
    "        # Zero the parameter gradients\n",
    "        optimizer.zero_grad()\n",
    "\n",
    "        # Forward pass\n",
    "        outputs = model(inputs)\n",
    "        # loss = criterion(outputs, labels) # MY MSITAKE - DO NOT DO THIS\n",
    "        loss = criterion(outputs.squeeze(-1), labels)\n",
    "\n",
    "        # Backward pass and optimization\n",
    "        loss.backward()\n",
    "        optimizer.step()\n",
    "\n",
    "        # train_loss += loss.item()\n",
    "        train_loss += loss.item() * inputs.size(0)  # Multiply batch loss by batch size\n",
    "    avg_loss = train_loss/len(training_dataset) # /len(train_dataset) ?? TODO\n",
    "    train_losses.append(avg_loss)  \n",
    "    print(f\"TRAIN LOSS: On Epoch-{epoch_num}, we have {avg_loss:.4f}\")\n",
    "    # scheduler_10.step()\n",
    "    # print(f\"Epoch {epoch_num + 1}, LR: {scheduler_10.get_last_lr()[0]}\")\n",
    "    # scheduler_5.step()\n",
    "    # scheduler.step()\n",
    "    # print(f\"Epoch {epoch + 1}, LR: {scheduler.get_last_lr()[0]:.6f}\")\n",
    "    # lr_s.append(scheduler.get_last_lr()[0])\n",
    "    scheduler.step()\n",
    "    current_lr = scheduler.get_last_lr()\n",
    "    # print(f\"Epoch {epoch_num + 1}: Learning Rate: {current_lr}\")\n",
    "    lr_s.append(current_lr)\n",
    "\n",
    "        \n",
    "        "
   ],
   "id": "d04b590217f2da4f",
   "outputs": [
    {
     "name": "stdout",
     "output_type": "stream",
     "text": [
      "TEST LOSS: PRE Epoch-0, we have 120.5776\n"
     ]
    },
    {
     "data": {
      "text/plain": [
       "Training Epoch 0:   0%|          | 0/41 [00:00<?, ?it/s]"
      ],
      "application/vnd.jupyter.widget-view+json": {
       "version_major": 2,
       "version_minor": 0,
       "model_id": "c9b030cab8a34c52a6cdc2b3270c98d7"
      }
     },
     "metadata": {},
     "output_type": "display_data"
    },
    {
     "name": "stdout",
     "output_type": "stream",
     "text": [
      "TRAIN LOSS: On Epoch-0, we have 86.5037\n",
      "TEST LOSS: PRE Epoch-1, we have 77.6515\n"
     ]
    },
    {
     "data": {
      "text/plain": [
       "Training Epoch 1:   0%|          | 0/41 [00:00<?, ?it/s]"
      ],
      "application/vnd.jupyter.widget-view+json": {
       "version_major": 2,
       "version_minor": 0,
       "model_id": "efc6441f514e4777af0ebba6f33409f5"
      }
     },
     "metadata": {},
     "output_type": "display_data"
    },
    {
     "name": "stdout",
     "output_type": "stream",
     "text": [
      "TRAIN LOSS: On Epoch-1, we have 81.0951\n",
      "TEST LOSS: PRE Epoch-2, we have 76.0365\n"
     ]
    },
    {
     "data": {
      "text/plain": [
       "Training Epoch 2:   0%|          | 0/41 [00:00<?, ?it/s]"
      ],
      "application/vnd.jupyter.widget-view+json": {
       "version_major": 2,
       "version_minor": 0,
       "model_id": "56aef7479cbb4187b296d1fafddb4471"
      }
     },
     "metadata": {},
     "output_type": "display_data"
    },
    {
     "name": "stdout",
     "output_type": "stream",
     "text": [
      "TRAIN LOSS: On Epoch-2, we have 71.8548\n",
      "TEST LOSS: PRE Epoch-3, we have 59.9789\n"
     ]
    },
    {
     "data": {
      "text/plain": [
       "Training Epoch 3:   0%|          | 0/41 [00:00<?, ?it/s]"
      ],
      "application/vnd.jupyter.widget-view+json": {
       "version_major": 2,
       "version_minor": 0,
       "model_id": "635a1e19aaca4f1c883121160c626e33"
      }
     },
     "metadata": {},
     "output_type": "display_data"
    },
    {
     "name": "stdout",
     "output_type": "stream",
     "text": [
      "TRAIN LOSS: On Epoch-3, we have 53.1539\n",
      "TEST LOSS: PRE Epoch-4, we have 40.4729\n"
     ]
    },
    {
     "data": {
      "text/plain": [
       "Training Epoch 4:   0%|          | 0/41 [00:00<?, ?it/s]"
      ],
      "application/vnd.jupyter.widget-view+json": {
       "version_major": 2,
       "version_minor": 0,
       "model_id": "09996e0fead34f99bf7fd1041a8583c8"
      }
     },
     "metadata": {},
     "output_type": "display_data"
    },
    {
     "name": "stdout",
     "output_type": "stream",
     "text": [
      "TRAIN LOSS: On Epoch-4, we have 38.7031\n",
      "TEST LOSS: PRE Epoch-5, we have 29.9638\n"
     ]
    },
    {
     "data": {
      "text/plain": [
       "Training Epoch 5:   0%|          | 0/41 [00:00<?, ?it/s]"
      ],
      "application/vnd.jupyter.widget-view+json": {
       "version_major": 2,
       "version_minor": 0,
       "model_id": "0e7280cedd49497b9f3c8346cc6ce767"
      }
     },
     "metadata": {},
     "output_type": "display_data"
    },
    {
     "name": "stdout",
     "output_type": "stream",
     "text": [
      "TRAIN LOSS: On Epoch-5, we have 28.5033\n",
      "TEST LOSS: PRE Epoch-6, we have 21.8191\n"
     ]
    },
    {
     "data": {
      "text/plain": [
       "Training Epoch 6:   0%|          | 0/41 [00:00<?, ?it/s]"
      ],
      "application/vnd.jupyter.widget-view+json": {
       "version_major": 2,
       "version_minor": 0,
       "model_id": "46c526903e004a06a3f0eeeb73cdf36d"
      }
     },
     "metadata": {},
     "output_type": "display_data"
    },
    {
     "name": "stdout",
     "output_type": "stream",
     "text": [
      "TRAIN LOSS: On Epoch-6, we have 21.1260\n",
      "TEST LOSS: PRE Epoch-7, we have 17.4715\n"
     ]
    },
    {
     "data": {
      "text/plain": [
       "Training Epoch 7:   0%|          | 0/41 [00:00<?, ?it/s]"
      ],
      "application/vnd.jupyter.widget-view+json": {
       "version_major": 2,
       "version_minor": 0,
       "model_id": "0cfdba1a38dd424d98e6b63584374d17"
      }
     },
     "metadata": {},
     "output_type": "display_data"
    },
    {
     "name": "stdout",
     "output_type": "stream",
     "text": [
      "TRAIN LOSS: On Epoch-7, we have 15.5411\n",
      "TEST LOSS: PRE Epoch-8, we have 12.9912\n"
     ]
    },
    {
     "data": {
      "text/plain": [
       "Training Epoch 8:   0%|          | 0/41 [00:00<?, ?it/s]"
      ],
      "application/vnd.jupyter.widget-view+json": {
       "version_major": 2,
       "version_minor": 0,
       "model_id": "8482d78235924505bfb81fe626d70acc"
      }
     },
     "metadata": {},
     "output_type": "display_data"
    },
    {
     "name": "stdout",
     "output_type": "stream",
     "text": [
      "TRAIN LOSS: On Epoch-8, we have 12.9473\n",
      "TEST LOSS: PRE Epoch-9, we have 9.7372\n"
     ]
    },
    {
     "data": {
      "text/plain": [
       "Training Epoch 9:   0%|          | 0/41 [00:00<?, ?it/s]"
      ],
      "application/vnd.jupyter.widget-view+json": {
       "version_major": 2,
       "version_minor": 0,
       "model_id": "40de78356e964238a130219724ebb336"
      }
     },
     "metadata": {},
     "output_type": "display_data"
    },
    {
     "name": "stdout",
     "output_type": "stream",
     "text": [
      "TRAIN LOSS: On Epoch-9, we have 10.8450\n",
      "TEST LOSS: PRE Epoch-10, we have 10.6136\n"
     ]
    },
    {
     "data": {
      "text/plain": [
       "Training Epoch 10:   0%|          | 0/41 [00:00<?, ?it/s]"
      ],
      "application/vnd.jupyter.widget-view+json": {
       "version_major": 2,
       "version_minor": 0,
       "model_id": "088505499ee34e90ba2c84712b9893ed"
      }
     },
     "metadata": {},
     "output_type": "display_data"
    },
    {
     "name": "stdout",
     "output_type": "stream",
     "text": [
      "TRAIN LOSS: On Epoch-10, we have 8.6726\n",
      "TEST LOSS: PRE Epoch-11, we have 6.7059\n"
     ]
    },
    {
     "data": {
      "text/plain": [
       "Training Epoch 11:   0%|          | 0/41 [00:00<?, ?it/s]"
      ],
      "application/vnd.jupyter.widget-view+json": {
       "version_major": 2,
       "version_minor": 0,
       "model_id": "d5cc9a576ca1481c80161b7340a4db06"
      }
     },
     "metadata": {},
     "output_type": "display_data"
    },
    {
     "name": "stdout",
     "output_type": "stream",
     "text": [
      "TRAIN LOSS: On Epoch-11, we have 6.9108\n",
      "TEST LOSS: PRE Epoch-12, we have 5.3930\n"
     ]
    },
    {
     "data": {
      "text/plain": [
       "Training Epoch 12:   0%|          | 0/41 [00:00<?, ?it/s]"
      ],
      "application/vnd.jupyter.widget-view+json": {
       "version_major": 2,
       "version_minor": 0,
       "model_id": "e82b04823c46485d939f695ff5f9af47"
      }
     },
     "metadata": {},
     "output_type": "display_data"
    },
    {
     "name": "stdout",
     "output_type": "stream",
     "text": [
      "TRAIN LOSS: On Epoch-12, we have 6.5486\n",
      "TEST LOSS: PRE Epoch-13, we have 4.6503\n"
     ]
    },
    {
     "data": {
      "text/plain": [
       "Training Epoch 13:   0%|          | 0/41 [00:00<?, ?it/s]"
      ],
      "application/vnd.jupyter.widget-view+json": {
       "version_major": 2,
       "version_minor": 0,
       "model_id": "fff78d07d9bd46b5a73f6173e583c722"
      }
     },
     "metadata": {},
     "output_type": "display_data"
    },
    {
     "name": "stdout",
     "output_type": "stream",
     "text": [
      "TRAIN LOSS: On Epoch-13, we have 5.6049\n",
      "TEST LOSS: PRE Epoch-14, we have 4.5978\n"
     ]
    },
    {
     "data": {
      "text/plain": [
       "Training Epoch 14:   0%|          | 0/41 [00:00<?, ?it/s]"
      ],
      "application/vnd.jupyter.widget-view+json": {
       "version_major": 2,
       "version_minor": 0,
       "model_id": "f93e7270ae1f4652a2e320f2111767c6"
      }
     },
     "metadata": {},
     "output_type": "display_data"
    },
    {
     "name": "stdout",
     "output_type": "stream",
     "text": [
      "TRAIN LOSS: On Epoch-14, we have 6.0567\n",
      "TEST LOSS: PRE Epoch-15, we have 4.3126\n"
     ]
    },
    {
     "data": {
      "text/plain": [
       "Training Epoch 15:   0%|          | 0/41 [00:00<?, ?it/s]"
      ],
      "application/vnd.jupyter.widget-view+json": {
       "version_major": 2,
       "version_minor": 0,
       "model_id": "d1820f3d7f6d4beea14d0a9d406e70b2"
      }
     },
     "metadata": {},
     "output_type": "display_data"
    },
    {
     "name": "stdout",
     "output_type": "stream",
     "text": [
      "TRAIN LOSS: On Epoch-15, we have 4.6997\n",
      "TEST LOSS: PRE Epoch-16, we have 3.9354\n"
     ]
    },
    {
     "data": {
      "text/plain": [
       "Training Epoch 16:   0%|          | 0/41 [00:00<?, ?it/s]"
      ],
      "application/vnd.jupyter.widget-view+json": {
       "version_major": 2,
       "version_minor": 0,
       "model_id": "42bb85b59b4b46afaa22200c9b4dbe99"
      }
     },
     "metadata": {},
     "output_type": "display_data"
    },
    {
     "name": "stdout",
     "output_type": "stream",
     "text": [
      "TRAIN LOSS: On Epoch-16, we have 4.5743\n",
      "TEST LOSS: PRE Epoch-17, we have 3.8939\n"
     ]
    },
    {
     "data": {
      "text/plain": [
       "Training Epoch 17:   0%|          | 0/41 [00:00<?, ?it/s]"
      ],
      "application/vnd.jupyter.widget-view+json": {
       "version_major": 2,
       "version_minor": 0,
       "model_id": "fb805a1a4ed44af092174f9e9bfd2b16"
      }
     },
     "metadata": {},
     "output_type": "display_data"
    },
    {
     "name": "stdout",
     "output_type": "stream",
     "text": [
      "TRAIN LOSS: On Epoch-17, we have 4.4396\n",
      "TEST LOSS: PRE Epoch-18, we have 4.0876\n"
     ]
    },
    {
     "data": {
      "text/plain": [
       "Training Epoch 18:   0%|          | 0/41 [00:00<?, ?it/s]"
      ],
      "application/vnd.jupyter.widget-view+json": {
       "version_major": 2,
       "version_minor": 0,
       "model_id": "cad55aefe5594feda127e65541603f1f"
      }
     },
     "metadata": {},
     "output_type": "display_data"
    },
    {
     "name": "stdout",
     "output_type": "stream",
     "text": [
      "TRAIN LOSS: On Epoch-18, we have 4.2849\n",
      "TEST LOSS: PRE Epoch-19, we have 3.8023\n"
     ]
    },
    {
     "data": {
      "text/plain": [
       "Training Epoch 19:   0%|          | 0/41 [00:00<?, ?it/s]"
      ],
      "application/vnd.jupyter.widget-view+json": {
       "version_major": 2,
       "version_minor": 0,
       "model_id": "66453a0aa6ba43e69a5cca7d20224f2d"
      }
     },
     "metadata": {},
     "output_type": "display_data"
    },
    {
     "name": "stdout",
     "output_type": "stream",
     "text": [
      "TRAIN LOSS: On Epoch-19, we have 4.3943\n"
     ]
    }
   ],
   "execution_count": 17
  },
  {
   "metadata": {
    "ExecuteTime": {
     "end_time": "2024-12-13T01:31:46.984714Z",
     "start_time": "2024-12-13T01:31:46.983659Z"
    }
   },
   "cell_type": "code",
   "source": "",
   "id": "858bc3ff06a7f73a",
   "outputs": [],
   "execution_count": null
  },
  {
   "metadata": {
    "ExecuteTime": {
     "end_time": "2024-12-13T01:31:47.068959Z",
     "start_time": "2024-12-13T01:31:47.024964Z"
    }
   },
   "cell_type": "code",
   "source": "plt.plot(train_losses)",
   "id": "94cfe7edf10a146b",
   "outputs": [
    {
     "data": {
      "text/plain": [
       "[<matplotlib.lines.Line2D at 0x73a77af6fd40>]"
      ]
     },
     "execution_count": 18,
     "metadata": {},
     "output_type": "execute_result"
    },
    {
     "data": {
      "text/plain": [
       "<Figure size 640x480 with 1 Axes>"
      ],
      "image/png": "[encoded data removed]"
     },
     "metadata": {},
     "output_type": "display_data"
    }
   ],
   "execution_count": 18
  },
  {
   "metadata": {
    "ExecuteTime": {
     "end_time": "2024-12-13T01:31:47.167116Z",
     "start_time": "2024-12-13T01:31:47.126974Z"
    }
   },
   "cell_type": "code",
   "source": "plt.plot(test_losses)",
   "id": "7c7477e38872d15",
   "outputs": [
    {
     "data": {
      "text/plain": [
       "[<matplotlib.lines.Line2D at 0x73a77a9b9a00>]"
      ]
     },
     "execution_count": 19,
     "metadata": {},
     "output_type": "execute_result"
    },
    {
     "data": {
      "text/plain": [
       "<Figure size 640x480 with 1 Axes>"
      ],
      "image/png": "[encoded data removed]"
     },
     "metadata": {},
     "output_type": "display_data"
    }
   ],
   "execution_count": 19
  },
  {
   "metadata": {
    "ExecuteTime": {
     "end_time": "2024-12-13T01:31:47.220428Z",
     "start_time": "2024-12-13T01:31:47.181384Z"
    }
   },
   "cell_type": "code",
   "source": "plt.plot(lr_s)",
   "id": "30871d2f6f796277",
   "outputs": [
    {
     "data": {
      "text/plain": [
       "[<matplotlib.lines.Line2D at 0x73a779f0fd10>]"
      ]
     },
     "execution_count": 20,
     "metadata": {},
     "output_type": "execute_result"
    },
    {
     "data": {
      "text/plain": [
       "<Figure size 640x480 with 1 Axes>"
      ],
      "image/png": "[encoded data removed]"
     },
     "metadata": {},
     "output_type": "display_data"
    }
   ],
   "execution_count": 20
  },
  {
   "metadata": {
    "ExecuteTime": {
     "end_time": "2024-12-13T01:31:47.233044Z",
     "start_time": "2024-12-13T01:31:47.232072Z"
    }
   },
   "cell_type": "code",
   "source": "",
   "id": "6d2b1c5541168ac4",
   "outputs": [],
   "execution_count": null
  },
  {
   "metadata": {
    "ExecuteTime": {
     "end_time": "2024-12-13T01:31:47.294364Z",
     "start_time": "2024-12-13T01:31:47.272985Z"
    }
   },
   "cell_type": "code",
   "source": [
    "val_loader = DataLoader(val_dataset, batch_size=batch_size, shuffle=False)\n",
    "\n",
    "val_loss = 0.0\n",
    "model.eval()\n",
    "with torch.no_grad():\n",
    "    # for inputs, labels in tqdm(test_loader, desc=f\"Testing Epoch {epoch_num}\"):\n",
    "    for inputs, labels in test_loader:\n",
    "        inputs, labels = inputs.to(\"cuda\"), labels.to(\"cuda\")\n",
    "        outputs = model(inputs)\n",
    "        loss = criterion(outputs.squeeze(-1), labels)\n",
    "        # test_loss += loss.item()\n",
    "        val_loss += loss.item() * inputs.size(0)  # Multiply batch loss by batch size\n",
    "    avg_loss = val_loss/len(testing_dataset)\n",
    "    print(f\"ON VAL SET, ACHIEVED {avg_loss:.4f}\")"
   ],
   "id": "402409a7ef3f90b8",
   "outputs": [
    {
     "name": "stdout",
     "output_type": "stream",
     "text": [
      "ON VAL SET, ACHIEVED 3.7473\n"
     ]
    }
   ],
   "execution_count": 21
  },
  {
   "metadata": {
    "ExecuteTime": {
     "end_time": "2024-12-13T01:31:47.319148Z",
     "start_time": "2024-12-13T01:31:47.318138Z"
    }
   },
   "cell_type": "code",
   "source": "",
   "id": "1ba4307cd50ee010",
   "outputs": [],
   "execution_count": null
  },
  {
   "metadata": {
    "ExecuteTime": {
     "end_time": "2024-12-13T01:31:47.361710Z",
     "start_time": "2024-12-13T01:31:47.360702Z"
    }
   },
   "cell_type": "code",
   "source": "",
   "id": "f4c71ad0c33f159",
   "outputs": [],
   "execution_count": null
  },
  {
   "metadata": {
    "ExecuteTime": {
     "end_time": "2024-12-13T01:31:47.403904Z",
     "start_time": "2024-12-13T01:31:47.402892Z"
    }
   },
   "cell_type": "code",
   "source": "",
   "id": "f3c1e898837f053f",
   "outputs": [],
   "execution_count": null
  },
  {
   "metadata": {
    "ExecuteTime": {
     "end_time": "2024-12-13T01:31:47.446065Z",
     "start_time": "2024-12-13T01:31:47.445022Z"
    }
   },
   "cell_type": "code",
   "source": "",
   "id": "235e10d7a67ef628",
   "outputs": [],
   "execution_count": null
  },
  {
   "metadata": {
    "ExecuteTime": {
     "end_time": "2024-12-13T01:31:47.487998Z",
     "start_time": "2024-12-13T01:31:47.486961Z"
    }
   },
   "cell_type": "code",
   "source": "\n",
   "id": "f5c87f5e53320772",
   "outputs": [],
   "execution_count": 21
  },
  {
   "metadata": {
    "ExecuteTime": {
     "end_time": "2024-12-13T01:31:47.529853Z",
     "start_time": "2024-12-13T01:31:47.528800Z"
    }
   },
   "cell_type": "code",
   "source": "",
   "id": "942812119a61fe48",
   "outputs": [],
   "execution_count": null
  },
  {
   "metadata": {
    "ExecuteTime": {
     "end_time": "2024-12-13T01:31:47.572792Z",
     "start_time": "2024-12-13T01:31:47.571771Z"
    }
   },
   "cell_type": "code",
   "source": "",
   "id": "31499e4b71196ec",
   "outputs": [],
   "execution_count": null
  },
  {
   "metadata": {
    "ExecuteTime": {
     "end_time": "2024-12-13T01:31:47.614895Z",
     "start_time": "2024-12-13T01:31:47.613870Z"
    }
   },
   "cell_type": "code",
   "source": "",
   "id": "9d026d0ebb627f81",
   "outputs": [],
   "execution_count": null
  },
  {
   "metadata": {
    "ExecuteTime": {
     "end_time": "2024-12-13T01:31:47.657037Z",
     "start_time": "2024-12-13T01:31:47.656013Z"
    }
   },
   "cell_type": "code",
   "source": "",
   "id": "31ab04797e92617",
   "outputs": [],
   "execution_count": null
  },
  {
   "metadata": {
    "ExecuteTime": {
     "end_time": "2024-12-13T01:31:47.698840Z",
     "start_time": "2024-12-13T01:31:47.697809Z"
    }
   },
   "cell_type": "code",
   "source": "",
   "id": "1a41f8f485a1e4d7",
   "outputs": [],
   "execution_count": null
  }
 ],
 "metadata": {
  "kernelspec": {
   "display_name": "Python 3",
   "language": "python",
   "name": "python3"
  },
  "language_info": {
   "codemirror_mode": {
    "name": "ipython",
    "version": 2
   },
   "file_extension": ".py",
   "mimetype": "text/x-python",
   "name": "python",
   "nbconvert_exporter": "python",
   "pygments_lexer": "ipython2",
   "version": "2.7.6"
  }
 },
 "nbformat": 4,
 "nbformat_minor": 5
}
