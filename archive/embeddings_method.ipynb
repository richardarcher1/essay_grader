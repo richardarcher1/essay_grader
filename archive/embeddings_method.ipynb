{
 "cells": [
  {
   "metadata": {},
   "cell_type": "code",
   "source": "from tqdm.notebook import tqdm",
   "id": "c7cec1f2f47073e8",
   "outputs": [],
   "execution_count": null
  },
  {
   "metadata": {},
   "cell_type": "code",
   "source": [
    "import json\n",
    "# import pandas as pd\n",
    "# import polars as pl\n",
    "import unicodedata\n",
    "\n",
    "import polars as pl\n",
    "import torch\n",
    "# import torch.nn as nn\n",
    "# import torch.optim as optim\n",
    "from torch.utils.data import Dataset#, DataLoader\n",
    "import numpy as np\n",
    "from sentence_transformers import SentenceTransformer\n"
   ],
   "id": "3cdc0243c48cde55",
   "outputs": [],
   "execution_count": null
  },
  {
   "metadata": {},
   "cell_type": "code",
   "source": [
    "df_train = pl.read_csv(\"data/imported/training.csv\")\n",
    "df_test = pl.read_csv(\"data/imported/testing.csv\")\n",
    "df_validation = pl.read_csv(\"data/imported/val.csv\")\n",
    "\n",
    "train_texts = df_train[\"text\"].to_list()\n",
    "train_labels = df_train[\"score\"].to_list()\n",
    "\n",
    "test_texts = df_test[\"text\"].to_list()\n",
    "test_labels = df_test[\"score\"].to_list()\n",
    "\n",
    "val_texts = df_validation[\"text\"].to_list()\n",
    "val_labels = df_validation[\"score\"].to_list()\n"
   ],
   "id": "8528455496b4be78",
   "outputs": [],
   "execution_count": null
  },
  {
   "metadata": {},
   "cell_type": "code",
   "source": [
    "# print(min(df_train['score'].unique()))\n",
    "# print(max(df_train['score'].unique()))\n",
    "# # \n",
    "# # # 0 to 60, all integers"
   ],
   "id": "4c1409c8cda84afc",
   "outputs": [],
   "execution_count": null
  },
  {
   "metadata": {},
   "cell_type": "code",
   "source": [
    "# embed text\n",
    "# model_name = \"sentence-transformers/all-MiniLM-L6-v2\"\n",
    "model_name = \"intfloat/multilingual-e5-large-instruct\"\n",
    "print(\"loading embedder\")\n",
    "embedder = SentenceTransformer(model_name, device=\"cuda\")\n"
   ],
   "id": "531842431e6cc954",
   "outputs": [],
   "execution_count": null
  },
  {
   "metadata": {},
   "cell_type": "code",
   "source": [
    "print(\"embedding train dataset\")\n",
    "train_embeddings = embedder.encode(train_texts, batch_size=16, convert_to_numpy=True, show_progress_bar=True)"
   ],
   "id": "3638e73fd5e57aa4",
   "outputs": [],
   "execution_count": null
  },
  {
   "metadata": {},
   "cell_type": "code",
   "source": [
    "print(\"embedding test dataset\")\n",
    "test_embeddings = embedder.encode(test_texts, batch_size=16, convert_to_numpy=True,show_progress_bar=True)"
   ],
   "id": "8f1e6c90acc4fe62",
   "outputs": [],
   "execution_count": null
  },
  {
   "metadata": {},
   "cell_type": "code",
   "source": [
    "print(\"embedding val dataset\")\n",
    "val_embeddings = embedder.encode(val_texts, batch_size=16, convert_to_numpy=True,show_progress_bar=True)"
   ],
   "id": "39d910fe59a4f717",
   "outputs": [],
   "execution_count": null
  },
  {
   "metadata": {},
   "cell_type": "code",
   "source": [
    "class EssayScoreDataset(Dataset):\n",
    "    def __init__(self, X, y):\n",
    "        \"\"\"\n",
    "        Args:\n",
    "            X (list or array-like): Feature data.\n",
    "            y (list or array-like): Essay scores (integers from 0 to 60).\n",
    "        \"\"\"\n",
    "        self.X = X\n",
    "        self.y = y\n",
    "\n",
    "    def __len__(self):\n",
    "        return len(self.X)\n",
    "\n",
    "    def __getitem__(self, idx):\n",
    "        x = torch.tensor(self.X[idx], dtype=torch.float32)  # Input features as float32\n",
    "        y = torch.tensor(self.y[idx], dtype=torch.float16)  # Scores as float16\n",
    "        return x, y\n"
   ],
   "id": "b28908b47cac3bf2",
   "outputs": [],
   "execution_count": null
  },
  {
   "metadata": {},
   "cell_type": "code",
   "source": [
    "train_dataset = EssayScoreDataset(train_embeddings, train_labels)\n",
    "test_dataset = EssayScoreDataset(test_embeddings, test_labels)\n",
    "val_dataset = EssayScoreDataset(val_embeddings, val_labels)\n"
   ],
   "id": "3c34d907ff7f6224",
   "outputs": [],
   "execution_count": null
  },
  {
   "cell_type": "code",
   "id": "initial_id",
   "metadata": {
    "collapsed": true
   },
   "source": [
    "# torch.save(train_dataset, 'data/embeddings/train_dataset00.pth')\n",
    "# torch.save(test_dataset, 'data/embeddings/test_dataset00.pth')\n",
    "# torch.save(val_dataset, 'data/embeddings/val_dataset00.pth')\n",
    "# \n"
   ],
   "outputs": [],
   "execution_count": null
  },
  {
   "metadata": {},
   "cell_type": "code",
   "source": [
    "torch.save(train_dataset, 'data/embeddings/train_dataset01.pth')\n",
    "torch.save(test_dataset, 'data/embeddings/test_dataset01.pth')\n",
    "torch.save(val_dataset, 'data/embeddings/val_dataset01.pth')\n",
    "\n"
   ],
   "id": "b3dea9bdc5063562",
   "outputs": [],
   "execution_count": null
  },
  {
   "metadata": {},
   "cell_type": "code",
   "source": "",
   "id": "bfea9e5bbb0b025f",
   "outputs": [],
   "execution_count": null
  },
  {
   "metadata": {},
   "cell_type": "markdown",
   "source": "# fit a model",
   "id": "7566ebe4cde6c23c"
  },
  {
   "metadata": {
    "ExecuteTime": {
     "end_time": "2024-12-13T00:22:50.688753Z",
     "start_time": "2024-12-13T00:22:50.002603Z"
    }
   },
   "cell_type": "code",
   "source": [
    "import torch\n",
    "import torch.nn as nn\n",
    "import torch.optim as optim\n",
    "from torch.utils.data import DataLoader, Dataset\n"
   ],
   "id": "9c11a893e07ce7c",
   "outputs": [],
   "execution_count": 1
  },
  {
   "metadata": {
    "ExecuteTime": {
     "end_time": "2024-12-13T00:22:50.832454Z",
     "start_time": "2024-12-13T00:22:50.830547Z"
    }
   },
   "cell_type": "code",
   "source": [
    "class EssayScoreDataset(Dataset):\n",
    "    def __init__(self, X, y):\n",
    "        \"\"\"\n",
    "        Args:\n",
    "            X (list or array-like): Feature data.\n",
    "            y (list or array-like): Essay scores (integers from 0 to 60).\n",
    "        \"\"\"\n",
    "        self.X = X\n",
    "        self.y = y\n",
    "\n",
    "    def __len__(self):\n",
    "        return len(self.X)\n",
    "\n",
    "    def __getitem__(self, idx):\n",
    "        x = torch.tensor(self.X[idx], dtype=torch.float32)  # Input features as float32\n",
    "        y = torch.tensor(self.y[idx], dtype=torch.float16)  # Scores as float16\n",
    "        return x, y\n"
   ],
   "id": "67b07700a4e6dc1a",
   "outputs": [],
   "execution_count": 2
  },
  {
   "metadata": {
    "ExecuteTime": {
     "end_time": "2024-12-13T00:22:52.497908Z",
     "start_time": "2024-12-13T00:22:51.853344Z"
    }
   },
   "cell_type": "code",
   "source": [
    "train_dataset = torch.load('data/embeddings/train_dataset01.pth')\n",
    "test_dataset = torch.load('data/embeddings/train_dataset01.pth')\n",
    "val_dataset = torch.load('data/embeddings/train_dataset01.pth')\n",
    "\n"
   ],
   "id": "525900d1c70cc17f",
   "outputs": [
    {
     "name": "stderr",
     "output_type": "stream",
     "text": [
      "/tmp/ipykernel_18691/3384220254.py:1: FutureWarning: You are using `torch.load` with `weights_only=False` (the current default value), which uses the default pickle module implicitly. It is possible to construct malicious pickle data which will execute arbitrary code during unpickling (See https://github.com/pytorch/pytorch/blob/main/SECURITY.md#untrusted-models for more details). In a future release, the default value for `weights_only` will be flipped to `True`. This limits the functions that could be executed during unpickling. Arbitrary objects will no longer be allowed to be loaded via this mode unless they are explicitly allowlisted by the user via `torch.serialization.add_safe_globals`. We recommend you start setting `weights_only=True` for any use case where you don't have full control of the loaded file. Please open an issue on GitHub for any issues related to this experimental feature.\n",
      "  train_dataset = torch.load('data/embeddings/train_dataset01.pth')\n",
      "/tmp/ipykernel_18691/3384220254.py:2: FutureWarning: You are using `torch.load` with `weights_only=False` (the current default value), which uses the default pickle module implicitly. It is possible to construct malicious pickle data which will execute arbitrary code during unpickling (See https://github.com/pytorch/pytorch/blob/main/SECURITY.md#untrusted-models for more details). In a future release, the default value for `weights_only` will be flipped to `True`. This limits the functions that could be executed during unpickling. Arbitrary objects will no longer be allowed to be loaded via this mode unless they are explicitly allowlisted by the user via `torch.serialization.add_safe_globals`. We recommend you start setting `weights_only=True` for any use case where you don't have full control of the loaded file. Please open an issue on GitHub for any issues related to this experimental feature.\n",
      "  test_dataset = torch.load('data/embeddings/train_dataset01.pth')\n",
      "/tmp/ipykernel_18691/3384220254.py:3: FutureWarning: You are using `torch.load` with `weights_only=False` (the current default value), which uses the default pickle module implicitly. It is possible to construct malicious pickle data which will execute arbitrary code during unpickling (See https://github.com/pytorch/pytorch/blob/main/SECURITY.md#untrusted-models for more details). In a future release, the default value for `weights_only` will be flipped to `True`. This limits the functions that could be executed during unpickling. Arbitrary objects will no longer be allowed to be loaded via this mode unless they are explicitly allowlisted by the user via `torch.serialization.add_safe_globals`. We recommend you start setting `weights_only=True` for any use case where you don't have full control of the loaded file. Please open an issue on GitHub for any issues related to this experimental feature.\n",
      "  val_dataset = torch.load('data/embeddings/train_dataset01.pth')\n"
     ]
    }
   ],
   "execution_count": 3
  },
  {
   "metadata": {
    "ExecuteTime": {
     "end_time": "2024-12-13T00:22:52.503426Z",
     "start_time": "2024-12-13T00:22:52.501643Z"
    }
   },
   "cell_type": "code",
   "source": [
    "# Wrap datasets in DataLoaders\n",
    "train_loader = DataLoader(train_dataset, batch_size=32, shuffle=True)\n",
    "test_loader = DataLoader(test_dataset, batch_size=32, shuffle=False)\n",
    "val_loader = DataLoader(val_dataset, batch_size=32, shuffle=False)\n"
   ],
   "id": "6d6f46387c5a0290",
   "outputs": [],
   "execution_count": 4
  },
  {
   "metadata": {
    "ExecuteTime": {
     "end_time": "2024-12-13T00:22:53.685541Z",
     "start_time": "2024-12-13T00:22:53.683340Z"
    }
   },
   "cell_type": "code",
   "source": [
    "# Define a simple feedforward neural network\n",
    "class SimpleMLP(nn.Module):\n",
    "    def __init__(self, input_size, hidden_size, output_size):\n",
    "        super(SimpleMLP, self).__init__()\n",
    "        self.fc1 = nn.Linear(input_size, hidden_size)\n",
    "        self.relu = nn.ReLU()\n",
    "        self.fc2 = nn.Linear(hidden_size, output_size)\n",
    "\n",
    "    def forward(self, x):\n",
    "        x = self.fc1(x)\n",
    "        x = self.relu(x)\n",
    "        x = self.fc2(x)\n",
    "        return x"
   ],
   "id": "882c0efa75935728",
   "outputs": [],
   "execution_count": 5
  },
  {
   "metadata": {},
   "cell_type": "code",
   "source": "train_dataset[0][0].shape",
   "id": "3f0e42e5023ab050",
   "outputs": [],
   "execution_count": null
  },
  {
   "metadata": {
    "ExecuteTime": {
     "end_time": "2024-12-13T00:22:56.084270Z",
     "start_time": "2024-12-13T00:22:55.543597Z"
    }
   },
   "cell_type": "code",
   "source": [
    "# Assuming input size and output size are known (adjust as needed)\n",
    "input_size = 1024  # Change based on your dataset\n",
    "hidden_size = 64\n",
    "output_size = 1  # For MSE loss, often 1 output\n",
    "\n",
    "# Initialize model, loss function, and optimizer\n",
    "model = SimpleMLP(input_size, hidden_size, output_size).to('cuda')\n",
    "criterion = nn.MSELoss()\n",
    "optimizer = optim.AdamW(model.parameters(), lr=1e-3)"
   ],
   "id": "c134e0666b07604b",
   "outputs": [],
   "execution_count": 6
  },
  {
   "metadata": {},
   "cell_type": "code",
   "source": [
    "# def train_epoch(model, loader, criterion, optimizer):\n",
    "#     model.train()\n",
    "#     running_loss = 0.0\n",
    "#     for inputs, targets in loader:\n",
    "#         inputs, targets = inputs.to('cuda'), targets.to('cuda').unsqueeze(1)  # Ensure targets have shape [batch_size, 1]\n",
    "# \n",
    "#         # Forward pass\n",
    "#         outputs = model(inputs)\n",
    "#         loss = criterion(outputs, targets)\n",
    "# \n",
    "#         # Backward pass and optimization\n",
    "#         optimizer.zero_grad()\n",
    "#         loss.backward()\n",
    "#         optimizer.step()\n",
    "# \n",
    "#         running_loss += loss.item()\n",
    "# \n",
    "#     return running_loss / len(loader)\n"
   ],
   "id": "662de7c3102caceb",
   "outputs": [],
   "execution_count": null
  },
  {
   "metadata": {},
   "cell_type": "code",
   "source": [
    "# def evaluate_model(model, loader, criterion):\n",
    "#     model.eval()\n",
    "#     running_loss = 0.0\n",
    "#     with torch.no_grad():\n",
    "#         for inputs, targets in loader:\n",
    "#             inputs, targets = inputs.to('cuda'), targets.to('cuda').unsqueeze(1)  # Ensure targets have shape [batch_size, 1]\n",
    "# \n",
    "#             outputs = model(inputs)\n",
    "#             loss = criterion(outputs, targets)\n",
    "# \n",
    "#             running_loss += loss.item()\n",
    "# \n",
    "#     return running_loss / len(loader)\n"
   ],
   "id": "48d165d3e5915e80",
   "outputs": [],
   "execution_count": null
  },
  {
   "metadata": {},
   "cell_type": "code",
   "source": [
    "# # Main training and evaluation\n",
    "# num_epochs = 10\n",
    "# for epoch in range(num_epochs):\n",
    "#     train_loss = train_epoch(model, train_loader, criterion, optimizer)\n",
    "#     val_loss = evaluate_model(model, val_loader, criterion)\n",
    "# \n",
    "#     print(f\"Epoch {epoch + 1}/{num_epochs}, Train Loss: {train_loss:.4f}, Validation Loss: {val_loss:.4f}\")"
   ],
   "id": "b33641dc27fbdfac",
   "outputs": [],
   "execution_count": null
  },
  {
   "metadata": {},
   "cell_type": "code",
   "source": [
    "# # Evaluate on test set\n",
    "# test_loss = evaluate_model(model, test_loader, criterion)\n",
    "# print(f\"Test Loss: {test_loss:.4f}\")"
   ],
   "id": "2276bf72ffd75bf3",
   "outputs": [],
   "execution_count": null
  },
  {
   "metadata": {},
   "cell_type": "code",
   "source": "",
   "id": "5d830097071f3b78",
   "outputs": [],
   "execution_count": null
  },
  {
   "metadata": {},
   "cell_type": "code",
   "source": "",
   "id": "93cd3aaf9f746c9a",
   "outputs": [],
   "execution_count": null
  },
  {
   "metadata": {},
   "cell_type": "code",
   "source": "",
   "id": "75a93e6ea280b673",
   "outputs": [],
   "execution_count": null
  },
  {
   "metadata": {
    "ExecuteTime": {
     "end_time": "2024-12-13T00:23:25.426231Z",
     "start_time": "2024-12-13T00:23:22.089497Z"
    }
   },
   "cell_type": "code",
   "source": [
    "import torch\n",
    "import torch.nn as nn\n",
    "import torch.optim as optim\n",
    "from torch.utils.data import DataLoader\n",
    "\n",
    "# Load datasets\n",
    "train_dataset = torch.load('data/embeddings/train_dataset01.pth')\n",
    "test_dataset = torch.load('data/embeddings/test_dataset01.pth')\n",
    "val_dataset = torch.load('data/embeddings/val_dataset01.pth')\n",
    "\n",
    "# Wrap datasets in DataLoaders\n",
    "train_loader = DataLoader(train_dataset, batch_size=32, shuffle=True)\n",
    "test_loader = DataLoader(test_dataset, batch_size=32, shuffle=False)\n",
    "val_loader = DataLoader(val_dataset, batch_size=32, shuffle=False)\n",
    "\n",
    "# Define a simple feedforward neural network\n",
    "class SimpleMLP(nn.Module):\n",
    "    def __init__(self, input_size, hidden_size, output_size):\n",
    "        super(SimpleMLP, self).__init__()\n",
    "        self.fc1 = nn.Linear(input_size, hidden_size)\n",
    "        self.relu = nn.ReLU()\n",
    "        self.fc2 = nn.Linear(hidden_size, output_size)\n",
    "\n",
    "    def forward(self, x):\n",
    "        x = self.fc1(x)\n",
    "        x = self.relu(x)\n",
    "        x = self.fc2(x)\n",
    "        return x\n",
    "\n",
    "# Assuming input size and output size are known (adjust as needed)\n",
    "input_size = 1024  # Change based on your dataset\n",
    "hidden_size = 64\n",
    "output_size = 1  # For MSE loss, often 1 output\n",
    "\n",
    "# Initialize model, loss function, and optimizer\n",
    "model = SimpleMLP(input_size, hidden_size, output_size).to('cuda').to(torch.float32)  # Ensure model uses float32\n",
    "criterion = nn.MSELoss()\n",
    "optimizer = optim.AdamW(model.parameters(), lr=1e-3)\n",
    "\n",
    "# Training loop\n",
    "def train_epoch(model, loader, criterion, optimizer):\n",
    "    model.train()\n",
    "    running_loss = 0.0\n",
    "    for inputs, targets in loader:\n",
    "        inputs, targets = inputs.to('cuda').to(torch.float32), targets.to('cuda').to(torch.float32).unsqueeze(1)  # Ensure inputs and targets use float32\n",
    "\n",
    "        # Forward pass\n",
    "        outputs = model(inputs)\n",
    "        loss = criterion(outputs, targets)\n",
    "\n",
    "        # Backward pass and optimization\n",
    "        optimizer.zero_grad()\n",
    "        loss.backward()\n",
    "        optimizer.step()\n",
    "\n",
    "        running_loss += loss.item()\n",
    "\n",
    "    return running_loss / len(loader)\n",
    "\n",
    "# Evaluation loop\n",
    "def evaluate_model(model, loader, criterion):\n",
    "    model.eval()\n",
    "    running_loss = 0.0\n",
    "    with torch.no_grad():\n",
    "        for inputs, targets in loader:\n",
    "            inputs, targets = inputs.to('cuda').to(torch.float32), targets.to('cuda').to(torch.float32).unsqueeze(1)  # Ensure inputs and targets use float32\n",
    "\n",
    "            outputs = model(inputs)\n",
    "            loss = criterion(outputs, targets)\n",
    "\n",
    "            running_loss += loss.item()\n",
    "\n",
    "    return running_loss / len(loader)\n",
    "\n",
    "# Main training and evaluation\n",
    "num_epochs = 10\n",
    "for epoch in range(num_epochs):\n",
    "    train_loss = train_epoch(model, train_loader, criterion, optimizer)\n",
    "    val_loss = evaluate_model(model, val_loader, criterion)\n",
    "\n",
    "    print(f\"Epoch {epoch + 1}/{num_epochs}, Train Loss: {train_loss:.4f}, Validation Loss: {val_loss:.4f}\")\n",
    "\n",
    "# Evaluate on test set\n",
    "test_loss = evaluate_model(model, test_loader, criterion)\n",
    "print(f\"Test Loss: {test_loss:.4f}\")"
   ],
   "id": "b337d338391d1ca5",
   "outputs": [
    {
     "name": "stderr",
     "output_type": "stream",
     "text": [
      "/tmp/ipykernel_18691/4267202092.py:7: FutureWarning: You are using `torch.load` with `weights_only=False` (the current default value), which uses the default pickle module implicitly. It is possible to construct malicious pickle data which will execute arbitrary code during unpickling (See https://github.com/pytorch/pytorch/blob/main/SECURITY.md#untrusted-models for more details). In a future release, the default value for `weights_only` will be flipped to `True`. This limits the functions that could be executed during unpickling. Arbitrary objects will no longer be allowed to be loaded via this mode unless they are explicitly allowlisted by the user via `torch.serialization.add_safe_globals`. We recommend you start setting `weights_only=True` for any use case where you don't have full control of the loaded file. Please open an issue on GitHub for any issues related to this experimental feature.\n",
      "  train_dataset = torch.load('data/embeddings/train_dataset01.pth')\n",
      "/tmp/ipykernel_18691/4267202092.py:8: FutureWarning: You are using `torch.load` with `weights_only=False` (the current default value), which uses the default pickle module implicitly. It is possible to construct malicious pickle data which will execute arbitrary code during unpickling (See https://github.com/pytorch/pytorch/blob/main/SECURITY.md#untrusted-models for more details). In a future release, the default value for `weights_only` will be flipped to `True`. This limits the functions that could be executed during unpickling. Arbitrary objects will no longer be allowed to be loaded via this mode unless they are explicitly allowlisted by the user via `torch.serialization.add_safe_globals`. We recommend you start setting `weights_only=True` for any use case where you don't have full control of the loaded file. Please open an issue on GitHub for any issues related to this experimental feature.\n",
      "  test_dataset = torch.load('data/embeddings/test_dataset01.pth')\n",
      "/tmp/ipykernel_18691/4267202092.py:9: FutureWarning: You are using `torch.load` with `weights_only=False` (the current default value), which uses the default pickle module implicitly. It is possible to construct malicious pickle data which will execute arbitrary code during unpickling (See https://github.com/pytorch/pytorch/blob/main/SECURITY.md#untrusted-models for more details). In a future release, the default value for `weights_only` will be flipped to `True`. This limits the functions that could be executed during unpickling. Arbitrary objects will no longer be allowed to be loaded via this mode unless they are explicitly allowlisted by the user via `torch.serialization.add_safe_globals`. We recommend you start setting `weights_only=True` for any use case where you don't have full control of the loaded file. Please open an issue on GitHub for any issues related to this experimental feature.\n",
      "  val_dataset = torch.load('data/embeddings/val_dataset01.pth')\n"
     ]
    },
    {
     "name": "stdout",
     "output_type": "stream",
     "text": [
      "Epoch 1/10, Train Loss: 75.3640, Validation Loss: 68.3049\n",
      "Epoch 2/10, Train Loss: 32.9435, Validation Loss: 21.6173\n",
      "Epoch 3/10, Train Loss: 12.2645, Validation Loss: 10.1181\n",
      "Epoch 4/10, Train Loss: 8.2918, Validation Loss: 8.2402\n",
      "Epoch 5/10, Train Loss: 7.4300, Validation Loss: 8.4053\n",
      "Epoch 6/10, Train Loss: 6.9486, Validation Loss: 7.4242\n",
      "Epoch 7/10, Train Loss: 6.4938, Validation Loss: 7.3517\n",
      "Epoch 8/10, Train Loss: 6.2903, Validation Loss: 6.8462\n",
      "Epoch 9/10, Train Loss: 5.9002, Validation Loss: 6.7228\n",
      "Epoch 10/10, Train Loss: 5.6832, Validation Loss: 6.5828\n",
      "Test Loss: 6.0776\n"
     ]
    }
   ],
   "execution_count": 7
  },
  {
   "metadata": {},
   "cell_type": "code",
   "source": "",
   "id": "635018e88704bc1b",
   "outputs": [],
   "execution_count": null
  },
  {
   "metadata": {
    "ExecuteTime": {
     "end_time": "2024-12-13T00:23:27.738758Z",
     "start_time": "2024-12-13T00:23:27.729048Z"
    }
   },
   "cell_type": "code",
   "source": "evaluate_model(model, val_loader, criterion)",
   "id": "8c3c7bd77e144104",
   "outputs": [
    {
     "data": {
      "text/plain": [
       "6.58279725164175"
      ]
     },
     "execution_count": 8,
     "metadata": {},
     "output_type": "execute_result"
    }
   ],
   "execution_count": 8
  },
  {
   "metadata": {},
   "cell_type": "code",
   "source": "",
   "id": "1f958a61e1f0292",
   "outputs": [],
   "execution_count": null
  },
  {
   "metadata": {},
   "cell_type": "code",
   "source": "from sklearn.metrics import mean_squared_error",
   "id": "fb04d9d92eea9db2",
   "outputs": [],
   "execution_count": null
  },
  {
   "metadata": {},
   "cell_type": "code",
   "source": "",
   "id": "77d512ce492a5a3",
   "outputs": [],
   "execution_count": null
  },
  {
   "metadata": {},
   "cell_type": "code",
   "source": "",
   "id": "df6c28df093c1683",
   "outputs": [],
   "execution_count": null
  },
  {
   "metadata": {},
   "cell_type": "markdown",
   "source": [
    "# TODO\n",
    "## just guess the mean/median\n",
    "## just ask chatgpt\n",
    "## just use small embed+NN\n",
    "## just use big embed+NN\n",
    "## just ask llama\n",
    "## llama finetune\n",
    "## llama as embedder "
   ],
   "id": "9a7e238d7fe60702"
  }
 ],
 "metadata": {
  "kernelspec": {
   "display_name": "Python 3",
   "language": "python",
   "name": "python3"
  },
  "language_info": {
   "codemirror_mode": {
    "name": "ipython",
    "version": 2
   },
   "file_extension": ".py",
   "mimetype": "text/x-python",
   "name": "python",
   "nbconvert_exporter": "python",
   "pygments_lexer": "ipython2",
   "version": "2.7.6"
  }
 },
 "nbformat": 4,
 "nbformat_minor": 5
}
