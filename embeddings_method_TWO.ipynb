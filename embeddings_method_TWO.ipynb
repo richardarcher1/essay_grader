{
 "cells": [
  {
   "cell_type": "code",
   "id": "initial_id",
   "metadata": {
    "collapsed": true,
    "ExecuteTime": {
     "end_time": "2024-12-13T01:10:12.398787Z",
     "start_time": "2024-12-13T01:10:12.396902Z"
    }
   },
   "source": "base_data_path = \"data/embeddings/\"",
   "outputs": [],
   "execution_count": 16
  },
  {
   "metadata": {
    "ExecuteTime": {
     "end_time": "2024-12-13T01:08:57.853512Z",
     "start_time": "2024-12-13T01:08:57.618763Z"
    }
   },
   "cell_type": "code",
   "source": "!ls data/embeddings",
   "id": "e546bcc4f3f67b9f",
   "outputs": [
    {
     "name": "stdout",
     "output_type": "stream",
     "text": [
      "test_dataset00.pth  train_dataset00.pth  val_dataset00.pth\r\n",
      "test_dataset01.pth  train_dataset01.pth  val_dataset01.pth\r\n"
     ]
    }
   ],
   "execution_count": 2
  },
  {
   "metadata": {
    "ExecuteTime": {
     "end_time": "2024-12-13T01:10:13.164813Z",
     "start_time": "2024-12-13T01:10:13.162778Z"
    }
   },
   "cell_type": "code",
   "source": [
    "import torch\n",
    "from torch.utils.data import Dataset\n",
    "\n",
    "import torch\n",
    "import torch.nn as nn\n",
    "import torch.optim as optim\n",
    "from torch.utils.data import DataLoader\n",
    "# from torch.utils.tensorboard import SummaryWriter\n",
    "# from tqdm import tqdm\n",
    "from tqdm.notebook import tqdm\n",
    "\n",
    "from matplotlib import pyplot as plt"
   ],
   "id": "5591af65dc96a9cc",
   "outputs": [],
   "execution_count": 17
  },
  {
   "metadata": {},
   "cell_type": "code",
   "source": [
    "# class EmbeddingDataset(Dataset):\n",
    "#     def __init__(self, embeddings, labels):\n",
    "#         # embeddings: list of numpy arrays or torch tensors\n",
    "#         # labels: list of scalars\n",
    "#         self.X = torch.tensor(embeddings, dtype=torch.float32)\n",
    "#         self.y = torch.tensor(labels, dtype=torch.float16)  # or long, depending on your task\n",
    "# \n",
    "#     def __len__(self):\n",
    "#         return len(self.y)\n",
    "# \n",
    "#     def __getitem__(self, idx):\n",
    "#         return self.X[idx], self.y[idx]"
   ],
   "id": "56bdf2aac5b7c6d1",
   "outputs": [],
   "execution_count": null
  },
  {
   "metadata": {
    "ExecuteTime": {
     "end_time": "2024-12-13T01:10:14.780899Z",
     "start_time": "2024-12-13T01:10:14.778566Z"
    }
   },
   "cell_type": "code",
   "source": [
    "# class EssayScoreDataset(Dataset):\n",
    "#     def __init__(self, X, y):\n",
    "#         \"\"\"\n",
    "#         Args:\n",
    "#             X (list or array-like): Feature data.\n",
    "#             y (list or array-like): Essay scores (integers from 0 to 60).\n",
    "#         \"\"\"\n",
    "#         self.X = X\n",
    "#         self.y = y\n",
    "# \n",
    "#     def __len__(self):\n",
    "#         return len(self.X)\n",
    "# \n",
    "#     def __getitem__(self, idx):\n",
    "#         x = torch.tensor(self.X[idx], dtype=torch.float32)  # Input features as float32\n",
    "#         y = torch.tensor(self.y[idx], dtype=torch.float16)  # Scores as float16\n",
    "#         return x, y\n",
    "\n",
    "\n",
    "class EssayScoreDataset(Dataset):\n",
    "    def __init__(self, X, y):\n",
    "        \"\"\"\n",
    "        Args:\n",
    "            X (list, array-like, or ndarray): Feature data.\n",
    "            y (list or array-like): Essay scores (integers from 0 to 60).\n",
    "        \"\"\"\n",
    "        # Convert X to a tensor if it's not already\n",
    "        self.X = torch.tensor(X, dtype=torch.float32) if not isinstance(X, torch.Tensor) else X\n",
    "        # Convert y to a tensor\n",
    "        self.y = torch.tensor(y, dtype=torch.float32) if not isinstance(y, torch.Tensor) else y\n",
    "\n",
    "    def __len__(self):\n",
    "        return len(self.X)\n",
    "\n",
    "    def __getitem__(self, idx):\n",
    "        x = self.X[idx]  # Already a tensor\n",
    "        y = self.y[idx]  # Already a tensor\n",
    "        return x, y\n"
   ],
   "id": "b421dd7429b2e021",
   "outputs": [],
   "execution_count": 18
  },
  {
   "metadata": {
    "ExecuteTime": {
     "end_time": "2024-12-13T01:10:15.868786Z",
     "start_time": "2024-12-13T01:10:15.600800Z"
    }
   },
   "cell_type": "code",
   "source": [
    "training_dataset = torch.load(\"data/embeddings/train_dataset01.pth\")\n",
    "testing_dataset = torch.load(\"data/embeddings/test_dataset01.pth\")\n",
    "val_dataset = torch.load(\"data/embeddings/val_dataset01.pth\")"
   ],
   "id": "6b765a4d5b9a2627",
   "outputs": [
    {
     "name": "stderr",
     "output_type": "stream",
     "text": [
      "/tmp/ipykernel_30728/2349267412.py:1: FutureWarning: You are using `torch.load` with `weights_only=False` (the current default value), which uses the default pickle module implicitly. It is possible to construct malicious pickle data which will execute arbitrary code during unpickling (See https://github.com/pytorch/pytorch/blob/main/SECURITY.md#untrusted-models for more details). In a future release, the default value for `weights_only` will be flipped to `True`. This limits the functions that could be executed during unpickling. Arbitrary objects will no longer be allowed to be loaded via this mode unless they are explicitly allowlisted by the user via `torch.serialization.add_safe_globals`. We recommend you start setting `weights_only=True` for any use case where you don't have full control of the loaded file. Please open an issue on GitHub for any issues related to this experimental feature.\n",
      "  training_dataset = torch.load(\"data/embeddings/train_dataset01.pth\")\n",
      "/tmp/ipykernel_30728/2349267412.py:2: FutureWarning: You are using `torch.load` with `weights_only=False` (the current default value), which uses the default pickle module implicitly. It is possible to construct malicious pickle data which will execute arbitrary code during unpickling (See https://github.com/pytorch/pytorch/blob/main/SECURITY.md#untrusted-models for more details). In a future release, the default value for `weights_only` will be flipped to `True`. This limits the functions that could be executed during unpickling. Arbitrary objects will no longer be allowed to be loaded via this mode unless they are explicitly allowlisted by the user via `torch.serialization.add_safe_globals`. We recommend you start setting `weights_only=True` for any use case where you don't have full control of the loaded file. Please open an issue on GitHub for any issues related to this experimental feature.\n",
      "  testing_dataset = torch.load(\"data/embeddings/test_dataset01.pth\")\n",
      "/tmp/ipykernel_30728/2349267412.py:3: FutureWarning: You are using `torch.load` with `weights_only=False` (the current default value), which uses the default pickle module implicitly. It is possible to construct malicious pickle data which will execute arbitrary code during unpickling (See https://github.com/pytorch/pytorch/blob/main/SECURITY.md#untrusted-models for more details). In a future release, the default value for `weights_only` will be flipped to `True`. This limits the functions that could be executed during unpickling. Arbitrary objects will no longer be allowed to be loaded via this mode unless they are explicitly allowlisted by the user via `torch.serialization.add_safe_globals`. We recommend you start setting `weights_only=True` for any use case where you don't have full control of the loaded file. Please open an issue on GitHub for any issues related to this experimental feature.\n",
      "  val_dataset = torch.load(\"data/embeddings/val_dataset01.pth\")\n"
     ]
    }
   ],
   "execution_count": 19
  },
  {
   "metadata": {
    "ExecuteTime": {
     "end_time": "2024-12-13T01:10:17.853059Z",
     "start_time": "2024-12-13T01:10:17.850759Z"
    }
   },
   "cell_type": "code",
   "source": "len(val_dataset), len(testing_dataset), len(training_dataset)",
   "id": "3aa7ea76857fac6d",
   "outputs": [
    {
     "data": {
      "text/plain": [
       "(622, 1952, 10403)"
      ]
     },
     "execution_count": 20,
     "metadata": {},
     "output_type": "execute_result"
    }
   ],
   "execution_count": 20
  },
  {
   "metadata": {
    "ExecuteTime": {
     "end_time": "2024-12-13T01:10:19.206446Z",
     "start_time": "2024-12-13T01:10:19.203617Z"
    }
   },
   "cell_type": "code",
   "source": [
    "# # Convert dataset outcomes to float32\n",
    "# def convert_dataset_to_float32(dataset):\n",
    "#     dataset.y = dataset.y.to(torch.float32)\n",
    "#     return dataset\n",
    "\n",
    "def convert_dataset_to_float32(dataset):\n",
    "    # Ensure y is converted to a PyTorch tensor first\n",
    "    if isinstance(dataset.y, list):\n",
    "        dataset.y = torch.tensor(dataset.y, dtype=torch.float32)\n",
    "    else:\n",
    "        dataset.y = dataset.y.to(torch.float32)\n",
    "    return dataset\n",
    "\n",
    "# Convert all datasets\n",
    "training_dataset = convert_dataset_to_float32(training_dataset)\n",
    "testing_dataset = convert_dataset_to_float32(testing_dataset)\n",
    "val_dataset = convert_dataset_to_float32(val_dataset)\n"
   ],
   "id": "e55f1ac596026dbb",
   "outputs": [],
   "execution_count": 21
  },
  {
   "metadata": {
    "ExecuteTime": {
     "end_time": "2024-12-13T01:10:19.831642Z",
     "start_time": "2024-12-13T01:10:19.824762Z"
    }
   },
   "cell_type": "code",
   "source": [
    "training_dataset.X = torch.tensor(training_dataset.X, dtype=torch.float32)\n",
    "testing_dataset.X = torch.tensor(testing_dataset.X, dtype=torch.float32)\n",
    "val_dataset.X = torch.tensor(val_dataset.X, dtype=torch.float32)"
   ],
   "id": "fe3fb6c17d5c22fc",
   "outputs": [],
   "execution_count": 22
  },
  {
   "metadata": {
    "ExecuteTime": {
     "end_time": "2024-12-13T01:10:21.687178Z",
     "start_time": "2024-12-13T01:10:21.684809Z"
    }
   },
   "cell_type": "code",
   "source": "type(training_dataset.X)",
   "id": "ed26ab905e9c7666",
   "outputs": [
    {
     "data": {
      "text/plain": [
       "torch.Tensor"
      ]
     },
     "execution_count": 23,
     "metadata": {},
     "output_type": "execute_result"
    }
   ],
   "execution_count": 23
  },
  {
   "metadata": {
    "ExecuteTime": {
     "end_time": "2024-12-13T01:10:24.136287Z",
     "start_time": "2024-12-13T01:10:24.133992Z"
    }
   },
   "cell_type": "code",
   "source": [
    "# Define a simple two-layer neural net with dropout and layer norm\n",
    "class SimpleNeuralNet(nn.Module):\n",
    "    def __init__(self, input_dim, hidden_dim, output_dim):\n",
    "        super(SimpleNeuralNet, self).__init__()\n",
    "        self.layer1 = nn.Sequential(\n",
    "            nn.Linear(input_dim, hidden_dim),\n",
    "            nn.LayerNorm(hidden_dim),\n",
    "            nn.ReLU(),\n",
    "            nn.Dropout(0.3)\n",
    "        )\n",
    "        self.layer2 = nn.Linear(hidden_dim, output_dim)\n",
    "\n",
    "    def forward(self, x):\n",
    "        x = self.layer1(x)\n",
    "        x = self.layer2(x)\n",
    "        return x\n"
   ],
   "id": "5e80977cc3b1bc7a",
   "outputs": [],
   "execution_count": 24
  },
  {
   "metadata": {
    "ExecuteTime": {
     "end_time": "2024-12-13T01:10:24.663647Z",
     "start_time": "2024-12-13T01:10:24.661763Z"
    }
   },
   "cell_type": "code",
   "source": [
    "input_dim = int(testing_dataset.X[0].shape[0])\n",
    "hidden_dim = int(testing_dataset.X[0].shape[0]/2)"
   ],
   "id": "4b638e0aca6eb7ce",
   "outputs": [],
   "execution_count": 25
  },
  {
   "metadata": {
    "ExecuteTime": {
     "end_time": "2024-12-13T01:13:31.650003Z",
     "start_time": "2024-12-13T01:13:31.633793Z"
    }
   },
   "cell_type": "code",
   "source": [
    "model = SimpleNeuralNet(input_dim=input_dim, hidden_dim=hidden_dim, output_dim=1)\n",
    "model = model.to(\"cuda\")"
   ],
   "id": "24e3e20c0ea171bb",
   "outputs": [],
   "execution_count": 35
  },
  {
   "metadata": {
    "ExecuteTime": {
     "end_time": "2024-12-13T01:13:32.147691Z",
     "start_time": "2024-12-13T01:13:32.145827Z"
    }
   },
   "cell_type": "code",
   "source": [
    "optimizer = optim.AdamW(model.parameters(), lr=1e-3)\n",
    "\n",
    "criterion = nn.MSELoss()"
   ],
   "id": "c4f315cb50bafd10",
   "outputs": [],
   "execution_count": 36
  },
  {
   "metadata": {
    "ExecuteTime": {
     "end_time": "2024-12-13T01:13:37.551590Z",
     "start_time": "2024-12-13T01:13:37.550185Z"
    }
   },
   "cell_type": "code",
   "source": "num_epochs = 10",
   "id": "9c42c8e272b89baf",
   "outputs": [],
   "execution_count": 39
  },
  {
   "metadata": {
    "ExecuteTime": {
     "end_time": "2024-12-13T01:13:38.355878Z",
     "start_time": "2024-12-13T01:13:38.354183Z"
    }
   },
   "cell_type": "code",
   "source": [
    "# Prepare data loaders\n",
    "batch_size = 512\n",
    "train_loader = DataLoader(training_dataset, batch_size=batch_size, shuffle=True)\n",
    "test_loader = DataLoader(testing_dataset, batch_size=batch_size, shuffle=False)\n"
   ],
   "id": "b595c2c2de42eecd",
   "outputs": [],
   "execution_count": 40
  },
  {
   "metadata": {
    "ExecuteTime": {
     "end_time": "2024-12-13T01:13:39.699055Z",
     "start_time": "2024-12-13T01:13:39.058473Z"
    }
   },
   "cell_type": "code",
   "source": [
    "train_losses = []\n",
    "test_losses = []\n",
    "\n",
    "for epoch_num in range(num_epochs):\n",
    "    \n",
    "    test_loss = 0.0\n",
    "    model.eval()\n",
    "    with torch.no_grad():\n",
    "        # for inputs, labels in tqdm(test_loader, desc=f\"Testing Epoch {epoch_num}\"):\n",
    "        for inputs, labels in test_loader:\n",
    "            inputs, labels = inputs.to(\"cuda\"), labels.to(\"cuda\")\n",
    "            outputs = model(inputs)\n",
    "            loss = criterion(outputs.squeeze(-1), labels)\n",
    "            # test_loss += loss.item()\n",
    "            test_loss += loss.item() * inputs.size(0)  # Multiply batch loss by batch size\n",
    "        avg_loss = test_loss/len(testing_dataset)\n",
    "        test_losses.append(avg_loss)\n",
    "        print(f\"TEST LOSS: PRE Epoch-{epoch_num}, we have {avg_loss:.4f}\")\n",
    "        \n",
    "\n",
    "    model.train()\n",
    "    train_loss = 0.0\n",
    "\n",
    "    for inputs, labels in tqdm(train_loader, desc=f\"Training Epoch {epoch_num}\"):\n",
    "        inputs, labels = inputs.to(\"cuda\"), labels.to(\"cuda\")\n",
    "\n",
    "        # Zero the parameter gradients\n",
    "        optimizer.zero_grad()\n",
    "\n",
    "        # Forward pass\n",
    "        outputs = model(inputs)\n",
    "        # loss = criterion(outputs, labels) # MY MSITAKE - DO NOT DO THIS\n",
    "        loss = criterion(outputs.squeeze(-1), labels)\n",
    "\n",
    "        # Backward pass and optimization\n",
    "        loss.backward()\n",
    "        optimizer.step()\n",
    "\n",
    "        # train_loss += loss.item()\n",
    "        train_loss += loss.item() * inputs.size(0)  # Multiply batch loss by batch size\n",
    "    avg_loss = train_loss/len(training_dataset) # /len(train_dataset) ?? TODO\n",
    "    train_losses.append(avg_loss)  \n",
    "    print(f\"TRAIN LOSS: On Epoch-{epoch_num}, we have {avg_loss:.4f}\")\n",
    "        \n",
    "        "
   ],
   "id": "d04b590217f2da4f",
   "outputs": [
    {
     "name": "stdout",
     "output_type": "stream",
     "text": [
      "TEST LOSS: PRE Epoch-0, we have 121.9037\n"
     ]
    },
    {
     "data": {
      "text/plain": [
       "Training Epoch 0:   0%|          | 0/21 [00:00<?, ?it/s]"
      ],
      "application/vnd.jupyter.widget-view+json": {
       "version_major": 2,
       "version_minor": 0,
       "model_id": "c2464f6dbe1f440f911c568547ee89c6"
      }
     },
     "metadata": {},
     "output_type": "display_data"
    },
    {
     "name": "stdout",
     "output_type": "stream",
     "text": [
      "TRAIN LOSS: On Epoch-0, we have 77.0136\n",
      "TEST LOSS: PRE Epoch-1, we have 59.2804\n"
     ]
    },
    {
     "data": {
      "text/plain": [
       "Training Epoch 1:   0%|          | 0/21 [00:00<?, ?it/s]"
      ],
      "application/vnd.jupyter.widget-view+json": {
       "version_major": 2,
       "version_minor": 0,
       "model_id": "7d183003d76f4a07b95a62a2067a10c4"
      }
     },
     "metadata": {},
     "output_type": "display_data"
    },
    {
     "name": "stdout",
     "output_type": "stream",
     "text": [
      "TRAIN LOSS: On Epoch-1, we have 47.7096\n",
      "TEST LOSS: PRE Epoch-2, we have 30.8219\n"
     ]
    },
    {
     "data": {
      "text/plain": [
       "Training Epoch 2:   0%|          | 0/21 [00:00<?, ?it/s]"
      ],
      "application/vnd.jupyter.widget-view+json": {
       "version_major": 2,
       "version_minor": 0,
       "model_id": "087c127ca639489ba2cd7bb5b8df0987"
      }
     },
     "metadata": {},
     "output_type": "display_data"
    },
    {
     "name": "stdout",
     "output_type": "stream",
     "text": [
      "TRAIN LOSS: On Epoch-2, we have 27.0455\n",
      "TEST LOSS: PRE Epoch-3, we have 19.1743\n"
     ]
    },
    {
     "data": {
      "text/plain": [
       "Training Epoch 3:   0%|          | 0/21 [00:00<?, ?it/s]"
      ],
      "application/vnd.jupyter.widget-view+json": {
       "version_major": 2,
       "version_minor": 0,
       "model_id": "d49cf27437954298912f309c59757c5c"
      }
     },
     "metadata": {},
     "output_type": "display_data"
    },
    {
     "name": "stdout",
     "output_type": "stream",
     "text": [
      "TRAIN LOSS: On Epoch-3, we have 17.1422\n",
      "TEST LOSS: PRE Epoch-4, we have 12.2894\n"
     ]
    },
    {
     "data": {
      "text/plain": [
       "Training Epoch 4:   0%|          | 0/21 [00:00<?, ?it/s]"
      ],
      "application/vnd.jupyter.widget-view+json": {
       "version_major": 2,
       "version_minor": 0,
       "model_id": "66e0a4f2dfbe4813b42d9ec5de747dd6"
      }
     },
     "metadata": {},
     "output_type": "display_data"
    },
    {
     "name": "stdout",
     "output_type": "stream",
     "text": [
      "TRAIN LOSS: On Epoch-4, we have 11.4667\n",
      "TEST LOSS: PRE Epoch-5, we have 8.5828\n"
     ]
    },
    {
     "data": {
      "text/plain": [
       "Training Epoch 5:   0%|          | 0/21 [00:00<?, ?it/s]"
      ],
      "application/vnd.jupyter.widget-view+json": {
       "version_major": 2,
       "version_minor": 0,
       "model_id": "1b9ea7ef22494e4d969a087c14d78785"
      }
     },
     "metadata": {},
     "output_type": "display_data"
    },
    {
     "name": "stdout",
     "output_type": "stream",
     "text": [
      "TRAIN LOSS: On Epoch-5, we have 8.0908\n",
      "TEST LOSS: PRE Epoch-6, we have 6.1475\n"
     ]
    },
    {
     "data": {
      "text/plain": [
       "Training Epoch 6:   0%|          | 0/21 [00:00<?, ?it/s]"
      ],
      "application/vnd.jupyter.widget-view+json": {
       "version_major": 2,
       "version_minor": 0,
       "model_id": "d5f96f81da7f4da8b409cd0c58c1252f"
      }
     },
     "metadata": {},
     "output_type": "display_data"
    },
    {
     "name": "stdout",
     "output_type": "stream",
     "text": [
      "TRAIN LOSS: On Epoch-6, we have 6.2343\n",
      "TEST LOSS: PRE Epoch-7, we have 5.3008\n"
     ]
    },
    {
     "data": {
      "text/plain": [
       "Training Epoch 7:   0%|          | 0/21 [00:00<?, ?it/s]"
      ],
      "application/vnd.jupyter.widget-view+json": {
       "version_major": 2,
       "version_minor": 0,
       "model_id": "787caca24ee04f2ba1ef57ba013bbcb2"
      }
     },
     "metadata": {},
     "output_type": "display_data"
    },
    {
     "name": "stdout",
     "output_type": "stream",
     "text": [
      "TRAIN LOSS: On Epoch-7, we have 5.1234\n",
      "TEST LOSS: PRE Epoch-8, we have 4.6560\n"
     ]
    },
    {
     "data": {
      "text/plain": [
       "Training Epoch 8:   0%|          | 0/21 [00:00<?, ?it/s]"
      ],
      "application/vnd.jupyter.widget-view+json": {
       "version_major": 2,
       "version_minor": 0,
       "model_id": "8c825cbe390a47719bfcc9f1f3658474"
      }
     },
     "metadata": {},
     "output_type": "display_data"
    },
    {
     "name": "stdout",
     "output_type": "stream",
     "text": [
      "TRAIN LOSS: On Epoch-8, we have 4.7508\n",
      "TEST LOSS: PRE Epoch-9, we have 4.7887\n"
     ]
    },
    {
     "data": {
      "text/plain": [
       "Training Epoch 9:   0%|          | 0/21 [00:00<?, ?it/s]"
      ],
      "application/vnd.jupyter.widget-view+json": {
       "version_major": 2,
       "version_minor": 0,
       "model_id": "a7a43b7496a4440b8bf63ed7dbe4006f"
      }
     },
     "metadata": {},
     "output_type": "display_data"
    },
    {
     "name": "stdout",
     "output_type": "stream",
     "text": [
      "TRAIN LOSS: On Epoch-9, we have 4.6525\n"
     ]
    }
   ],
   "execution_count": 41
  },
  {
   "metadata": {},
   "cell_type": "code",
   "source": "",
   "id": "858bc3ff06a7f73a",
   "outputs": [],
   "execution_count": null
  },
  {
   "metadata": {
    "ExecuteTime": {
     "end_time": "2024-12-13T01:13:42.757918Z",
     "start_time": "2024-12-13T01:13:42.705547Z"
    }
   },
   "cell_type": "code",
   "source": "plt.plot(train_losses)",
   "id": "94cfe7edf10a146b",
   "outputs": [
    {
     "data": {
      "text/plain": [
       "[<matplotlib.lines.Line2D at 0x723d49d27c50>]"
      ]
     },
     "execution_count": 42,
     "metadata": {},
     "output_type": "execute_result"
    },
    {
     "data": {
      "text/plain": [
       "<Figure size 640x480 with 1 Axes>"
      ],
      "image/png": "[encoded data removed]"
     },
     "metadata": {},
     "output_type": "display_data"
    }
   ],
   "execution_count": 42
  },
  {
   "metadata": {
    "ExecuteTime": {
     "end_time": "2024-12-13T01:13:43.322920Z",
     "start_time": "2024-12-13T01:13:43.272156Z"
    }
   },
   "cell_type": "code",
   "source": "plt.plot(test_losses)",
   "id": "7c7477e38872d15",
   "outputs": [
    {
     "data": {
      "text/plain": [
       "[<matplotlib.lines.Line2D at 0x723d49ca5d90>]"
      ]
     },
     "execution_count": 43,
     "metadata": {},
     "output_type": "execute_result"
    },
    {
     "data": {
      "text/plain": [
       "<Figure size 640x480 with 1 Axes>"
      ],
      "image/png": "[encoded data removed]"
     },
     "metadata": {},
     "output_type": "display_data"
    }
   ],
   "execution_count": 43
  },
  {
   "metadata": {},
   "cell_type": "code",
   "source": "",
   "id": "30871d2f6f796277",
   "outputs": [],
   "execution_count": null
  },
  {
   "metadata": {
    "ExecuteTime": {
     "end_time": "2024-12-13T01:13:46.710843Z",
     "start_time": "2024-12-13T01:13:46.709267Z"
    }
   },
   "cell_type": "code",
   "source": "val_loader = DataLoader(val_dataset, batch_size=batch_size, shuffle=False)",
   "id": "6d2b1c5541168ac4",
   "outputs": [],
   "execution_count": 44
  },
  {
   "metadata": {
    "ExecuteTime": {
     "end_time": "2024-12-13T01:13:47.337773Z",
     "start_time": "2024-12-13T01:13:47.328169Z"
    }
   },
   "cell_type": "code",
   "source": [
    "val_loss = 0.0\n",
    "model.eval()\n",
    "with torch.no_grad():\n",
    "    # for inputs, labels in tqdm(test_loader, desc=f\"Testing Epoch {epoch_num}\"):\n",
    "    for inputs, labels in test_loader:\n",
    "        inputs, labels = inputs.to(\"cuda\"), labels.to(\"cuda\")\n",
    "        outputs = model(inputs)\n",
    "        loss = criterion(outputs.squeeze(-1), labels)\n",
    "        # test_loss += loss.item()\n",
    "        val_loss += loss.item() * inputs.size(0)  # Multiply batch loss by batch size\n",
    "    avg_loss = val_loss/len(testing_dataset)\n",
    "    print(f\"ON VAL SET, ACHIEVED {avg_loss:.4f}\")"
   ],
   "id": "402409a7ef3f90b8",
   "outputs": [
    {
     "name": "stdout",
     "output_type": "stream",
     "text": [
      "ON VAL SET, ACHIEVED 4.3386\n"
     ]
    }
   ],
   "execution_count": 45
  },
  {
   "metadata": {},
   "cell_type": "code",
   "source": "",
   "id": "1ba4307cd50ee010",
   "outputs": [],
   "execution_count": null
  },
  {
   "metadata": {},
   "cell_type": "code",
   "source": "",
   "id": "f4c71ad0c33f159",
   "outputs": [],
   "execution_count": null
  },
  {
   "metadata": {},
   "cell_type": "code",
   "source": "",
   "id": "f3c1e898837f053f",
   "outputs": [],
   "execution_count": null
  },
  {
   "metadata": {},
   "cell_type": "code",
   "source": "",
   "id": "235e10d7a67ef628",
   "outputs": [],
   "execution_count": null
  },
  {
   "metadata": {},
   "cell_type": "code",
   "source": [
    "# Define the train function for 1 epoch\n",
    "def train_one_epoch(model, dataloader, optimizer, device, epoch):\n"
   ],
   "id": "4917b29cc86f4fa3",
   "outputs": [],
   "execution_count": null
  },
  {
   "metadata": {},
   "cell_type": "code",
   "source": [
    "# Define the evaluation function\n",
    "def evaluate(model, dataloader, device):\n",
    "    model.eval()\n",
    "    criterion = nn.MSELoss()\n",
    "    running_loss = 0.0\n",
    "\n",
    "    with torch.no_grad():\n",
    "        for i, (inputs, labels) in enumerate(tqdm(dataloader, desc=\"Evaluating\")):\n",
    "            inputs, labels = inputs.to(device), labels.to(device)\n",
    "\n",
    "            # Forward pass\n",
    "            outputs = model(inputs)\n",
    "            loss = criterion(outputs, labels)\n",
    "            running_loss += loss.item()\n",
    "\n",
    "    avg_loss = running_loss / len(dataloader)\n",
    "    print(f\"Validation Loss = {avg_loss:.4f}\")\n",
    "    return avg_loss\n",
    "\n"
   ],
   "id": "1427d0341974ebd",
   "outputs": [],
   "execution_count": null
  },
  {
   "metadata": {},
   "cell_type": "code",
   "source": "\n",
   "id": "f5c87f5e53320772",
   "outputs": [],
   "execution_count": null
  },
  {
   "metadata": {},
   "cell_type": "code",
   "source": [
    "input_dim = training_dataset.X.shape[1]\n",
    "hidden_dim = 512\n",
    "output_dim = 1\n",
    "\n",
    "\n"
   ],
   "id": "50576d474bc48524",
   "outputs": [],
   "execution_count": null
  },
  {
   "metadata": {},
   "cell_type": "code",
   "source": "optimizer = get_optimizer(model, learning_rate=0.001)",
   "id": "4778b7066d7c273f",
   "outputs": [],
   "execution_count": null
  },
  {
   "metadata": {},
   "cell_type": "code",
   "source": [
    "# Train and evaluate\n",
    "num_epochs = 10\n",
    "for epoch in range(1, num_epochs + 1):\n",
    "    train_one_epoch(model, train_loader, optimizer, device, epoch)\n",
    "    eval_loss = evaluate(model, val_loader, device)\n",
    "    print(f\"Epoch {epoch}: Validation Loss = {eval_loss:.4f}\")"
   ],
   "id": "5e416d08c1aa552b",
   "outputs": [],
   "execution_count": null
  },
  {
   "metadata": {},
   "cell_type": "code",
   "source": "",
   "id": "942812119a61fe48",
   "outputs": [],
   "execution_count": null
  },
  {
   "metadata": {},
   "cell_type": "code",
   "source": "",
   "id": "31499e4b71196ec",
   "outputs": [],
   "execution_count": null
  },
  {
   "metadata": {},
   "cell_type": "code",
   "source": "",
   "id": "9d026d0ebb627f81",
   "outputs": [],
   "execution_count": null
  },
  {
   "metadata": {},
   "cell_type": "code",
   "source": "",
   "id": "31ab04797e92617",
   "outputs": [],
   "execution_count": null
  },
  {
   "metadata": {},
   "cell_type": "code",
   "source": "",
   "id": "1a41f8f485a1e4d7",
   "outputs": [],
   "execution_count": null
  }
 ],
 "metadata": {
  "kernelspec": {
   "display_name": "Python 3",
   "language": "python",
   "name": "python3"
  },
  "language_info": {
   "codemirror_mode": {
    "name": "ipython",
    "version": 2
   },
   "file_extension": ".py",
   "mimetype": "text/x-python",
   "name": "python",
   "nbconvert_exporter": "python",
   "pygments_lexer": "ipython2",
   "version": "2.7.6"
  }
 },
 "nbformat": 4,
 "nbformat_minor": 5
}
