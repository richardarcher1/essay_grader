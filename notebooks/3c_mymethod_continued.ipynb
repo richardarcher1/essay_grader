{
 "cells": [
  {
   "cell_type": "code",
   "id": "initial_id",
   "metadata": {
    "collapsed": true,
    "ExecuteTime": {
     "end_time": "2024-12-13T20:34:26.399857Z",
     "start_time": "2024-12-13T20:34:25.549369Z"
    }
   },
   "source": [
    "import torch\n",
    "from torch.utils.data import Dataset\n",
    "\n",
    "import torch\n",
    "import torch.nn as nn\n",
    "import torch.optim as optim\n",
    "from torch.utils.data import DataLoader\n",
    "# from torch.utils.tensorboard import SummaryWriter\n",
    "# from tqdm import tqdm\n",
    "from tqdm.notebook import tqdm\n",
    "\n",
    "from matplotlib import pyplot as plt\n",
    "\n",
    "from torch.optim import Optimizer\n",
    "from torch.optim.lr_scheduler import _LRScheduler\n",
    "\n",
    "import polars as pl"
   ],
   "outputs": [],
   "execution_count": 1
  },
  {
   "metadata": {
    "ExecuteTime": {
     "end_time": "2024-12-13T20:34:26.403689Z",
     "start_time": "2024-12-13T20:34:26.401845Z"
    }
   },
   "cell_type": "code",
   "source": [
    "class CustomDataset(Dataset):\n",
    "    def __init__(self, embeddings, labels):\n",
    "        # embeddings: list of numpy arrays or torch tensors\n",
    "        # labels: list of scalars\n",
    "        self.X = torch.tensor(embeddings, dtype=torch.float32)\n",
    "        self.y = torch.tensor(labels, dtype=torch.float32)  # or long, depending on your task\n",
    "\n",
    "    def __len__(self):\n",
    "        return len(self.y)\n",
    "\n",
    "    def __getitem__(self, idx):\n",
    "        return self.X[idx], self.y[idx]"
   ],
   "id": "a1e337aa14cbd065",
   "outputs": [],
   "execution_count": 2
  },
  {
   "metadata": {},
   "cell_type": "markdown",
   "source": "# BELOW WWAS CHANGED FOR DEBUGGING: CHANGE IT BACK ASAP!!!!",
   "id": "a3c44d646451edcc"
  },
  {
   "metadata": {
    "ExecuteTime": {
     "end_time": "2024-12-13T20:34:26.511148Z",
     "start_time": "2024-12-13T20:34:26.447307Z"
    }
   },
   "cell_type": "code",
   "source": [
    "training_dataset = torch.load(\"../data/2_ready_for_training/mymethod/training.pt\")\n",
    "testing_dataset = torch.load(\"../data/2_ready_for_training/mymethod/testing.pt\")\n",
    "val_dataset = torch.load(\"../data/2_ready_for_training/mymethod/val.pt\")"
   ],
   "id": "c23d895ea0026ad5",
   "outputs": [
    {
     "name": "stderr",
     "output_type": "stream",
     "text": [
      "/tmp/ipykernel_16896/3403719866.py:1: FutureWarning: You are using `torch.load` with `weights_only=False` (the current default value), which uses the default pickle module implicitly. It is possible to construct malicious pickle data which will execute arbitrary code during unpickling (See https://github.com/pytorch/pytorch/blob/main/SECURITY.md#untrusted-models for more details). In a future release, the default value for `weights_only` will be flipped to `True`. This limits the functions that could be executed during unpickling. Arbitrary objects will no longer be allowed to be loaded via this mode unless they are explicitly allowlisted by the user via `torch.serialization.add_safe_globals`. We recommend you start setting `weights_only=True` for any use case where you don't have full control of the loaded file. Please open an issue on GitHub for any issues related to this experimental feature.\n",
      "  training_dataset = torch.load(\"../data/2_ready_for_training/mymethod/training.pt\")\n",
      "/tmp/ipykernel_16896/3403719866.py:2: FutureWarning: You are using `torch.load` with `weights_only=False` (the current default value), which uses the default pickle module implicitly. It is possible to construct malicious pickle data which will execute arbitrary code during unpickling (See https://github.com/pytorch/pytorch/blob/main/SECURITY.md#untrusted-models for more details). In a future release, the default value for `weights_only` will be flipped to `True`. This limits the functions that could be executed during unpickling. Arbitrary objects will no longer be allowed to be loaded via this mode unless they are explicitly allowlisted by the user via `torch.serialization.add_safe_globals`. We recommend you start setting `weights_only=True` for any use case where you don't have full control of the loaded file. Please open an issue on GitHub for any issues related to this experimental feature.\n",
      "  testing_dataset = torch.load(\"../data/2_ready_for_training/mymethod/testing.pt\")\n",
      "/tmp/ipykernel_16896/3403719866.py:3: FutureWarning: You are using `torch.load` with `weights_only=False` (the current default value), which uses the default pickle module implicitly. It is possible to construct malicious pickle data which will execute arbitrary code during unpickling (See https://github.com/pytorch/pytorch/blob/main/SECURITY.md#untrusted-models for more details). In a future release, the default value for `weights_only` will be flipped to `True`. This limits the functions that could be executed during unpickling. Arbitrary objects will no longer be allowed to be loaded via this mode unless they are explicitly allowlisted by the user via `torch.serialization.add_safe_globals`. We recommend you start setting `weights_only=True` for any use case where you don't have full control of the loaded file. Please open an issue on GitHub for any issues related to this experimental feature.\n",
      "  val_dataset = torch.load(\"../data/2_ready_for_training/mymethod/val.pt\")\n"
     ]
    }
   ],
   "execution_count": 3
  },
  {
   "metadata": {
    "ExecuteTime": {
     "end_time": "2024-12-13T20:34:26.518329Z",
     "start_time": "2024-12-13T20:34:26.515827Z"
    }
   },
   "cell_type": "code",
   "source": "len(val_dataset), len(testing_dataset), len(training_dataset)",
   "id": "8716417ed8e7d090",
   "outputs": [
    {
     "data": {
      "text/plain": [
       "(622, 1952, 10403)"
      ]
     },
     "execution_count": 4,
     "metadata": {},
     "output_type": "execute_result"
    }
   ],
   "execution_count": 4
  },
  {
   "metadata": {
    "ExecuteTime": {
     "end_time": "2024-12-13T20:34:27.134144Z",
     "start_time": "2024-12-13T20:34:26.555250Z"
    }
   },
   "cell_type": "code",
   "source": [
    "# Define a simple two-layer neural net with dropout and layer norm\n",
    "class MyMethodNeuralNet(nn.Module):\n",
    "    def __init__(self, input_dim, hidden_dim, output_dim):\n",
    "        super(MyMethodNeuralNet, self).__init__()\n",
    "        self.layer1 = nn.Sequential(\n",
    "            nn.Linear(input_dim, hidden_dim),\n",
    "            nn.LayerNorm(hidden_dim),\n",
    "            nn.ReLU(),\n",
    "            nn.Dropout(0.1)\n",
    "        )\n",
    "        self.layer2 = nn.Sequential(\n",
    "            nn.Linear(hidden_dim, 1_024),\n",
    "            nn.LayerNorm(1_024),\n",
    "            nn.ReLU(),\n",
    "            nn.Dropout(0.1)\n",
    "        )\n",
    "        self.layer3 = nn.Linear(1_024, output_dim)\n",
    "\n",
    "    def forward(self, x):\n",
    "        x = self.layer1(x)\n",
    "        x = self.layer2(x)\n",
    "        x = self.layer3(x)\n",
    "        return x\n",
    "\n",
    "\n",
    "input_dim = 4_096# int(testing_dataset.X[0].shape[0])\n",
    "hidden_dim = 2_048 # int(testing_dataset.X[0].shape[0]/2)\n",
    "\n",
    "model = MyMethodNeuralNet(input_dim=input_dim, hidden_dim=hidden_dim, output_dim=1)\n",
    "model = model.to(\"cuda\")\n",
    "\n",
    "optimizer = optim.AdamW(model.parameters(), lr=1e-4)\n",
    "\n",
    "num_epochs = 55\n",
    "\n",
    "# Prepare data loaders\n",
    "batch_size = 512\n"
   ],
   "id": "78573236c92a6089",
   "outputs": [],
   "execution_count": 5
  },
  {
   "metadata": {
    "ExecuteTime": {
     "end_time": "2024-12-13T20:34:27.138709Z",
     "start_time": "2024-12-13T20:34:27.137433Z"
    }
   },
   "cell_type": "code",
   "source": [
    "# # Define a simple two-layer neural net with dropout and layer norm\n",
    "# class MyMethodNeuralNet(nn.Module):\n",
    "#     def __init__(self, input_dim, hidden_dim, output_dim):\n",
    "#         super(MyMethodNeuralNet, self).__init__()\n",
    "#         self.layer1 = nn.Sequential(\n",
    "#             nn.Linear(input_dim, hidden_dim),\n",
    "#             nn.LayerNorm(hidden_dim),\n",
    "#             nn.ReLU(),\n",
    "#             nn.Dropout(0.1)\n",
    "#         )\n",
    "#\n",
    "#         self.layer3 = nn.Linear(hidden_dim, output_dim)\n",
    "#\n",
    "#     def forward(self, x):\n",
    "#         x = self.layer1(x)\n",
    "#         # x = self.layer2(x)\n",
    "#         x = self.layer3(x)\n",
    "#         return x"
   ],
   "id": "11273ded0b07de48",
   "outputs": [],
   "execution_count": 6
  },
  {
   "metadata": {
    "ExecuteTime": {
     "end_time": "2024-12-13T20:34:27.181766Z",
     "start_time": "2024-12-13T20:34:27.179340Z"
    }
   },
   "cell_type": "code",
   "source": [
    "class FlatLRScheduler(_LRScheduler):\n",
    "    def __init__(self, optimizer: Optimizer, schedule: list, last_epoch: int = -1):\n",
    "        \"\"\"\n",
    "        Custom Learning Rate Scheduler.\n",
    "\n",
    "        Args:\n",
    "            optimizer (Optimizer): Wrapped optimizer.\n",
    "            schedule (list): List of tuples defining (epoch_range, lr_value).\n",
    "                             Example: [(9, 1e-3), (8, 1e-4), (8, 1e-5)]\n",
    "            last_epoch (int): The index of the last epoch. Default is -1.\n",
    "        \"\"\"\n",
    "        self.schedule = []\n",
    "        total_epochs = 0\n",
    "        for epochs, lr in schedule:\n",
    "            total_epochs += epochs\n",
    "            self.schedule.append((total_epochs, lr))\n",
    "        super().__init__(optimizer, last_epoch)\n",
    "\n",
    "    def get_lr(self):\n",
    "        current_epoch = self.last_epoch + 1\n",
    "        for end_epoch, lr in self.schedule:\n",
    "            if current_epoch <= end_epoch:\n",
    "                return [lr for _ in self.optimizer.param_groups]\n",
    "        raise ValueError(f\"Epoch {current_epoch} is out of range for the provided schedule.\")\n",
    "\n",
    "# Define the schedule: [(9 epochs at 1e-3), (8 epochs at 1e-4), (8 epochs at 1e-5)]\n",
    "# schedule = [(9, 1e-3), (8, 1e-4), (8, 1e-5)]\n",
    "# schedule = [(10, 1e-3), (10, 1e-4), (5, 1e-5)]\n",
    "# schedule = [(15, 1e-3), (16, 1e-4)] # THIS SHOULD BE ONE LONGER THAN NUM_EPOCHS TO AVOID OFF BY ONE ERROR\n",
    "# schedule = [(5, 1e-3), (15, 1e-4),(16, 1e-5)] # THIS SHOULD BE ONE LONGER THAN NUM_EPOCHS TO AVOID OFF BY ONE ERROR\n",
    "# schedule = [(35, 1e-4)] # THIS SHOULD BE ONE LONGER THAN NUM_EPOCHS TO AVOID OFF BY ONE ERROR\n",
    "# schedule = [(1_000, 1e-4)] # THIS SHOULD BE ONE LONGER THAN NUM_EPOCHS TO AVOID OFF BY ONE ERROR\n",
    "schedule = [(40, 1e-4),(1_000, 1e-5)] # THIS SHOULD BE ONE LONGER THAN NUM_EPOCHS TO AVOID OFF BY ONE ERROR\n",
    "\n",
    "# Initialize the custom scheduler\n",
    "scheduler = FlatLRScheduler(optimizer, schedule)\n"
   ],
   "id": "ddba297de9d80fcf",
   "outputs": [],
   "execution_count": 7
  },
  {
   "metadata": {
    "ExecuteTime": {
     "end_time": "2024-12-13T20:34:27.224335Z",
     "start_time": "2024-12-13T20:34:27.223079Z"
    }
   },
   "cell_type": "code",
   "source": "criterion = nn.MSELoss()",
   "id": "eb623e60d13f6ef",
   "outputs": [],
   "execution_count": 8
  },
  {
   "metadata": {
    "ExecuteTime": {
     "end_time": "2024-12-13T20:34:27.268219Z",
     "start_time": "2024-12-13T20:34:27.266402Z"
    }
   },
   "cell_type": "code",
   "source": [
    "train_loader = DataLoader(training_dataset, batch_size=batch_size, shuffle=True)\n",
    "test_loader = DataLoader(testing_dataset, batch_size=batch_size, shuffle=False)\n",
    "val_loader = DataLoader(val_dataset, batch_size=batch_size, shuffle=False)\n"
   ],
   "id": "901e6b435c621151",
   "outputs": [],
   "execution_count": 9
  },
  {
   "metadata": {
    "ExecuteTime": {
     "end_time": "2024-12-13T20:34:27.311436Z",
     "start_time": "2024-12-13T20:34:27.310189Z"
    }
   },
   "cell_type": "code",
   "source": "",
   "id": "87034fde08e0c39a",
   "outputs": [],
   "execution_count": null
  },
  {
   "metadata": {
    "ExecuteTime": {
     "end_time": "2024-12-13T20:34:32.677964Z",
     "start_time": "2024-12-13T20:34:27.353101Z"
    }
   },
   "cell_type": "code",
   "source": [
    "train_losses = []\n",
    "test_losses = []\n",
    "lr_s = []\n",
    "\n",
    "for epoch_num in range(num_epochs):\n",
    "    ######################################################################################################################################################################\n",
    "    test_loss = 0.0\n",
    "    model.eval()\n",
    "    with torch.no_grad():\n",
    "        # for inputs, labels in tqdm(test_loader, desc=f\"Testing Epoch {epoch_num}\"):\n",
    "        for inputs, labels in test_loader:\n",
    "            inputs, labels = inputs.to(\"cuda\"), labels.to(\"cuda\")\n",
    "            outputs = model(inputs)\n",
    "            loss = criterion(outputs.squeeze(-1), labels)\n",
    "            # test_loss += loss.item()\n",
    "            test_loss += loss.item() * inputs.size(0)  # Multiply batch loss by batch size\n",
    "        avg_loss = test_loss/len(testing_dataset)\n",
    "        test_losses.append(avg_loss)\n",
    "        print(f\"TEST LOSS: PRE Epoch-{epoch_num}, we have {avg_loss:.4f}\")\n",
    "\n",
    "\n",
    "    ######################################################################################################################################################################\n",
    "    model.train()\n",
    "    train_loss = 0.0\n",
    "\n",
    "    # for inputs, labels in tqdm(train_loader, desc=f\"Training Epoch {epoch_num}\"):\n",
    "    for inputs, labels in train_loader:\n",
    "        inputs, labels = inputs.to(\"cuda\"), labels.to(\"cuda\")\n",
    "\n",
    "        # Zero the parameter gradients\n",
    "        optimizer.zero_grad()\n",
    "\n",
    "        # Forward pass\n",
    "        outputs = model(inputs)\n",
    "        # loss = criterion(outputs, labels) # MY MSITAKE - DO NOT DO THIS\n",
    "        loss = criterion(outputs.squeeze(-1), labels)\n",
    "\n",
    "        # Backward pass and optimization\n",
    "        loss.backward()\n",
    "        optimizer.step()\n",
    "\n",
    "        # train_loss += loss.item()\n",
    "        train_loss += loss.item() * inputs.size(0)  # Multiply batch loss by batch size\n",
    "    avg_loss = train_loss/len(training_dataset) # /len(train_dataset) ?? TODO\n",
    "    train_losses.append(avg_loss)\n",
    "    # print(f\"TRAIN LOSS: On Epoch-{epoch_num}, we have {avg_loss:.4f}\")\n",
    "\n",
    "    scheduler.step()\n",
    "    current_lr = scheduler.get_last_lr()\n",
    "    lr_s.append(current_lr)\n",
    "\n",
    "\n"
   ],
   "id": "880f53ab870d9e8e",
   "outputs": [
    {
     "name": "stdout",
     "output_type": "stream",
     "text": [
      "TEST LOSS: PRE Epoch-0, we have 126.4704\n",
      "TEST LOSS: PRE Epoch-1, we have 66.4956\n",
      "TEST LOSS: PRE Epoch-2, we have 51.3875\n",
      "TEST LOSS: PRE Epoch-3, we have 43.4208\n",
      "TEST LOSS: PRE Epoch-4, we have 38.0207\n",
      "TEST LOSS: PRE Epoch-5, we have 33.7133\n",
      "TEST LOSS: PRE Epoch-6, we have 30.4305\n",
      "TEST LOSS: PRE Epoch-7, we have 26.8235\n",
      "TEST LOSS: PRE Epoch-8, we have 24.3691\n",
      "TEST LOSS: PRE Epoch-9, we have 22.2257\n",
      "TEST LOSS: PRE Epoch-10, we have 21.8707\n",
      "TEST LOSS: PRE Epoch-11, we have 19.1002\n",
      "TEST LOSS: PRE Epoch-12, we have 17.1300\n",
      "TEST LOSS: PRE Epoch-13, we have 16.8641\n",
      "TEST LOSS: PRE Epoch-14, we have 14.4125\n",
      "TEST LOSS: PRE Epoch-15, we have 13.6392\n",
      "TEST LOSS: PRE Epoch-16, we have 12.5944\n",
      "TEST LOSS: PRE Epoch-17, we have 11.8239\n",
      "TEST LOSS: PRE Epoch-18, we have 10.4850\n",
      "TEST LOSS: PRE Epoch-19, we have 9.9145\n",
      "TEST LOSS: PRE Epoch-20, we have 9.5676\n",
      "TEST LOSS: PRE Epoch-21, we have 8.5355\n",
      "TEST LOSS: PRE Epoch-22, we have 7.8142\n",
      "TEST LOSS: PRE Epoch-23, we have 7.6985\n",
      "TEST LOSS: PRE Epoch-24, we have 6.7173\n",
      "TEST LOSS: PRE Epoch-25, we have 7.5680\n",
      "TEST LOSS: PRE Epoch-26, we have 8.4668\n",
      "TEST LOSS: PRE Epoch-27, we have 6.1697\n",
      "TEST LOSS: PRE Epoch-28, we have 6.8175\n",
      "TEST LOSS: PRE Epoch-29, we have 4.9579\n",
      "TEST LOSS: PRE Epoch-30, we have 4.6897\n",
      "TEST LOSS: PRE Epoch-31, we have 4.5287\n",
      "TEST LOSS: PRE Epoch-32, we have 4.1865\n",
      "TEST LOSS: PRE Epoch-33, we have 4.2291\n",
      "TEST LOSS: PRE Epoch-34, we have 4.0573\n",
      "TEST LOSS: PRE Epoch-35, we have 6.1906\n",
      "TEST LOSS: PRE Epoch-36, we have 4.0059\n",
      "TEST LOSS: PRE Epoch-37, we have 3.7298\n",
      "TEST LOSS: PRE Epoch-38, we have 3.3431\n",
      "TEST LOSS: PRE Epoch-39, we have 3.3103\n",
      "TEST LOSS: PRE Epoch-40, we have 3.7204\n",
      "TEST LOSS: PRE Epoch-41, we have 3.1421\n",
      "TEST LOSS: PRE Epoch-42, we have 3.0499\n",
      "TEST LOSS: PRE Epoch-43, we have 3.0422\n",
      "TEST LOSS: PRE Epoch-44, we have 3.0889\n",
      "TEST LOSS: PRE Epoch-45, we have 3.1079\n",
      "TEST LOSS: PRE Epoch-46, we have 3.0648\n",
      "TEST LOSS: PRE Epoch-47, we have 2.9841\n",
      "TEST LOSS: PRE Epoch-48, we have 2.9928\n",
      "TEST LOSS: PRE Epoch-49, we have 2.9883\n",
      "TEST LOSS: PRE Epoch-50, we have 2.9619\n",
      "TEST LOSS: PRE Epoch-51, we have 2.9870\n",
      "TEST LOSS: PRE Epoch-52, we have 2.9468\n",
      "TEST LOSS: PRE Epoch-53, we have 2.9395\n",
      "TEST LOSS: PRE Epoch-54, we have 2.9812\n"
     ]
    }
   ],
   "execution_count": 10
  },
  {
   "metadata": {
    "ExecuteTime": {
     "end_time": "2024-12-13T20:34:32.842414Z",
     "start_time": "2024-12-13T20:34:32.795394Z"
    }
   },
   "cell_type": "code",
   "source": "plt.plot(train_losses)",
   "id": "ff1b01ac0e48b754",
   "outputs": [
    {
     "data": {
      "text/plain": [
       "[<matplotlib.lines.Line2D at 0x7ece4833c200>]"
      ]
     },
     "execution_count": 11,
     "metadata": {},
     "output_type": "execute_result"
    },
    {
     "data": {
      "text/plain": [
       "<Figure size 640x480 with 1 Axes>"
      ],
      "image/png": "[encoded data removed]"
     },
     "metadata": {},
     "output_type": "display_data"
    }
   ],
   "execution_count": 11
  },
  {
   "metadata": {
    "ExecuteTime": {
     "end_time": "2024-12-13T20:34:32.895987Z",
     "start_time": "2024-12-13T20:34:32.857488Z"
    }
   },
   "cell_type": "code",
   "source": "plt.plot(test_losses)",
   "id": "c862ce9afbcc0d0f",
   "outputs": [
    {
     "data": {
      "text/plain": [
       "[<matplotlib.lines.Line2D at 0x7ece483590a0>]"
      ]
     },
     "execution_count": 12,
     "metadata": {},
     "output_type": "execute_result"
    },
    {
     "data": {
      "text/plain": [
       "<Figure size 640x480 with 1 Axes>"
      ],
      "image/png": "[encoded data removed]"
     },
     "metadata": {},
     "output_type": "display_data"
    }
   ],
   "execution_count": 12
  },
  {
   "metadata": {
    "ExecuteTime": {
     "end_time": "2024-12-13T20:34:32.948409Z",
     "start_time": "2024-12-13T20:34:32.910579Z"
    }
   },
   "cell_type": "code",
   "source": "plt.plot(test_losses[30:])",
   "id": "5e400ea14d93e86e",
   "outputs": [
    {
     "data": {
      "text/plain": [
       "[<matplotlib.lines.Line2D at 0x7ece4790f9b0>]"
      ]
     },
     "execution_count": 13,
     "metadata": {},
     "output_type": "execute_result"
    },
    {
     "data": {
      "text/plain": [
       "<Figure size 640x480 with 1 Axes>"
      ],
      "image/png": "[encoded data removed]"
     },
     "metadata": {},
     "output_type": "display_data"
    }
   ],
   "execution_count": 13
  },
  {
   "metadata": {
    "ExecuteTime": {
     "end_time": "2024-12-13T20:34:32.998097Z",
     "start_time": "2024-12-13T20:34:32.961608Z"
    }
   },
   "cell_type": "code",
   "source": "plt.plot(lr_s)",
   "id": "4bfeaf6ecfe2e2f7",
   "outputs": [
    {
     "data": {
      "text/plain": [
       "[<matplotlib.lines.Line2D at 0x7ece479c8ce0>]"
      ]
     },
     "execution_count": 14,
     "metadata": {},
     "output_type": "execute_result"
    },
    {
     "data": {
      "text/plain": [
       "<Figure size 640x480 with 1 Axes>"
      ],
      "image/png": "[encoded data removed]"
     },
     "metadata": {},
     "output_type": "display_data"
    }
   ],
   "execution_count": 14
  },
  {
   "metadata": {
    "ExecuteTime": {
     "end_time": "2024-12-13T20:34:33.015631Z",
     "start_time": "2024-12-13T20:34:33.014613Z"
    }
   },
   "cell_type": "code",
   "source": "",
   "id": "a077bf1390ae9e00",
   "outputs": [],
   "execution_count": null
  },
  {
   "metadata": {
    "ExecuteTime": {
     "end_time": "2024-12-13T20:34:33.057481Z",
     "start_time": "2024-12-13T20:34:33.056407Z"
    }
   },
   "cell_type": "code",
   "source": "",
   "id": "2150c197e87bea1d",
   "outputs": [],
   "execution_count": null
  },
  {
   "metadata": {
    "ExecuteTime": {
     "end_time": "2024-12-13T20:34:33.102532Z",
     "start_time": "2024-12-13T20:34:33.098197Z"
    }
   },
   "cell_type": "code",
   "source": [
    "# Assuming val_dataset is a list of (inputs, labels)\n",
    "inputs_list = []\n",
    "labels_list = []\n",
    "\n",
    "for item in val_dataset:\n",
    "    inputs, labels = item  # Unpack inputs and labels\n",
    "    inputs_list.append(inputs.cpu().numpy())  # Convert tensors to numpy arrays\n",
    "    labels_list.append(labels.cpu().numpy())\n",
    "\n",
    "labels_list_flat = [int(i) for i in labels_list]\n",
    "\n",
    "# inputs_list_flat = [inp.flatten() for inp in inputs_list]  # Flatten the inputs\n",
    "# labels_list_flat = [lbl.flatten() for lbl in labels_list]  # Flatten the labels\n",
    "\n",
    "val_df = pl.DataFrame({\n",
    "    # \"inputs\": inputs_list_flat,  # Polars will handle the flat numpy arrays\n",
    "    \"labels\": labels_list_flat\n",
    "})\n"
   ],
   "id": "26b8dd8b0a603060",
   "outputs": [],
   "execution_count": 15
  },
  {
   "metadata": {
    "ExecuteTime": {
     "end_time": "2024-12-13T20:34:33.149220Z",
     "start_time": "2024-12-13T20:34:33.141262Z"
    }
   },
   "cell_type": "code",
   "source": [
    "val_loss = 0.0\n",
    "model.eval()\n",
    "predictions = []  # List to store predictions in order\n",
    "\n",
    "model.eval()\n",
    "with torch.no_grad():\n",
    "    for inputs, labels in val_loader:\n",
    "        inputs, labels = inputs.to(\"cuda\"), labels.to(\"cuda\")\n",
    "        outputs = model(inputs)  # Forward pass\n",
    "        loss = criterion(outputs.squeeze(-1), labels)\n",
    "        val_loss += loss.item() * inputs.size(0)  # Multiply batch loss by batch size\n",
    "\n",
    "        # Collect predictions\n",
    "        predictions.extend(outputs.squeeze(-1).cpu().tolist())\n",
    "\n",
    "# Compute the average loss\n",
    "avg_loss = val_loss / len(val_dataset)\n",
    "print(f\"ON VAL SET, ACHIEVED {avg_loss:.4f}\")\n"
   ],
   "id": "d7f2480d69c26512",
   "outputs": [
    {
     "name": "stdout",
     "output_type": "stream",
     "text": [
      "ON VAL SET, ACHIEVED 3.2816\n"
     ]
    }
   ],
   "execution_count": 16
  },
  {
   "metadata": {
    "ExecuteTime": {
     "end_time": "2024-12-13T20:34:33.246850Z",
     "start_time": "2024-12-13T20:34:33.240773Z"
    }
   },
   "cell_type": "code",
   "source": [
    "# Use the predictions to create a Polars column\n",
    "val_df = val_df.with_columns(pl.Series(predictions).alias(\"mymethod03predictions\"))\n",
    "val_df.write_csv(\"../outputs/predictions/mymethod03predictions.csv\")"
   ],
   "id": "2318a0fe7ff16fd6",
   "outputs": [],
   "execution_count": 17
  },
  {
   "metadata": {
    "ExecuteTime": {
     "end_time": "2024-12-13T20:34:33.328121Z",
     "start_time": "2024-12-13T20:34:33.285271Z"
    }
   },
   "cell_type": "code",
   "source": "torch.save(model.state_dict(), \"../models/mymethod/run03.pth\")",
   "id": "a7d0f7fbf0b9004c",
   "outputs": [],
   "execution_count": 18
  }
 ],
 "metadata": {
  "kernelspec": {
   "display_name": "Python 3",
   "language": "python",
   "name": "python3"
  },
  "language_info": {
   "codemirror_mode": {
    "name": "ipython",
    "version": 2
   },
   "file_extension": ".py",
   "mimetype": "text/x-python",
   "name": "python",
   "nbconvert_exporter": "python",
   "pygments_lexer": "ipython2",
   "version": "2.7.6"
  }
 },
 "nbformat": 4,
 "nbformat_minor": 5
}
