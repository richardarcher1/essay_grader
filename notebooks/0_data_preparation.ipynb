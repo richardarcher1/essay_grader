{
 "cells": [
  {
   "metadata": {},
   "cell_type": "markdown",
   "source": [
    "# Data download and preparation\n",
    "\n",
    "\n",
    "- I downloaded the data from kaggle: https://www.kaggle.com/competitions/asap-aes/data\n",
    "- Usually one can download from kaggle with code, but due to the set of terms and conditions, I found point-and-click to be much more straightforward\n",
    "- I downloaded `asap-aes.zip` into `data/0_raw/` and unzipped\n",
    "- Everything after that follows from this\n",
    "- This notebook takes the unzipped data and creates a training/test/validation split (the original data had a different split, but I was not able to obtain targets for those data)\n"
   ],
   "id": "83ec1f759d6db42a"
  },
  {
   "metadata": {
    "ExecuteTime": {
     "end_time": "2024-12-13T16:37:28.362739Z",
     "start_time": "2024-12-13T16:37:28.333166Z"
    }
   },
   "cell_type": "code",
   "source": [
    "import numpy as np\n",
    "import polars as pl"
   ],
   "id": "2a0a13bb8e211adc",
   "outputs": [],
   "execution_count": 1
  },
  {
   "metadata": {
    "ExecuteTime": {
     "end_time": "2024-12-13T16:37:30.376890Z",
     "start_time": "2024-12-13T16:37:30.166821Z"
    }
   },
   "cell_type": "code",
   "source": [
    "df = pl.read_excel('../data/0_raw/training_set_rel3.xlsx').filter(pl.col('domain1_score').is_not_null())\n",
    "\n",
    "df = df.select([\n",
    "    pl.col('essay_id').alias('id'),\n",
    "    pl.col('essay').alias('text'),\n",
    "    pl.col('domain1_score').alias('score')\n",
    "])\n"
   ],
   "id": "b1f2616618125d13",
   "outputs": [],
   "execution_count": 2
  },
  {
   "metadata": {
    "ExecuteTime": {
     "end_time": "2024-12-13T16:37:30.975129Z",
     "start_time": "2024-12-13T16:37:30.969980Z"
    }
   },
   "cell_type": "code",
   "source": [
    "np.random.seed(42)  # For reproducibility\n",
    "assignments = np.random.choice([1, 2, 3], size=len(df), p=[0.8, 0.15, 0.05])\n",
    "df = df.with_columns(pl.Series(assignments).alias('assign'))\n",
    "\n",
    "# Split the dataframe based on 'assign'\n",
    "training = df.filter(pl.col('assign') == 1)\n",
    "testing = df.filter(pl.col('assign') == 2)\n",
    "val = df.filter(pl.col('assign') == 3)"
   ],
   "id": "cc2eb45e31cae34c",
   "outputs": [],
   "execution_count": 3
  },
  {
   "metadata": {
    "ExecuteTime": {
     "end_time": "2024-12-13T16:37:31.643417Z",
     "start_time": "2024-12-13T16:37:31.631277Z"
    }
   },
   "cell_type": "code",
   "source": [
    "training.write_csv('../data/1_clean/training.csv')\n",
    "testing.write_csv('../data/1_clean/testing.csv')\n",
    "val.write_csv('../data/1_clean/val.csv')"
   ],
   "id": "b266b37b782830d0",
   "outputs": [],
   "execution_count": 4
  },
  {
   "metadata": {},
   "cell_type": "markdown",
   "source": "# Let's also create a simple baseline while we are here",
   "id": "8abf5b5395b5d5f3"
  },
  {
   "metadata": {
    "ExecuteTime": {
     "end_time": "2024-12-13T16:38:38.045186Z",
     "start_time": "2024-12-13T16:38:38.043180Z"
    }
   },
   "cell_type": "code",
   "source": "naive_guess = np.mean(training.select(pl.col(\"score\")).to_numpy())",
   "id": "b62d92eb49ebb1ac",
   "outputs": [],
   "execution_count": 9
  },
  {
   "metadata": {
    "ExecuteTime": {
     "end_time": "2024-12-13T16:39:24.506414Z",
     "start_time": "2024-12-13T16:39:24.503282Z"
    }
   },
   "cell_type": "code",
   "source": "val.with_columns(pl.Series([naive_guess.item()]*len(val)).alias(\"naive_guess\")).write_csv(\"../outputs/predictions/baseline.csv\")",
   "id": "d69611a53a86e84d",
   "outputs": [],
   "execution_count": 13
  },
  {
   "metadata": {},
   "cell_type": "markdown",
   "source": "# We can also do some preliminary data investigation while we are here",
   "id": "71c9f1fb84c8698b"
  },
  {
   "metadata": {},
   "cell_type": "code",
   "source": "print(f\"{training.shape=}, {testing.shape=}, {val.shape=}\")",
   "id": "ae479cdb5fd6db93",
   "outputs": [],
   "execution_count": null
  },
  {
   "metadata": {},
   "cell_type": "code",
   "source": [
    "import matplotlib.pyplot as plt\n",
    "import seaborn as sns\n",
    "import numpy as np\n",
    "\n",
    "# Set the style for publication quality\n",
    "# plt.style.use('seaborn-paper')\n",
    "sns.set_context(\"paper\", font_scale=1.2)\n",
    "\n",
    "# Create the figure and axis with a specific size for publication\n",
    "fig, ax = plt.subplots(figsize=(10, 6), dpi=300)\n",
    "\n",
    "# Plot histograms with density normalization and transparency\n",
    "sns.histplot(data=training['score'],\n",
    "            stat='density',\n",
    "            alpha=0.4,\n",
    "            label='Training',\n",
    "            color='#2ecc71',\n",
    "            ax=ax)\n",
    "\n",
    "sns.histplot(data=testing['score'],\n",
    "            stat='density',\n",
    "            alpha=0.4,\n",
    "            label='Testing',\n",
    "            color='#e74c3c',\n",
    "            ax=ax)\n",
    "\n",
    "sns.histplot(data=val['score'],\n",
    "            stat='density',\n",
    "            alpha=0.4,\n",
    "            label='Validation',\n",
    "            color='#3498db',\n",
    "            ax=ax)\n",
    "\n",
    "# Customize the plot\n",
    "ax.set_xlabel('Score', fontsize=12, fontweight='bold')\n",
    "ax.set_ylabel('Density', fontsize=12, fontweight='bold')\n",
    "ax.set_title('Distribution of Scores Across Dataset Splits',\n",
    "             fontsize=14,\n",
    "             fontweight='bold',\n",
    "             pad=20)\n",
    "\n",
    "# Add a grid for better readability\n",
    "ax.grid(True, linestyle='--', alpha=0.7)\n",
    "\n",
    "# Customize legend\n",
    "ax.legend(title='Dataset Split',\n",
    "         title_fontsize=11,\n",
    "         fontsize=10,\n",
    "         frameon=True,\n",
    "         fancybox=True,\n",
    "         framealpha=0.8,\n",
    "         edgecolor='black')\n",
    "\n",
    "# Add text with dataset sizes\n",
    "total = len(training) + len(testing) + len(val)\n",
    "text = (f'n_train={len(training)} ({len(training)/total:.1%})\\n'\n",
    "        f'n_test={len(testing)} ({len(testing)/total:.1%})\\n'\n",
    "        f'n_val={len(val)} ({len(val)/total:.1%})')\n",
    "\n",
    "plt.text(0.95, 0.95, text,\n",
    "         transform=ax.transAxes,\n",
    "         verticalalignment='top',\n",
    "         horizontalalignment='right',\n",
    "         bbox=dict(facecolor='white', alpha=0.8, edgecolor='none'))\n",
    "\n",
    "# Adjust layout to prevent text cutoff\n",
    "plt.tight_layout()\n",
    "\n",
    "# Save the figure with high quality\n",
    "plt.savefig('../outputs/graphics/0_score_distribution.png', dpi=300, bbox_inches='tight')\n",
    "plt.show()"
   ],
   "id": "8407a412a8c92edb",
   "outputs": [],
   "execution_count": null
  }
 ],
 "metadata": {
  "kernelspec": {
   "name": "python3",
   "language": "python",
   "display_name": "Python 3 (ipykernel)"
  }
 },
 "nbformat": 5,
 "nbformat_minor": 9
}
