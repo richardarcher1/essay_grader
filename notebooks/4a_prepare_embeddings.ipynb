{
 "cells": [
  {
   "metadata": {
    "ExecuteTime": {
     "end_time": "2024-12-13T17:45:01.774622Z",
     "start_time": "2024-12-13T17:45:00.193440Z"
    }
   },
   "cell_type": "code",
   "source": [
    "from tqdm.notebook import tqdm\n",
    "\n",
    "# import pandas as pd\n",
    "# import polars as pl\n",
    "\n",
    "import polars as pl\n",
    "import torch\n",
    "from torch.utils.data import Dataset\n",
    "from sentence_transformers import SentenceTransformer\n"
   ],
   "id": "9e17eaf49dc34911",
   "outputs": [],
   "execution_count": 1
  },
  {
   "metadata": {
    "ExecuteTime": {
     "end_time": "2024-12-13T17:45:01.795099Z",
     "start_time": "2024-12-13T17:45:01.776920Z"
    }
   },
   "cell_type": "code",
   "source": [
    "df_train = pl.read_csv(\"../data/1_clean/training.csv\")\n",
    "df_test = pl.read_csv(\"../data/1_clean/testing.csv\")\n",
    "df_validation = pl.read_csv(\"../data/1_clean/val.csv\")\n",
    "\n",
    "train_texts = df_train[\"text\"].to_list()\n",
    "train_labels = df_train[\"score\"].to_list()\n",
    "\n",
    "test_texts = df_test[\"text\"].to_list()\n",
    "test_labels = df_test[\"score\"].to_list()\n",
    "\n",
    "val_texts = df_validation[\"text\"].to_list()\n",
    "val_labels = df_validation[\"score\"].to_list()\n"
   ],
   "id": "6f13f9a13bb86705",
   "outputs": [],
   "execution_count": 2
  },
  {
   "metadata": {
    "ExecuteTime": {
     "end_time": "2024-12-13T17:45:04.308286Z",
     "start_time": "2024-12-13T17:45:01.907881Z"
    }
   },
   "cell_type": "code",
   "source": [
    "# # embed text\n",
    "print(\"loading embedder\")\n",
    "model_name = \"intfloat/multilingual-e5-large-instruct\"\n",
    "embedder = SentenceTransformer(model_name, device=\"cuda\")\n"
   ],
   "id": "f21bf0d3cb82c066",
   "outputs": [
    {
     "name": "stdout",
     "output_type": "stream",
     "text": [
      "loading embedder\n"
     ]
    }
   ],
   "execution_count": 3
  },
  {
   "metadata": {
    "ExecuteTime": {
     "end_time": "2024-12-13T17:45:04.313795Z",
     "start_time": "2024-12-13T17:45:04.312569Z"
    }
   },
   "cell_type": "code",
   "source": [
    "# # embed text\n",
    "# print(\"loading embedder\")\n",
    "# model_name = \"sentence-transformers/all-MiniLM-L6-v2\"\n",
    "# embedder = SentenceTransformer(model_name, device=\"cuda\")\n"
   ],
   "id": "bdad2d6fcb8ce544",
   "outputs": [],
   "execution_count": 4
  },
  {
   "metadata": {
    "ExecuteTime": {
     "end_time": "2024-12-13T17:45:04.355056Z",
     "start_time": "2024-12-13T17:45:04.353176Z"
    }
   },
   "cell_type": "code",
   "source": [
    "class CustomDataset(Dataset):\n",
    "    def __init__(self, embeddings, labels):\n",
    "        # embeddings: list of numpy arrays or torch tensors\n",
    "        # labels: list of scalars\n",
    "        self.X = torch.tensor(embeddings, dtype=torch.float32)\n",
    "        self.y = torch.tensor(labels, dtype=torch.float32)  # or long, depending on your task\n",
    "\n",
    "    def __len__(self):\n",
    "        return len(self.y)\n",
    "\n",
    "    def __getitem__(self, idx):\n",
    "        return self.X[idx], self.y[idx]"
   ],
   "id": "5982904d1a2c8c68",
   "outputs": [],
   "execution_count": 5
  },
  {
   "metadata": {
    "ExecuteTime": {
     "end_time": "2024-12-13T17:46:02.176094Z",
     "start_time": "2024-12-13T17:45:04.396945Z"
    }
   },
   "cell_type": "code",
   "source": [
    "print(\"embedding train dataset\")\n",
    "train_embeddings = embedder.encode(train_texts, batch_size=16, convert_to_numpy=True, show_progress_bar=True)"
   ],
   "id": "7ea331ac2d52227a",
   "outputs": [
    {
     "name": "stdout",
     "output_type": "stream",
     "text": [
      "embedding train dataset\n"
     ]
    },
    {
     "data": {
      "text/plain": [
       "Batches:   0%|          | 0/651 [00:00<?, ?it/s]"
      ],
      "application/vnd.jupyter.widget-view+json": {
       "version_major": 2,
       "version_minor": 0,
       "model_id": "6b35211a9e8f44ce8bba5f1f75da9e4d"
      }
     },
     "metadata": {},
     "output_type": "display_data"
    }
   ],
   "execution_count": 6
  },
  {
   "metadata": {
    "ExecuteTime": {
     "end_time": "2024-12-13T17:46:13.365350Z",
     "start_time": "2024-12-13T17:46:02.180760Z"
    }
   },
   "cell_type": "code",
   "source": [
    "print(\"embedding test dataset\")\n",
    "test_embeddings = embedder.encode(test_texts, batch_size=16, convert_to_numpy=True,show_progress_bar=True)"
   ],
   "id": "2df53e1ecfbbaf8c",
   "outputs": [
    {
     "name": "stdout",
     "output_type": "stream",
     "text": [
      "embedding test dataset\n"
     ]
    },
    {
     "data": {
      "text/plain": [
       "Batches:   0%|          | 0/122 [00:00<?, ?it/s]"
      ],
      "application/vnd.jupyter.widget-view+json": {
       "version_major": 2,
       "version_minor": 0,
       "model_id": "4d8f021c63fd4a0b8fe995805174d94c"
      }
     },
     "metadata": {},
     "output_type": "display_data"
    }
   ],
   "execution_count": 7
  },
  {
   "metadata": {
    "ExecuteTime": {
     "end_time": "2024-12-13T17:46:17.079430Z",
     "start_time": "2024-12-13T17:46:13.369602Z"
    }
   },
   "cell_type": "code",
   "source": [
    "print(\"embedding val dataset\")\n",
    "val_embeddings = embedder.encode(val_texts, batch_size=16, convert_to_numpy=True,show_progress_bar=True)"
   ],
   "id": "dcf0eba424d87e04",
   "outputs": [
    {
     "name": "stdout",
     "output_type": "stream",
     "text": [
      "embedding val dataset\n"
     ]
    },
    {
     "data": {
      "text/plain": [
       "Batches:   0%|          | 0/39 [00:00<?, ?it/s]"
      ],
      "application/vnd.jupyter.widget-view+json": {
       "version_major": 2,
       "version_minor": 0,
       "model_id": "8c22484ab7ed43309c1a55415012906a"
      }
     },
     "metadata": {},
     "output_type": "display_data"
    }
   ],
   "execution_count": 8
  },
  {
   "metadata": {
    "ExecuteTime": {
     "end_time": "2024-12-13T17:46:17.088905Z",
     "start_time": "2024-12-13T17:46:17.084153Z"
    }
   },
   "cell_type": "code",
   "source": [
    "train_dataset = CustomDataset(train_embeddings, train_labels)\n",
    "test_dataset = CustomDataset(test_embeddings, test_labels)\n",
    "val_dataset = CustomDataset(val_embeddings, val_labels)\n"
   ],
   "id": "a8c82860e13bd2e8",
   "outputs": [],
   "execution_count": 9
  },
  {
   "metadata": {
    "ExecuteTime": {
     "end_time": "2024-12-13T17:46:17.126946Z",
     "start_time": "2024-12-13T17:46:17.125531Z"
    }
   },
   "cell_type": "code",
   "source": [
    "# torch.save(train_dataset, '../data/2_ready_for_training/embedded/train_dataset_small.pth')\n",
    "# torch.save(test_dataset, '../data/2_ready_for_training/embedded/test_dataset_small.pth')\n",
    "# torch.save(val_dataset, '../data/2_ready_for_training/embedded/val_dataset_small.pth')\n"
   ],
   "id": "260c20c5522f9bc2",
   "outputs": [],
   "execution_count": 10
  },
  {
   "metadata": {
    "ExecuteTime": {
     "end_time": "2024-12-13T17:46:17.202885Z",
     "start_time": "2024-12-13T17:46:17.167847Z"
    }
   },
   "cell_type": "code",
   "source": [
    "torch.save(train_dataset, '../data/2_ready_for_training/embedded/train_dataset_large.pth')\n",
    "torch.save(test_dataset, '../data/2_ready_for_training/embedded/test_dataset_large.pth')\n",
    "torch.save(val_dataset, '../data/2_ready_for_training/embedded/val_dataset_large.pth')\n",
    "\n"
   ],
   "id": "eff5fa4b621ff27f",
   "outputs": [],
   "execution_count": 11
  }
 ],
 "metadata": {
  "kernelspec": {
   "name": "python3",
   "language": "python",
   "display_name": "Python 3 (ipykernel)"
  }
 },
 "nbformat": 5,
 "nbformat_minor": 9
}
