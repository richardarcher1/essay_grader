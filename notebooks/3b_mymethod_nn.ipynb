{
 "cells": [
  {
   "cell_type": "code",
   "id": "initial_id",
   "metadata": {
    "collapsed": true,
    "ExecuteTime": {
     "end_time": "2024-12-13T22:41:15.890444Z",
     "start_time": "2024-12-13T22:41:15.040060Z"
    }
   },
   "source": [
    "import torch\n",
    "from torch.utils.data import Dataset\n",
    "\n",
    "import torch\n",
    "import torch.nn as nn\n",
    "import torch.optim as optim\n",
    "from torch.utils.data import DataLoader\n",
    "# from torch.utils.tensorboard import SummaryWriter\n",
    "# from tqdm import tqdm\n",
    "from tqdm.notebook import tqdm\n",
    "\n",
    "from matplotlib import pyplot as plt\n",
    "\n",
    "from torch.optim import Optimizer\n",
    "from torch.optim.lr_scheduler import _LRScheduler\n",
    "\n",
    "import polars as pl"
   ],
   "outputs": [],
   "execution_count": 1
  },
  {
   "metadata": {
    "ExecuteTime": {
     "end_time": "2024-12-13T22:41:15.894799Z",
     "start_time": "2024-12-13T22:41:15.892761Z"
    }
   },
   "cell_type": "code",
   "source": [
    "class CustomDataset(Dataset):\n",
    "    def __init__(self, embeddings, labels):\n",
    "        # embeddings: list of numpy arrays or torch tensors\n",
    "        # labels: list of scalars\n",
    "        self.X = torch.tensor(embeddings, dtype=torch.float32)\n",
    "        self.y = torch.tensor(labels, dtype=torch.float32)  # or long, depending on your task\n",
    "\n",
    "    def __len__(self):\n",
    "        return len(self.y)\n",
    "\n",
    "    def __getitem__(self, idx):\n",
    "        return self.X[idx], self.y[idx]"
   ],
   "id": "a1e337aa14cbd065",
   "outputs": [],
   "execution_count": 2
  },
  {
   "metadata": {
    "ExecuteTime": {
     "end_time": "2024-12-13T22:41:16.010153Z",
     "start_time": "2024-12-13T22:41:15.939386Z"
    }
   },
   "cell_type": "code",
   "source": [
    "training_dataset = torch.load(\"../data/2_ready_for_training/mymethod/training.pt\")\n",
    "testing_dataset = torch.load(\"../data/2_ready_for_training/mymethod/testing.pt\")\n",
    "val_dataset = torch.load(\"../data/2_ready_for_training/mymethod/val.pt\")"
   ],
   "id": "c23d895ea0026ad5",
   "outputs": [
    {
     "name": "stderr",
     "output_type": "stream",
     "text": [
      "/tmp/ipykernel_41211/3403719866.py:1: FutureWarning: You are using `torch.load` with `weights_only=False` (the current default value), which uses the default pickle module implicitly. It is possible to construct malicious pickle data which will execute arbitrary code during unpickling (See https://github.com/pytorch/pytorch/blob/main/SECURITY.md#untrusted-models for more details). In a future release, the default value for `weights_only` will be flipped to `True`. This limits the functions that could be executed during unpickling. Arbitrary objects will no longer be allowed to be loaded via this mode unless they are explicitly allowlisted by the user via `torch.serialization.add_safe_globals`. We recommend you start setting `weights_only=True` for any use case where you don't have full control of the loaded file. Please open an issue on GitHub for any issues related to this experimental feature.\n",
      "  training_dataset = torch.load(\"../data/2_ready_for_training/mymethod/training.pt\")\n",
      "/tmp/ipykernel_41211/3403719866.py:2: FutureWarning: You are using `torch.load` with `weights_only=False` (the current default value), which uses the default pickle module implicitly. It is possible to construct malicious pickle data which will execute arbitrary code during unpickling (See https://github.com/pytorch/pytorch/blob/main/SECURITY.md#untrusted-models for more details). In a future release, the default value for `weights_only` will be flipped to `True`. This limits the functions that could be executed during unpickling. Arbitrary objects will no longer be allowed to be loaded via this mode unless they are explicitly allowlisted by the user via `torch.serialization.add_safe_globals`. We recommend you start setting `weights_only=True` for any use case where you don't have full control of the loaded file. Please open an issue on GitHub for any issues related to this experimental feature.\n",
      "  testing_dataset = torch.load(\"../data/2_ready_for_training/mymethod/testing.pt\")\n",
      "/tmp/ipykernel_41211/3403719866.py:3: FutureWarning: You are using `torch.load` with `weights_only=False` (the current default value), which uses the default pickle module implicitly. It is possible to construct malicious pickle data which will execute arbitrary code during unpickling (See https://github.com/pytorch/pytorch/blob/main/SECURITY.md#untrusted-models for more details). In a future release, the default value for `weights_only` will be flipped to `True`. This limits the functions that could be executed during unpickling. Arbitrary objects will no longer be allowed to be loaded via this mode unless they are explicitly allowlisted by the user via `torch.serialization.add_safe_globals`. We recommend you start setting `weights_only=True` for any use case where you don't have full control of the loaded file. Please open an issue on GitHub for any issues related to this experimental feature.\n",
      "  val_dataset = torch.load(\"../data/2_ready_for_training/mymethod/val.pt\")\n"
     ]
    }
   ],
   "execution_count": 3
  },
  {
   "metadata": {
    "ExecuteTime": {
     "end_time": "2024-12-13T22:41:16.017603Z",
     "start_time": "2024-12-13T22:41:16.015159Z"
    }
   },
   "cell_type": "code",
   "source": "len(val_dataset), len(testing_dataset), len(training_dataset)",
   "id": "8716417ed8e7d090",
   "outputs": [
    {
     "data": {
      "text/plain": [
       "(622, 1952, 10403)"
      ]
     },
     "execution_count": 4,
     "metadata": {},
     "output_type": "execute_result"
    }
   ],
   "execution_count": 4
  },
  {
   "metadata": {
    "ExecuteTime": {
     "end_time": "2024-12-13T22:41:16.631835Z",
     "start_time": "2024-12-13T22:41:16.057854Z"
    }
   },
   "cell_type": "code",
   "source": [
    "# Define a simple two-layer neural net with dropout and layer norm\n",
    "class MyMethodNeuralNet(nn.Module):\n",
    "    def __init__(self, input_dim, hidden_dim, output_dim):\n",
    "        super(MyMethodNeuralNet, self).__init__()\n",
    "        self.layer1 = nn.Sequential(\n",
    "            nn.Linear(input_dim, hidden_dim),\n",
    "            nn.LayerNorm(hidden_dim),\n",
    "            nn.ReLU(),\n",
    "            nn.Dropout(0.1)\n",
    "        )\n",
    "        self.layer2 = nn.Sequential(\n",
    "            nn.Linear(hidden_dim, 1_024),\n",
    "            nn.LayerNorm(1_024),\n",
    "            nn.ReLU(),\n",
    "            nn.Dropout(0.1)\n",
    "        )\n",
    "        self.layer3 = nn.Linear(1_024, output_dim)\n",
    "\n",
    "    def forward(self, x):\n",
    "        x = self.layer1(x)\n",
    "        x = self.layer2(x)\n",
    "        x = self.layer3(x)\n",
    "        return x\n",
    "\n",
    "\n",
    "input_dim = 4_096# int(testing_dataset.X[0].shape[0])\n",
    "hidden_dim = 2_048 # int(testing_dataset.X[0].shape[0]/2)\n",
    "\n",
    "model = MyMethodNeuralNet(input_dim=input_dim, hidden_dim=hidden_dim, output_dim=1)\n",
    "model = model.to(\"cuda\")\n",
    "\n",
    "optimizer = optim.AdamW(model.parameters(), lr=1e-4)\n",
    "\n",
    "num_epochs = 50\n",
    "\n",
    "# Prepare data loaders\n",
    "batch_size = 512\n"
   ],
   "id": "78573236c92a6089",
   "outputs": [],
   "execution_count": 5
  },
  {
   "metadata": {
    "ExecuteTime": {
     "end_time": "2024-12-13T22:41:16.636619Z",
     "start_time": "2024-12-13T22:41:16.635293Z"
    }
   },
   "cell_type": "code",
   "source": [
    "# # Define a simple two-layer neural net with dropout and layer norm\n",
    "# class MyMethodNeuralNet(nn.Module):\n",
    "#     def __init__(self, input_dim, hidden_dim, output_dim):\n",
    "#         super(MyMethodNeuralNet, self).__init__()\n",
    "#         self.layer1 = nn.Sequential(\n",
    "#             nn.Linear(input_dim, hidden_dim),\n",
    "#             nn.LayerNorm(hidden_dim),\n",
    "#             nn.ReLU(),\n",
    "#             nn.Dropout(0.1)\n",
    "#         )\n",
    "#\n",
    "#         self.layer3 = nn.Linear(hidden_dim, output_dim)\n",
    "#\n",
    "#     def forward(self, x):\n",
    "#         x = self.layer1(x)\n",
    "#         # x = self.layer2(x)\n",
    "#         x = self.layer3(x)\n",
    "#         return x"
   ],
   "id": "11273ded0b07de48",
   "outputs": [],
   "execution_count": 6
  },
  {
   "metadata": {
    "ExecuteTime": {
     "end_time": "2024-12-13T22:41:16.679595Z",
     "start_time": "2024-12-13T22:41:16.676948Z"
    }
   },
   "cell_type": "code",
   "source": [
    "class FlatLRScheduler(_LRScheduler):\n",
    "    def __init__(self, optimizer: Optimizer, schedule: list, last_epoch: int = -1):\n",
    "        \"\"\"\n",
    "        Custom Learning Rate Scheduler.\n",
    "\n",
    "        Args:\n",
    "            optimizer (Optimizer): Wrapped optimizer.\n",
    "            schedule (list): List of tuples defining (epoch_range, lr_value).\n",
    "                             Example: [(9, 1e-3), (8, 1e-4), (8, 1e-5)]\n",
    "            last_epoch (int): The index of the last epoch. Default is -1.\n",
    "        \"\"\"\n",
    "        self.schedule = []\n",
    "        total_epochs = 0\n",
    "        for epochs, lr in schedule:\n",
    "            total_epochs += epochs\n",
    "            self.schedule.append((total_epochs, lr))\n",
    "        super().__init__(optimizer, last_epoch)\n",
    "\n",
    "    def get_lr(self):\n",
    "        current_epoch = self.last_epoch + 1\n",
    "        for end_epoch, lr in self.schedule:\n",
    "            if current_epoch <= end_epoch:\n",
    "                return [lr for _ in self.optimizer.param_groups]\n",
    "        raise ValueError(f\"Epoch {current_epoch} is out of range for the provided schedule.\")\n",
    "\n",
    "# Define the schedule: [(9 epochs at 1e-3), (8 epochs at 1e-4), (8 epochs at 1e-5)]\n",
    "# schedule = [(9, 1e-3), (8, 1e-4), (8, 1e-5)]\n",
    "# schedule = [(10, 1e-3), (10, 1e-4), (5, 1e-5)]\n",
    "# schedule = [(15, 1e-3), (16, 1e-4)] # THIS SHOULD BE ONE LONGER THAN NUM_EPOCHS TO AVOID OFF BY ONE ERROR\n",
    "# schedule = [(5, 1e-3), (15, 1e-4),(16, 1e-5)] # THIS SHOULD BE ONE LONGER THAN NUM_EPOCHS TO AVOID OFF BY ONE ERROR\n",
    "# schedule = [(35, 1e-4)] # THIS SHOULD BE ONE LONGER THAN NUM_EPOCHS TO AVOID OFF BY ONE ERROR\n",
    "schedule = [(55, 1e-4)] # THIS SHOULD BE ONE LONGER THAN NUM_EPOCHS TO AVOID OFF BY ONE ERROR\n",
    "\n",
    "# Initialize the custom scheduler\n",
    "scheduler = FlatLRScheduler(optimizer, schedule)\n"
   ],
   "id": "ddba297de9d80fcf",
   "outputs": [],
   "execution_count": 7
  },
  {
   "metadata": {
    "ExecuteTime": {
     "end_time": "2024-12-13T22:41:16.721693Z",
     "start_time": "2024-12-13T22:41:16.720343Z"
    }
   },
   "cell_type": "code",
   "source": "criterion = nn.MSELoss()",
   "id": "eb623e60d13f6ef",
   "outputs": [],
   "execution_count": 8
  },
  {
   "metadata": {
    "ExecuteTime": {
     "end_time": "2024-12-13T22:41:16.763855Z",
     "start_time": "2024-12-13T22:41:16.762259Z"
    }
   },
   "cell_type": "code",
   "source": [
    "train_loader = DataLoader(training_dataset, batch_size=batch_size, shuffle=True)\n",
    "test_loader = DataLoader(testing_dataset, batch_size=batch_size, shuffle=False)\n",
    "val_loader = DataLoader(val_dataset, batch_size=batch_size, shuffle=False)\n"
   ],
   "id": "901e6b435c621151",
   "outputs": [],
   "execution_count": 9
  },
  {
   "metadata": {
    "ExecuteTime": {
     "end_time": "2024-12-13T22:41:16.807782Z",
     "start_time": "2024-12-13T22:41:16.806561Z"
    }
   },
   "cell_type": "code",
   "source": "",
   "id": "87034fde08e0c39a",
   "outputs": [],
   "execution_count": null
  },
  {
   "metadata": {
    "ExecuteTime": {
     "end_time": "2024-12-13T22:41:21.517882Z",
     "start_time": "2024-12-13T22:41:16.849287Z"
    }
   },
   "cell_type": "code",
   "source": [
    "train_losses = []\n",
    "test_losses = []\n",
    "lr_s = []\n",
    "\n",
    "for epoch_num in range(num_epochs):\n",
    "    ######################################################################################################################################################################\n",
    "    test_loss = 0.0\n",
    "    model.eval()\n",
    "    with torch.no_grad():\n",
    "        # for inputs, labels in tqdm(test_loader, desc=f\"Testing Epoch {epoch_num}\"):\n",
    "        for inputs, labels in test_loader:\n",
    "            inputs, labels = inputs.to(\"cuda\"), labels.to(\"cuda\")\n",
    "            outputs = model(inputs)\n",
    "            loss = criterion(outputs.squeeze(-1), labels)\n",
    "            # test_loss += loss.item()\n",
    "            test_loss += loss.item() * inputs.size(0)  # Multiply batch loss by batch size\n",
    "        avg_loss = test_loss/len(testing_dataset)\n",
    "        test_losses.append(avg_loss)\n",
    "        print(f\"TEST LOSS: PRE Epoch-{epoch_num}, we have {avg_loss:.4f}\")\n",
    "\n",
    "\n",
    "    ######################################################################################################################################################################\n",
    "    model.train()\n",
    "    train_loss = 0.0\n",
    "\n",
    "    # for inputs, labels in tqdm(train_loader, desc=f\"Training Epoch {epoch_num}\"):\n",
    "    for inputs, labels in train_loader:\n",
    "        inputs, labels = inputs.to(\"cuda\"), labels.to(\"cuda\")\n",
    "\n",
    "        # Zero the parameter gradients\n",
    "        optimizer.zero_grad()\n",
    "\n",
    "        # Forward pass\n",
    "        outputs = model(inputs)\n",
    "        # loss = criterion(outputs, labels) # MY MSITAKE - DO NOT DO THIS\n",
    "        loss = criterion(outputs.squeeze(-1), labels)\n",
    "\n",
    "        # Backward pass and optimization\n",
    "        loss.backward()\n",
    "        optimizer.step()\n",
    "\n",
    "        # train_loss += loss.item()\n",
    "        train_loss += loss.item() * inputs.size(0)  # Multiply batch loss by batch size\n",
    "    avg_loss = train_loss/len(training_dataset) # /len(train_dataset) ?? TODO\n",
    "    train_losses.append(avg_loss)\n",
    "    # print(f\"TRAIN LOSS: On Epoch-{epoch_num}, we have {avg_loss:.4f}\")\n",
    "\n",
    "    scheduler.step()\n",
    "    current_lr = scheduler.get_last_lr()\n",
    "    lr_s.append(current_lr)\n",
    "\n",
    "\n"
   ],
   "id": "880f53ab870d9e8e",
   "outputs": [
    {
     "name": "stdout",
     "output_type": "stream",
     "text": [
      "TEST LOSS: PRE Epoch-0, we have 135.4107\n",
      "TEST LOSS: PRE Epoch-1, we have 66.0497\n",
      "TEST LOSS: PRE Epoch-2, we have 50.8638\n",
      "TEST LOSS: PRE Epoch-3, we have 43.1545\n",
      "TEST LOSS: PRE Epoch-4, we have 38.3712\n",
      "TEST LOSS: PRE Epoch-5, we have 35.0834\n",
      "TEST LOSS: PRE Epoch-6, we have 30.6985\n",
      "TEST LOSS: PRE Epoch-7, we have 27.3048\n",
      "TEST LOSS: PRE Epoch-8, we have 25.0848\n",
      "TEST LOSS: PRE Epoch-9, we have 23.3608\n",
      "TEST LOSS: PRE Epoch-10, we have 20.9380\n",
      "TEST LOSS: PRE Epoch-11, we have 19.6972\n",
      "TEST LOSS: PRE Epoch-12, we have 18.4178\n",
      "TEST LOSS: PRE Epoch-13, we have 16.8397\n",
      "TEST LOSS: PRE Epoch-14, we have 16.3842\n",
      "TEST LOSS: PRE Epoch-15, we have 14.1104\n",
      "TEST LOSS: PRE Epoch-16, we have 12.4727\n",
      "TEST LOSS: PRE Epoch-17, we have 11.9194\n",
      "TEST LOSS: PRE Epoch-18, we have 10.8411\n",
      "TEST LOSS: PRE Epoch-19, we have 10.8333\n",
      "TEST LOSS: PRE Epoch-20, we have 9.1064\n",
      "TEST LOSS: PRE Epoch-21, we have 9.0816\n",
      "TEST LOSS: PRE Epoch-22, we have 7.7503\n",
      "TEST LOSS: PRE Epoch-23, we have 7.4945\n",
      "TEST LOSS: PRE Epoch-24, we have 7.5210\n",
      "TEST LOSS: PRE Epoch-25, we have 6.6229\n",
      "TEST LOSS: PRE Epoch-26, we have 6.1091\n",
      "TEST LOSS: PRE Epoch-27, we have 5.8900\n",
      "TEST LOSS: PRE Epoch-28, we have 5.6838\n",
      "TEST LOSS: PRE Epoch-29, we have 4.9217\n",
      "TEST LOSS: PRE Epoch-30, we have 5.6647\n",
      "TEST LOSS: PRE Epoch-31, we have 4.8005\n",
      "TEST LOSS: PRE Epoch-32, we have 4.2257\n",
      "TEST LOSS: PRE Epoch-33, we have 4.7908\n",
      "TEST LOSS: PRE Epoch-34, we have 3.9438\n",
      "TEST LOSS: PRE Epoch-35, we have 3.9800\n",
      "TEST LOSS: PRE Epoch-36, we have 3.7994\n",
      "TEST LOSS: PRE Epoch-37, we have 4.1170\n",
      "TEST LOSS: PRE Epoch-38, we have 3.4314\n",
      "TEST LOSS: PRE Epoch-39, we have 3.5496\n",
      "TEST LOSS: PRE Epoch-40, we have 3.5773\n",
      "TEST LOSS: PRE Epoch-41, we have 3.7675\n",
      "TEST LOSS: PRE Epoch-42, we have 3.1873\n",
      "TEST LOSS: PRE Epoch-43, we have 2.9608\n",
      "TEST LOSS: PRE Epoch-44, we have 3.2336\n",
      "TEST LOSS: PRE Epoch-45, we have 3.5408\n",
      "TEST LOSS: PRE Epoch-46, we have 5.2059\n",
      "TEST LOSS: PRE Epoch-47, we have 3.0340\n",
      "TEST LOSS: PRE Epoch-48, we have 3.0555\n",
      "TEST LOSS: PRE Epoch-49, we have 2.9779\n"
     ]
    }
   ],
   "execution_count": 10
  },
  {
   "metadata": {
    "ExecuteTime": {
     "end_time": "2024-12-13T22:41:21.621994Z",
     "start_time": "2024-12-13T22:41:21.576381Z"
    }
   },
   "cell_type": "code",
   "source": "plt.plot(train_losses)",
   "id": "ff1b01ac0e48b754",
   "outputs": [
    {
     "data": {
      "text/plain": [
       "[<matplotlib.lines.Line2D at 0x742b9a10be90>]"
      ]
     },
     "execution_count": 11,
     "metadata": {},
     "output_type": "execute_result"
    },
    {
     "data": {
      "text/plain": [
       "<Figure size 640x480 with 1 Axes>"
      ],
      "image/png": "[encoded data removed]"
     },
     "metadata": {},
     "output_type": "display_data"
    }
   ],
   "execution_count": 11
  },
  {
   "metadata": {
    "ExecuteTime": {
     "end_time": "2024-12-13T22:41:21.676155Z",
     "start_time": "2024-12-13T22:41:21.638537Z"
    }
   },
   "cell_type": "code",
   "source": "plt.plot(test_losses)",
   "id": "c862ce9afbcc0d0f",
   "outputs": [
    {
     "data": {
      "text/plain": [
       "[<matplotlib.lines.Line2D at 0x742b9a1c9ee0>]"
      ]
     },
     "execution_count": 12,
     "metadata": {},
     "output_type": "execute_result"
    },
    {
     "data": {
      "text/plain": [
       "<Figure size 640x480 with 1 Axes>"
      ],
      "image/png": "[encoded data removed]"
     },
     "metadata": {},
     "output_type": "display_data"
    }
   ],
   "execution_count": 12
  },
  {
   "metadata": {
    "ExecuteTime": {
     "end_time": "2024-12-13T22:41:21.797747Z",
     "start_time": "2024-12-13T22:41:21.686435Z"
    }
   },
   "cell_type": "code",
   "source": "plt.plot(lr_s)",
   "id": "4bfeaf6ecfe2e2f7",
   "outputs": [
    {
     "data": {
      "text/plain": [
       "[<matplotlib.lines.Line2D at 0x742b99718d70>]"
      ]
     },
     "execution_count": 13,
     "metadata": {},
     "output_type": "execute_result"
    },
    {
     "data": {
      "text/plain": [
       "<Figure size 640x480 with 1 Axes>"
      ],
      "image/png": "[encoded data removed]"
     },
     "metadata": {},
     "output_type": "display_data"
    }
   ],
   "execution_count": 13
  },
  {
   "metadata": {
    "ExecuteTime": {
     "end_time": "2024-12-13T22:41:21.812329Z",
     "start_time": "2024-12-13T22:41:21.811373Z"
    }
   },
   "cell_type": "code",
   "source": "",
   "id": "a077bf1390ae9e00",
   "outputs": [],
   "execution_count": null
  },
  {
   "metadata": {
    "ExecuteTime": {
     "end_time": "2024-12-13T22:41:21.854331Z",
     "start_time": "2024-12-13T22:41:21.853334Z"
    }
   },
   "cell_type": "code",
   "source": "",
   "id": "2150c197e87bea1d",
   "outputs": [],
   "execution_count": null
  },
  {
   "metadata": {
    "ExecuteTime": {
     "end_time": "2024-12-13T22:41:21.899251Z",
     "start_time": "2024-12-13T22:41:21.895176Z"
    }
   },
   "cell_type": "code",
   "source": [
    "# Assuming val_dataset is a list of (inputs, labels)\n",
    "inputs_list = []\n",
    "labels_list = []\n",
    "\n",
    "for item in val_dataset:\n",
    "    inputs, labels = item  # Unpack inputs and labels\n",
    "    inputs_list.append(inputs.cpu().numpy())  # Convert tensors to numpy arrays\n",
    "    labels_list.append(labels.cpu().numpy())\n",
    "\n",
    "labels_list_flat = [int(i) for i in labels_list]\n",
    "\n",
    "# inputs_list_flat = [inp.flatten() for inp in inputs_list]  # Flatten the inputs\n",
    "# labels_list_flat = [lbl.flatten() for lbl in labels_list]  # Flatten the labels\n",
    "\n",
    "val_df = pl.DataFrame({\n",
    "    # \"inputs\": inputs_list_flat,  # Polars will handle the flat numpy arrays\n",
    "    \"labels\": labels_list_flat\n",
    "})\n"
   ],
   "id": "26b8dd8b0a603060",
   "outputs": [],
   "execution_count": 14
  },
  {
   "metadata": {
    "ExecuteTime": {
     "end_time": "2024-12-13T22:41:21.947334Z",
     "start_time": "2024-12-13T22:41:21.939207Z"
    }
   },
   "cell_type": "code",
   "source": [
    "model.eval()\n",
    "predictions = []  # List to store predictions in order\n",
    "\n",
    "model.eval()\n",
    "with torch.no_grad():\n",
    "    for inputs, labels in val_loader:\n",
    "        inputs, labels = inputs.to(\"cuda\"), labels.to(\"cuda\")\n",
    "        outputs = model(inputs)  # Forward pass\n",
    "\n",
    "        # Collect predictions\n",
    "        predictions.extend(outputs.squeeze(-1).cpu().tolist())\n",
    "\n"
   ],
   "id": "d7f2480d69c26512",
   "outputs": [],
   "execution_count": 15
  },
  {
   "metadata": {
    "ExecuteTime": {
     "end_time": "2024-12-13T22:41:21.986767Z",
     "start_time": "2024-12-13T22:41:21.982667Z"
    }
   },
   "cell_type": "code",
   "source": [
    "# Use the predictions to create a Polars column\n",
    "val_df = val_df.with_columns(pl.Series(predictions).alias(\"mymethod01predictions\"))\n",
    "val_df.write_csv(\"../outputs/predictions/mymethod01predictions.csv\")"
   ],
   "id": "2318a0fe7ff16fd6",
   "outputs": [],
   "execution_count": 16
  },
  {
   "metadata": {
    "ExecuteTime": {
     "end_time": "2024-12-13T22:41:22.074916Z",
     "start_time": "2024-12-13T22:41:22.026693Z"
    }
   },
   "cell_type": "code",
   "source": "torch.save(model.state_dict(), \"../models/mymethod/run01.pth\")",
   "id": "a7d0f7fbf0b9004c",
   "outputs": [],
   "execution_count": 17
  }
 ],
 "metadata": {
  "kernelspec": {
   "display_name": "Python 3",
   "language": "python",
   "name": "python3"
  },
  "language_info": {
   "codemirror_mode": {
    "name": "ipython",
    "version": 2
   },
   "file_extension": ".py",
   "mimetype": "text/x-python",
   "name": "python",
   "nbconvert_exporter": "python",
   "pygments_lexer": "ipython2",
   "version": "2.7.6"
  }
 },
 "nbformat": 4,
 "nbformat_minor": 5
}
