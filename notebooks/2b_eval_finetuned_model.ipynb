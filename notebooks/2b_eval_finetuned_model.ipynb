{
 "cells": [
  {
   "cell_type": "code",
   "id": "initial_id",
   "metadata": {
    "collapsed": true,
    "ExecuteTime": {
     "end_time": "2024-12-13T20:00:28.630858Z",
     "start_time": "2024-12-13T20:00:27.023398Z"
    }
   },
   "source": [
    "# standard python imports\n",
    "import os\n",
    "import torch\n",
    "\n",
    "from transformers import (\n",
    "    AutoTokenizer,\n",
    "    BitsAndBytesConfig,\n",
    "    pipeline,\n",
    "    LlamaForCausalLM\n",
    ")\n",
    "from peft import (\n",
    "    PeftModel,\n",
    ")\n",
    "from datasets import Dataset\n",
    "\n",
    "import polars as pl\n",
    "\n",
    "from transformers.pipelines.pt_utils import KeyDataset\n",
    "\n",
    "from sklearn.metrics import mean_squared_error\n"
   ],
   "outputs": [],
   "execution_count": 1
  },
  {
   "metadata": {
    "ExecuteTime": {
     "end_time": "2024-12-13T20:00:28.634486Z",
     "start_time": "2024-12-13T20:00:28.632872Z"
    }
   },
   "cell_type": "code",
   "source": [
    "def create_prompt(review):\n",
    "    system_prompt = f\"You read Yelp reviews and return a number (1, 2, 3, 4, or 5) that represents your besst guess of the number of star ratings that were given by that reviewer. Return just the number 1, 2, 3, 4, or 5, with no context, explanation, or special symbols.\"\n",
    "    prompt = f\"Here is the review to evaluate: [[[{review}]]]. Remember, you read Yelp reviews and return a number (1, 2, 3, 4, or 5) that represents your besst guess of the number of star ratings that were given by that reviewer. Return just the number 1, 2, 3, 4, or 5, with no context, explanation, or special symbols.\"\n",
    "\n",
    "    return system_prompt, prompt"
   ],
   "id": "b6bfb4828d74154",
   "outputs": [],
   "execution_count": 2
  },
  {
   "metadata": {
    "ExecuteTime": {
     "end_time": "2024-12-13T20:00:28.921119Z",
     "start_time": "2024-12-13T20:00:28.682467Z"
    }
   },
   "cell_type": "code",
   "source": "!ls ../data/1_clean",
   "id": "16cc7cd91c64cd64",
   "outputs": [
    {
     "name": "stdout",
     "output_type": "stream",
     "text": [
      "testing.csv  training.csv  val.csv\r\n"
     ]
    }
   ],
   "execution_count": 3
  },
  {
   "metadata": {
    "ExecuteTime": {
     "end_time": "2024-12-13T20:00:28.931702Z",
     "start_time": "2024-12-13T20:00:28.926300Z"
    }
   },
   "cell_type": "code",
   "source": [
    "# df_train = pl.read_csv(\"../data/1_train_test_split/df_train.csv\")\n",
    "df_val = pl.read_csv(\"../data/1_clean/val.csv\")"
   ],
   "id": "e9afe843ee8dae14",
   "outputs": [],
   "execution_count": 4
  },
  {
   "metadata": {
    "ExecuteTime": {
     "end_time": "2024-12-13T20:00:28.972299Z",
     "start_time": "2024-12-13T20:00:28.965279Z"
    }
   },
   "cell_type": "code",
   "source": [
    "lst_system_prompt, lst_prompt = [], []\n",
    "for row in df_val.iter_rows(named=True):\n",
    "    system_prompt, prompt = create_prompt(row[\"text\"])\n",
    "    lst_system_prompt.append(system_prompt)\n",
    "    lst_prompt.append(prompt)\n",
    "df_val = df_val.with_columns(pl.Series(lst_system_prompt).alias(\"system_prompt\"), pl.Series(lst_prompt).alias(\"prompt\"))"
   ],
   "id": "eb837ecafb9d7554",
   "outputs": [],
   "execution_count": 5
  },
  {
   "metadata": {
    "ExecuteTime": {
     "end_time": "2024-12-13T20:00:29.021407Z",
     "start_time": "2024-12-13T20:00:29.013087Z"
    }
   },
   "cell_type": "code",
   "source": [
    "test_texts = df_val[\"text\"].to_list()\n",
    "test_labels = df_val[\"score\"].to_list()\n",
    "\n",
    "data_ = Dataset.from_polars(df_val)"
   ],
   "id": "bd7e758d5a944825",
   "outputs": [],
   "execution_count": 6
  },
  {
   "metadata": {
    "ExecuteTime": {
     "end_time": "2024-12-13T20:00:29.058448Z",
     "start_time": "2024-12-13T20:00:29.057205Z"
    }
   },
   "cell_type": "code",
   "source": "base_model = \"../models/llama_base/snapshots/0e9e39f249a16976918f6564b8830bc894c89659\"",
   "id": "f80be6e3114674a3",
   "outputs": [],
   "execution_count": 7
  },
  {
   "metadata": {
    "ExecuteTime": {
     "end_time": "2024-12-13T20:00:29.111334Z",
     "start_time": "2024-12-13T20:00:29.110165Z"
    }
   },
   "cell_type": "code",
   "source": [
    "# PATH_adapter_custom_weights = \"../models/llama_finetuned/checkpoint-500\"\n",
    "PATH_adapter_custom_weights = \"../models/llama_finetuned/checkpoint-650\""
   ],
   "id": "b304e3a6a5f38e6c",
   "outputs": [],
   "execution_count": 8
  },
  {
   "metadata": {
    "ExecuteTime": {
     "end_time": "2024-12-13T20:00:29.366741Z",
     "start_time": "2024-12-13T20:00:29.161216Z"
    }
   },
   "cell_type": "code",
   "source": [
    "tokenizer = AutoTokenizer.from_pretrained(\n",
    "    base_model,\n",
    "    tokenizer_file=os.path.join(base_model, 'tokenizer.json'),\n",
    "    tokenizer_config_file=os.path.join(base_model, 'tokenizer_config.json'),\n",
    "    special_tokens_map_file=os.path.join(base_model, 'special_tokens_map.json'),\n",
    "    trust_remote_code=True,\n",
    "    padding_side='left'\n",
    ")\n",
    "\n",
    "tokenizer.padding_side = 'left'"
   ],
   "id": "3e5ea92b9553c667",
   "outputs": [],
   "execution_count": 9
  },
  {
   "metadata": {
    "ExecuteTime": {
     "end_time": "2024-12-13T20:00:33.835698Z",
     "start_time": "2024-12-13T20:00:29.379667Z"
    }
   },
   "cell_type": "code",
   "source": [
    "nf4_config = BitsAndBytesConfig(\n",
    "    load_in_4bit=True,\n",
    "    # load_in_8bit=True,\n",
    "    bnb_4bit_quant_type=\"nf4\",\n",
    "    bnb_4bit_compute_dtype=torch.float16,  # Match input dtype\n",
    "\n",
    ")\n",
    "\n",
    "model = LlamaForCausalLM.from_pretrained(base_model, quantization_config=nf4_config)"
   ],
   "id": "685847b7ab051736",
   "outputs": [
    {
     "name": "stderr",
     "output_type": "stream",
     "text": [
      "`low_cpu_mem_usage` was None, now default to True since model is quantized.\n"
     ]
    },
    {
     "data": {
      "text/plain": [
       "Loading checkpoint shards:   0%|          | 0/4 [00:00<?, ?it/s]"
      ],
      "application/vnd.jupyter.widget-view+json": {
       "version_major": 2,
       "version_minor": 0,
       "model_id": "0699f70d666241e28c4eeca134cc583d"
      }
     },
     "metadata": {},
     "output_type": "display_data"
    }
   ],
   "execution_count": 10
  },
  {
   "metadata": {
    "ExecuteTime": {
     "end_time": "2024-12-13T20:00:35.050045Z",
     "start_time": "2024-12-13T20:00:33.848512Z"
    }
   },
   "cell_type": "code",
   "source": [
    "model = PeftModel.from_pretrained(model, PATH_adapter_custom_weights)\n",
    "model = model.merge_and_unload() # This line merges the weights"
   ],
   "id": "62472081d442cdec",
   "outputs": [
    {
     "name": "stderr",
     "output_type": "stream",
     "text": [
      "/home/richardarcher/miniconda3/envs/gofaster00/lib/python3.12/site-packages/peft/tuners/lora/bnb.py:336: UserWarning: Merge lora module to 4-bit linear may get different generations due to rounding errors.\n",
      "  warnings.warn(\n"
     ]
    }
   ],
   "execution_count": 11
  },
  {
   "metadata": {
    "ExecuteTime": {
     "end_time": "2024-12-13T20:00:35.065274Z",
     "start_time": "2024-12-13T20:00:35.063933Z"
    }
   },
   "cell_type": "code",
   "source": [
    "if not tokenizer.pad_token_id:\n",
    "    tokenizer.pad_token_id = tokenizer.eos_token_id\n",
    "if model.config.pad_token_id is None:\n",
    "    model.config.pad_token_id = model.config.eos_token_id"
   ],
   "id": "4ef5b2d65b300e1d",
   "outputs": [],
   "execution_count": 12
  },
  {
   "metadata": {
    "ExecuteTime": {
     "end_time": "2024-12-13T20:00:35.105985Z",
     "start_time": "2024-12-13T20:00:35.104419Z"
    }
   },
   "cell_type": "code",
   "source": [
    "def remove_header(text, K_times):\n",
    "    for _ in range(K_times):\n",
    "        if \"<|end_header_id|>\" in text:\n",
    "            text = text.split(\"<|end_header_id|>\", 1)[1]\n",
    "    return text"
   ],
   "id": "622375945c1137a",
   "outputs": [],
   "execution_count": 13
  },
  {
   "metadata": {
    "ExecuteTime": {
     "end_time": "2024-12-13T20:00:35.150083Z",
     "start_time": "2024-12-13T20:00:35.148250Z"
    }
   },
   "cell_type": "code",
   "source": [
    "def create_format_chat_template(tokenizer):\n",
    "    def format_chat_template(row):\n",
    "        row_json = [{\"role\": \"system\", \"content\": row[\"system_prompt\"]},\n",
    "                    {\"role\": \"user\", \"content\": row[\"prompt\"]}]\n",
    "\n",
    "        # row[\"text\"] = tokenizer.apply_chat_template(row_json, tokenize=False)\n",
    "        row[\"text\"] = tokenizer.apply_chat_template(row_json, tokenize=False, add_generation_prompt=True)\n",
    "        return row\n",
    "    return format_chat_template"
   ],
   "id": "7c47e9215e8f75a8",
   "outputs": [],
   "execution_count": 14
  },
  {
   "metadata": {
    "ExecuteTime": {
     "end_time": "2024-12-13T20:00:35.193723Z",
     "start_time": "2024-12-13T20:00:35.192265Z"
    }
   },
   "cell_type": "code",
   "source": "batch_size = 8",
   "id": "7814ef2475bbed16",
   "outputs": [],
   "execution_count": 15
  },
  {
   "metadata": {
    "ExecuteTime": {
     "end_time": "2024-12-13T20:00:35.236986Z",
     "start_time": "2024-12-13T20:00:35.235280Z"
    }
   },
   "cell_type": "code",
   "source": [
    "pipe = pipeline(\n",
    "    \"text-generation\",\n",
    "    model=model,\n",
    "    tokenizer=tokenizer,\n",
    "    # torch_dtype=torch.float32,\n",
    "    torch_dtype=torch.float16,\n",
    "    device_map=\"auto\",\n",
    "    batch_size=batch_size, # CHANGE TO FOUR IF TOO SLOW\n",
    "    max_new_tokens=5,\n",
    ")"
   ],
   "id": "8a257698b692d9af",
   "outputs": [],
   "execution_count": 16
  },
  {
   "metadata": {
    "ExecuteTime": {
     "end_time": "2024-12-13T20:00:35.379409Z",
     "start_time": "2024-12-13T20:00:35.278300Z"
    }
   },
   "cell_type": "code",
   "source": [
    "data_ = data_.map(\n",
    "    create_format_chat_template(tokenizer)\n",
    ")"
   ],
   "id": "3ed5ac1eff8ae8b",
   "outputs": [
    {
     "data": {
      "text/plain": [
       "Map:   0%|          | 0/622 [00:00<?, ? examples/s]"
      ],
      "application/vnd.jupyter.widget-view+json": {
       "version_major": 2,
       "version_minor": 0,
       "model_id": "ba91c1f6cc1d487fb32d3db8c090f4d5"
      }
     },
     "metadata": {},
     "output_type": "display_data"
    }
   ],
   "execution_count": 17
  },
  {
   "metadata": {
    "ExecuteTime": {
     "end_time": "2024-12-13T20:01:36.922961Z",
     "start_time": "2024-12-13T20:00:35.393514Z"
    }
   },
   "cell_type": "code",
   "source": [
    "res = []\n",
    "ix = 0\n",
    "for out in pipe(KeyDataset(data_, \"text\")):\n",
    "    ix = ix + 1\n",
    "    # print(ix)\n",
    "    if ix % (batch_size*4) == 0:\n",
    "        print(f\"{ix}/{data_.shape[0]}\")\n",
    "\n",
    "    cleaned_text = remove_header(out[0][\"generated_text\"], 3).strip()\n",
    "    res.append(cleaned_text)"
   ],
   "id": "26d1741225089415",
   "outputs": [
    {
     "name": "stdout",
     "output_type": "stream",
     "text": [
      "32/622\n",
      "64/622\n",
      "96/622\n",
      "128/622\n",
      "160/622\n",
      "192/622\n",
      "224/622\n",
      "256/622\n",
      "288/622\n",
      "320/622\n",
      "352/622\n",
      "384/622\n",
      "416/622\n",
      "448/622\n",
      "480/622\n",
      "512/622\n",
      "544/622\n",
      "576/622\n",
      "608/622\n"
     ]
    }
   ],
   "execution_count": 18
  },
  {
   "metadata": {
    "ExecuteTime": {
     "end_time": "2024-12-13T20:01:36.953216Z",
     "start_time": "2024-12-13T20:01:36.951906Z"
    }
   },
   "cell_type": "code",
   "source": "res_int = [int(i) for i in res]",
   "id": "ff09ea9e83c9b5db",
   "outputs": [],
   "execution_count": 19
  },
  {
   "metadata": {
    "ExecuteTime": {
     "end_time": "2024-12-13T20:01:36.995734Z",
     "start_time": "2024-12-13T20:01:36.993976Z"
    }
   },
   "cell_type": "code",
   "source": "val_mse = mean_squared_error(res_int, test_labels)",
   "id": "7378e8032393af",
   "outputs": [],
   "execution_count": 20
  },
  {
   "metadata": {
    "ExecuteTime": {
     "end_time": "2024-12-13T20:01:37.036328Z",
     "start_time": "2024-12-13T20:01:37.034785Z"
    }
   },
   "cell_type": "code",
   "source": "print(f\"{val_mse:,.2f}\")",
   "id": "97c9700516d93d05",
   "outputs": [
    {
     "name": "stdout",
     "output_type": "stream",
     "text": [
      "89.21\n"
     ]
    }
   ],
   "execution_count": 21
  },
  {
   "metadata": {
    "ExecuteTime": {
     "end_time": "2024-12-13T20:01:37.079906Z",
     "start_time": "2024-12-13T20:01:37.078313Z"
    }
   },
   "cell_type": "code",
   "source": "df_val = df_val.with_columns(pl.Series(res_int).alias(\"8b_quant_prediction_finetuned\"))",
   "id": "3af48355c0c75124",
   "outputs": [],
   "execution_count": 22
  },
  {
   "metadata": {
    "ExecuteTime": {
     "end_time": "2024-12-13T20:01:37.136859Z",
     "start_time": "2024-12-13T20:01:37.133576Z"
    }
   },
   "cell_type": "code",
   "source": [
    "# df_val.write_csv(\"../outputs/predictions/finetuned_checkpoint500.csv\")\n",
    "df_val.write_csv(\"../outputs/predictions/finetuned_checkpoint650.csv\")"
   ],
   "id": "2e7aa684fabf8a81",
   "outputs": [],
   "execution_count": 23
  }
 ],
 "metadata": {
  "kernelspec": {
   "display_name": "Python 3",
   "language": "python",
   "name": "python3"
  },
  "language_info": {
   "codemirror_mode": {
    "name": "ipython",
    "version": 2
   },
   "file_extension": ".py",
   "mimetype": "text/x-python",
   "name": "python",
   "nbconvert_exporter": "python",
   "pygments_lexer": "ipython2",
   "version": "2.7.6"
  }
 },
 "nbformat": 4,
 "nbformat_minor": 5
}
