{
 "cells": [
  {
   "cell_type": "code",
   "id": "initial_id",
   "metadata": {
    "collapsed": true,
    "ExecuteTime": {
     "end_time": "2024-12-13T18:06:15.672134Z",
     "start_time": "2024-12-13T18:06:14.850769Z"
    }
   },
   "source": [
    "import torch\n",
    "from torch.utils.data import Dataset\n",
    "\n",
    "import torch\n",
    "import torch.nn as nn\n",
    "import torch.optim as optim\n",
    "from torch.utils.data import DataLoader\n",
    "# from torch.utils.tensorboard import SummaryWriter\n",
    "# from tqdm import tqdm\n",
    "from tqdm.notebook import tqdm\n",
    "\n",
    "from matplotlib import pyplot as plt\n",
    "\n",
    "from torch.optim import Optimizer\n",
    "from torch.optim.lr_scheduler import _LRScheduler\n",
    "\n",
    "import polars as pl"
   ],
   "outputs": [],
   "execution_count": 1
  },
  {
   "metadata": {
    "ExecuteTime": {
     "end_time": "2024-12-13T18:06:15.676148Z",
     "start_time": "2024-12-13T18:06:15.674334Z"
    }
   },
   "cell_type": "code",
   "source": [
    "class CustomDataset(Dataset):\n",
    "    def __init__(self, embeddings, labels):\n",
    "        # embeddings: list of numpy arrays or torch tensors\n",
    "        # labels: list of scalars\n",
    "        self.X = torch.tensor(embeddings, dtype=torch.float32)\n",
    "        self.y = torch.tensor(labels, dtype=torch.float32)  # or long, depending on your task\n",
    "\n",
    "    def __len__(self):\n",
    "        return len(self.y)\n",
    "\n",
    "    def __getitem__(self, idx):\n",
    "        return self.X[idx], self.y[idx]"
   ],
   "id": "a1e337aa14cbd065",
   "outputs": [],
   "execution_count": 2
  },
  {
   "metadata": {
    "ExecuteTime": {
     "end_time": "2024-12-13T18:06:15.727415Z",
     "start_time": "2024-12-13T18:06:15.719037Z"
    }
   },
   "cell_type": "code",
   "source": [
    "training_dataset = torch.load(\"../data/2_ready_for_training/embedded/train_dataset_small.pth\")\n",
    "testing_dataset = torch.load(\"../data/2_ready_for_training/embedded/test_dataset_small.pth\")\n",
    "val_dataset = torch.load(\"../data/2_ready_for_training/embedded/val_dataset_small.pth\")"
   ],
   "id": "c23d895ea0026ad5",
   "outputs": [
    {
     "name": "stderr",
     "output_type": "stream",
     "text": [
      "/tmp/ipykernel_10909/4200277145.py:1: FutureWarning: You are using `torch.load` with `weights_only=False` (the current default value), which uses the default pickle module implicitly. It is possible to construct malicious pickle data which will execute arbitrary code during unpickling (See https://github.com/pytorch/pytorch/blob/main/SECURITY.md#untrusted-models for more details). In a future release, the default value for `weights_only` will be flipped to `True`. This limits the functions that could be executed during unpickling. Arbitrary objects will no longer be allowed to be loaded via this mode unless they are explicitly allowlisted by the user via `torch.serialization.add_safe_globals`. We recommend you start setting `weights_only=True` for any use case where you don't have full control of the loaded file. Please open an issue on GitHub for any issues related to this experimental feature.\n",
      "  training_dataset = torch.load(\"../data/2_ready_for_training/embedded/train_dataset_small.pth\")\n",
      "/tmp/ipykernel_10909/4200277145.py:2: FutureWarning: You are using `torch.load` with `weights_only=False` (the current default value), which uses the default pickle module implicitly. It is possible to construct malicious pickle data which will execute arbitrary code during unpickling (See https://github.com/pytorch/pytorch/blob/main/SECURITY.md#untrusted-models for more details). In a future release, the default value for `weights_only` will be flipped to `True`. This limits the functions that could be executed during unpickling. Arbitrary objects will no longer be allowed to be loaded via this mode unless they are explicitly allowlisted by the user via `torch.serialization.add_safe_globals`. We recommend you start setting `weights_only=True` for any use case where you don't have full control of the loaded file. Please open an issue on GitHub for any issues related to this experimental feature.\n",
      "  testing_dataset = torch.load(\"../data/2_ready_for_training/embedded/test_dataset_small.pth\")\n",
      "/tmp/ipykernel_10909/4200277145.py:3: FutureWarning: You are using `torch.load` with `weights_only=False` (the current default value), which uses the default pickle module implicitly. It is possible to construct malicious pickle data which will execute arbitrary code during unpickling (See https://github.com/pytorch/pytorch/blob/main/SECURITY.md#untrusted-models for more details). In a future release, the default value for `weights_only` will be flipped to `True`. This limits the functions that could be executed during unpickling. Arbitrary objects will no longer be allowed to be loaded via this mode unless they are explicitly allowlisted by the user via `torch.serialization.add_safe_globals`. We recommend you start setting `weights_only=True` for any use case where you don't have full control of the loaded file. Please open an issue on GitHub for any issues related to this experimental feature.\n",
      "  val_dataset = torch.load(\"../data/2_ready_for_training/embedded/val_dataset_small.pth\")\n"
     ]
    }
   ],
   "execution_count": 3
  },
  {
   "metadata": {
    "ExecuteTime": {
     "end_time": "2024-12-13T18:06:15.765323Z",
     "start_time": "2024-12-13T18:06:15.762850Z"
    }
   },
   "cell_type": "code",
   "source": "len(val_dataset), len(testing_dataset), len(training_dataset)",
   "id": "8716417ed8e7d090",
   "outputs": [
    {
     "data": {
      "text/plain": [
       "(622, 1952, 10403)"
      ]
     },
     "execution_count": 4,
     "metadata": {},
     "output_type": "execute_result"
    }
   ],
   "execution_count": 4
  },
  {
   "metadata": {
    "ExecuteTime": {
     "end_time": "2024-12-13T18:06:15.809422Z",
     "start_time": "2024-12-13T18:06:15.807208Z"
    }
   },
   "cell_type": "code",
   "source": [
    "# Define a simple two-layer neural net with dropout and layer norm\n",
    "class SmallEmbeddingNeuralNet(nn.Module):\n",
    "    def __init__(self, input_dim, hidden_dim, output_dim):\n",
    "        super(SmallEmbeddingNeuralNet, self).__init__()\n",
    "        self.layer1 = nn.Sequential(\n",
    "            nn.Linear(input_dim, hidden_dim),\n",
    "            nn.LayerNorm(hidden_dim),\n",
    "            nn.ReLU(),\n",
    "            nn.Dropout(0.1)\n",
    "        )\n",
    "        self.layer2 = nn.Sequential(\n",
    "            nn.Linear(hidden_dim, 128),\n",
    "            nn.LayerNorm(128),\n",
    "            nn.ReLU(),\n",
    "            nn.Dropout(0.1)\n",
    "        )\n",
    "        self.layer3 = nn.Linear(128, output_dim)\n",
    "\n",
    "    def forward(self, x):\n",
    "        x = self.layer1(x)\n",
    "        x = self.layer2(x)\n",
    "        x = self.layer3(x)\n",
    "        return x\n"
   ],
   "id": "78573236c92a6089",
   "outputs": [],
   "execution_count": 5
  },
  {
   "metadata": {
    "ExecuteTime": {
     "end_time": "2024-12-13T18:06:15.853041Z",
     "start_time": "2024-12-13T18:06:15.851366Z"
    }
   },
   "cell_type": "code",
   "source": [
    "input_dim = int(testing_dataset.X[0].shape[0])\n",
    "hidden_dim = int(testing_dataset.X[0].shape[0]/2)"
   ],
   "id": "8c82e0cbcd4a9655",
   "outputs": [],
   "execution_count": 6
  },
  {
   "metadata": {
    "ExecuteTime": {
     "end_time": "2024-12-13T18:06:15.990537Z",
     "start_time": "2024-12-13T18:06:15.894374Z"
    }
   },
   "cell_type": "code",
   "source": [
    "model = SmallEmbeddingNeuralNet(input_dim=input_dim, hidden_dim=hidden_dim, output_dim=1)\n",
    "model = model.to(\"cuda\")"
   ],
   "id": "caa2430e35069858",
   "outputs": [],
   "execution_count": 7
  },
  {
   "metadata": {
    "ExecuteTime": {
     "end_time": "2024-12-13T18:06:16.447674Z",
     "start_time": "2024-12-13T18:06:15.994271Z"
    }
   },
   "cell_type": "code",
   "source": "optimizer = optim.AdamW(model.parameters(), lr=1e-3)\n",
   "id": "fe02efe7fc3bba6",
   "outputs": [],
   "execution_count": 8
  },
  {
   "metadata": {
    "ExecuteTime": {
     "end_time": "2024-12-13T18:06:16.452129Z",
     "start_time": "2024-12-13T18:06:16.450694Z"
    }
   },
   "cell_type": "code",
   "source": [
    "\n",
    "# TODO  ADD IN LATER BUT NOT YET\n",
    "#\n",
    "# class FlatLRScheduler(_LRScheduler):\n",
    "#     def __init__(self, optimizer: Optimizer, schedule: list, last_epoch: int = -1):\n",
    "#         \"\"\"\n",
    "#         Custom Learning Rate Scheduler.\n",
    "#\n",
    "#         Args:\n",
    "#             optimizer (Optimizer): Wrapped optimizer.\n",
    "#             schedule (list): List of tuples defining (epoch_range, lr_value).\n",
    "#                              Example: [(9, 1e-3), (8, 1e-4), (8, 1e-5)]\n",
    "#             last_epoch (int): The index of the last epoch. Default is -1.\n",
    "#         \"\"\"\n",
    "#         self.schedule = []\n",
    "#         total_epochs = 0\n",
    "#         for epochs, lr in schedule:\n",
    "#             total_epochs += epochs\n",
    "#             self.schedule.append((total_epochs, lr))\n",
    "#         super().__init__(optimizer, last_epoch)\n",
    "#\n",
    "#     def get_lr(self):\n",
    "#         current_epoch = self.last_epoch + 1\n",
    "#         for end_epoch, lr in self.schedule:\n",
    "#             if current_epoch <= end_epoch:\n",
    "#                 return [lr for _ in self.optimizer.param_groups]\n",
    "#         raise ValueError(f\"Epoch {current_epoch} is out of range for the provided schedule.\")\n",
    "#\n",
    "# Define the schedule: [(9 epochs at 1e-3), (8 epochs at 1e-4), (8 epochs at 1e-5)]\n",
    "# schedule = [(9, 1e-3), (8, 1e-4), (8, 1e-5)]\n",
    "# schedule = [(10, 1e-3), (10, 1e-4), (5, 1e-5)]\n",
    "# schedule = [(15, 1e-3), (16, 1e-4)] # THIS SHOULD BE ONE LONGER THAN NUM_EPOCHS TO AVOID OFF BY ONE ERROR\n",
    "#\n",
    "# Initialize the custom scheduler\n",
    "# scheduler = FlatLRScheduler(optimizer, schedule)\n"
   ],
   "id": "ddba297de9d80fcf",
   "outputs": [],
   "execution_count": 9
  },
  {
   "metadata": {
    "ExecuteTime": {
     "end_time": "2024-12-13T18:06:16.494485Z",
     "start_time": "2024-12-13T18:06:16.492955Z"
    }
   },
   "cell_type": "code",
   "source": "criterion = nn.MSELoss()",
   "id": "eb623e60d13f6ef",
   "outputs": [],
   "execution_count": 10
  },
  {
   "metadata": {
    "ExecuteTime": {
     "end_time": "2024-12-13T18:06:16.536459Z",
     "start_time": "2024-12-13T18:06:16.535267Z"
    }
   },
   "cell_type": "code",
   "source": "num_epochs = 15",
   "id": "901e6b435c621151",
   "outputs": [],
   "execution_count": 11
  },
  {
   "metadata": {
    "ExecuteTime": {
     "end_time": "2024-12-13T18:06:16.580336Z",
     "start_time": "2024-12-13T18:06:16.578555Z"
    }
   },
   "cell_type": "code",
   "source": [
    "# Prepare data loaders\n",
    "batch_size = 256\n",
    "train_loader = DataLoader(training_dataset, batch_size=batch_size, shuffle=True)\n",
    "test_loader = DataLoader(testing_dataset, batch_size=batch_size, shuffle=False)\n"
   ],
   "id": "9bd51edc1b2c8b1c",
   "outputs": [],
   "execution_count": 12
  },
  {
   "metadata": {
    "ExecuteTime": {
     "end_time": "2024-12-13T18:06:17.830239Z",
     "start_time": "2024-12-13T18:06:16.622481Z"
    }
   },
   "cell_type": "code",
   "source": [
    "train_losses = []\n",
    "test_losses = []\n",
    "lr_s = []\n",
    "\n",
    "for epoch_num in range(num_epochs):\n",
    "\n",
    "    test_loss = 0.0\n",
    "    model.eval()\n",
    "    with torch.no_grad():\n",
    "        # for inputs, labels in tqdm(test_loader, desc=f\"Testing Epoch {epoch_num}\"):\n",
    "        for inputs, labels in test_loader:\n",
    "            inputs, labels = inputs.to(\"cuda\"), labels.to(\"cuda\")\n",
    "            outputs = model(inputs)\n",
    "            loss = criterion(outputs.squeeze(-1), labels)\n",
    "            # test_loss += loss.item()\n",
    "            test_loss += loss.item() * inputs.size(0)  # Multiply batch loss by batch size\n",
    "        avg_loss = test_loss/len(testing_dataset)\n",
    "        test_losses.append(avg_loss)\n",
    "        print(f\"TEST LOSS: PRE Epoch-{epoch_num}, we have {avg_loss:.4f}\")\n",
    "\n",
    "\n",
    "    model.train()\n",
    "    train_loss = 0.0\n",
    "\n",
    "    for inputs, labels in tqdm(train_loader, desc=f\"Training Epoch {epoch_num}\"):\n",
    "        inputs, labels = inputs.to(\"cuda\"), labels.to(\"cuda\")\n",
    "\n",
    "        # Zero the parameter gradients\n",
    "        optimizer.zero_grad()\n",
    "\n",
    "        # Forward pass\n",
    "        outputs = model(inputs)\n",
    "        # loss = criterion(outputs, labels) # MY MSITAKE - DO NOT DO THIS\n",
    "        loss = criterion(outputs.squeeze(-1), labels)\n",
    "\n",
    "        # Backward pass and optimization\n",
    "        loss.backward()\n",
    "        optimizer.step()\n",
    "\n",
    "        # train_loss += loss.item()\n",
    "        train_loss += loss.item() * inputs.size(0)  # Multiply batch loss by batch size\n",
    "    avg_loss = train_loss/len(training_dataset) # /len(train_dataset) ?? TODO\n",
    "    train_losses.append(avg_loss)\n",
    "    print(f\"TRAIN LOSS: On Epoch-{epoch_num}, we have {avg_loss:.4f}\")\n",
    "\n",
    "    # scheduler.step()\n",
    "    # current_lr = scheduler.get_last_lr()\n",
    "    # lr_s.append(current_lr)\n",
    "\n",
    "\n"
   ],
   "id": "880f53ab870d9e8e",
   "outputs": [
    {
     "name": "stdout",
     "output_type": "stream",
     "text": [
      "TEST LOSS: PRE Epoch-0, we have 120.7612\n"
     ]
    },
    {
     "data": {
      "text/plain": [
       "Training Epoch 0:   0%|          | 0/41 [00:00<?, ?it/s]"
      ],
      "application/vnd.jupyter.widget-view+json": {
       "version_major": 2,
       "version_minor": 0,
       "model_id": "2af1b9e351e54a7dab35cb19ee514371"
      }
     },
     "metadata": {},
     "output_type": "display_data"
    },
    {
     "name": "stdout",
     "output_type": "stream",
     "text": [
      "TRAIN LOSS: On Epoch-0, we have 83.8830\n",
      "TEST LOSS: PRE Epoch-1, we have 65.0292\n"
     ]
    },
    {
     "data": {
      "text/plain": [
       "Training Epoch 1:   0%|          | 0/41 [00:00<?, ?it/s]"
      ],
      "application/vnd.jupyter.widget-view+json": {
       "version_major": 2,
       "version_minor": 0,
       "model_id": "e867fcfb3ed04d8f827ba469be75fe81"
      }
     },
     "metadata": {},
     "output_type": "display_data"
    },
    {
     "name": "stdout",
     "output_type": "stream",
     "text": [
      "TRAIN LOSS: On Epoch-1, we have 59.8273\n",
      "TEST LOSS: PRE Epoch-2, we have 47.8749\n"
     ]
    },
    {
     "data": {
      "text/plain": [
       "Training Epoch 2:   0%|          | 0/41 [00:00<?, ?it/s]"
      ],
      "application/vnd.jupyter.widget-view+json": {
       "version_major": 2,
       "version_minor": 0,
       "model_id": "eb337c24fdcd4e26b2ebcc82dec65870"
      }
     },
     "metadata": {},
     "output_type": "display_data"
    },
    {
     "name": "stdout",
     "output_type": "stream",
     "text": [
      "TRAIN LOSS: On Epoch-2, we have 44.7827\n",
      "TEST LOSS: PRE Epoch-3, we have 35.4691\n"
     ]
    },
    {
     "data": {
      "text/plain": [
       "Training Epoch 3:   0%|          | 0/41 [00:00<?, ?it/s]"
      ],
      "application/vnd.jupyter.widget-view+json": {
       "version_major": 2,
       "version_minor": 0,
       "model_id": "574fd2cb4c1a4639825b7192f2440252"
      }
     },
     "metadata": {},
     "output_type": "display_data"
    },
    {
     "name": "stdout",
     "output_type": "stream",
     "text": [
      "TRAIN LOSS: On Epoch-3, we have 33.4857\n",
      "TEST LOSS: PRE Epoch-4, we have 26.4588\n"
     ]
    },
    {
     "data": {
      "text/plain": [
       "Training Epoch 4:   0%|          | 0/41 [00:00<?, ?it/s]"
      ],
      "application/vnd.jupyter.widget-view+json": {
       "version_major": 2,
       "version_minor": 0,
       "model_id": "f190c85f1ac144bd92e641940b59fac0"
      }
     },
     "metadata": {},
     "output_type": "display_data"
    },
    {
     "name": "stdout",
     "output_type": "stream",
     "text": [
      "TRAIN LOSS: On Epoch-4, we have 24.8630\n",
      "TEST LOSS: PRE Epoch-5, we have 19.9568\n"
     ]
    },
    {
     "data": {
      "text/plain": [
       "Training Epoch 5:   0%|          | 0/41 [00:00<?, ?it/s]"
      ],
      "application/vnd.jupyter.widget-view+json": {
       "version_major": 2,
       "version_minor": 0,
       "model_id": "2ae2cbbb5e9047fdbc8ca4cdc5d22fcb"
      }
     },
     "metadata": {},
     "output_type": "display_data"
    },
    {
     "name": "stdout",
     "output_type": "stream",
     "text": [
      "TRAIN LOSS: On Epoch-5, we have 18.7907\n",
      "TEST LOSS: PRE Epoch-6, we have 15.2993\n"
     ]
    },
    {
     "data": {
      "text/plain": [
       "Training Epoch 6:   0%|          | 0/41 [00:00<?, ?it/s]"
      ],
      "application/vnd.jupyter.widget-view+json": {
       "version_major": 2,
       "version_minor": 0,
       "model_id": "7c4e1195a1e7412c9e52ee2c04aa5753"
      }
     },
     "metadata": {},
     "output_type": "display_data"
    },
    {
     "name": "stdout",
     "output_type": "stream",
     "text": [
      "TRAIN LOSS: On Epoch-6, we have 14.0911\n",
      "TEST LOSS: PRE Epoch-7, we have 12.3110\n"
     ]
    },
    {
     "data": {
      "text/plain": [
       "Training Epoch 7:   0%|          | 0/41 [00:00<?, ?it/s]"
      ],
      "application/vnd.jupyter.widget-view+json": {
       "version_major": 2,
       "version_minor": 0,
       "model_id": "a429242e86d5403190ac14ceaef0c160"
      }
     },
     "metadata": {},
     "output_type": "display_data"
    },
    {
     "name": "stdout",
     "output_type": "stream",
     "text": [
      "TRAIN LOSS: On Epoch-7, we have 10.6017\n",
      "TEST LOSS: PRE Epoch-8, we have 9.5609\n"
     ]
    },
    {
     "data": {
      "text/plain": [
       "Training Epoch 8:   0%|          | 0/41 [00:00<?, ?it/s]"
      ],
      "application/vnd.jupyter.widget-view+json": {
       "version_major": 2,
       "version_minor": 0,
       "model_id": "de0010b59f114653a1209a4efd41adfe"
      }
     },
     "metadata": {},
     "output_type": "display_data"
    },
    {
     "name": "stdout",
     "output_type": "stream",
     "text": [
      "TRAIN LOSS: On Epoch-8, we have 7.8505\n",
      "TEST LOSS: PRE Epoch-9, we have 7.7222\n"
     ]
    },
    {
     "data": {
      "text/plain": [
       "Training Epoch 9:   0%|          | 0/41 [00:00<?, ?it/s]"
      ],
      "application/vnd.jupyter.widget-view+json": {
       "version_major": 2,
       "version_minor": 0,
       "model_id": "2368b4e9715740e0a74368706f46f7e2"
      }
     },
     "metadata": {},
     "output_type": "display_data"
    },
    {
     "name": "stdout",
     "output_type": "stream",
     "text": [
      "TRAIN LOSS: On Epoch-9, we have 5.9923\n",
      "TEST LOSS: PRE Epoch-10, we have 7.0222\n"
     ]
    },
    {
     "data": {
      "text/plain": [
       "Training Epoch 10:   0%|          | 0/41 [00:00<?, ?it/s]"
      ],
      "application/vnd.jupyter.widget-view+json": {
       "version_major": 2,
       "version_minor": 0,
       "model_id": "318df116716f47c085671b4c2e00acc9"
      }
     },
     "metadata": {},
     "output_type": "display_data"
    },
    {
     "name": "stdout",
     "output_type": "stream",
     "text": [
      "TRAIN LOSS: On Epoch-10, we have 4.7084\n",
      "TEST LOSS: PRE Epoch-11, we have 6.4155\n"
     ]
    },
    {
     "data": {
      "text/plain": [
       "Training Epoch 11:   0%|          | 0/41 [00:00<?, ?it/s]"
      ],
      "application/vnd.jupyter.widget-view+json": {
       "version_major": 2,
       "version_minor": 0,
       "model_id": "33571714e3e9475e981b9e6aca679c21"
      }
     },
     "metadata": {},
     "output_type": "display_data"
    },
    {
     "name": "stdout",
     "output_type": "stream",
     "text": [
      "TRAIN LOSS: On Epoch-11, we have 4.0836\n",
      "TEST LOSS: PRE Epoch-12, we have 6.1162\n"
     ]
    },
    {
     "data": {
      "text/plain": [
       "Training Epoch 12:   0%|          | 0/41 [00:00<?, ?it/s]"
      ],
      "application/vnd.jupyter.widget-view+json": {
       "version_major": 2,
       "version_minor": 0,
       "model_id": "a09e11e3ed44432486c14c01c3310002"
      }
     },
     "metadata": {},
     "output_type": "display_data"
    },
    {
     "name": "stdout",
     "output_type": "stream",
     "text": [
      "TRAIN LOSS: On Epoch-12, we have 3.4656\n",
      "TEST LOSS: PRE Epoch-13, we have 5.8736\n"
     ]
    },
    {
     "data": {
      "text/plain": [
       "Training Epoch 13:   0%|          | 0/41 [00:00<?, ?it/s]"
      ],
      "application/vnd.jupyter.widget-view+json": {
       "version_major": 2,
       "version_minor": 0,
       "model_id": "f093b5a512a14b12a8484270c605ade6"
      }
     },
     "metadata": {},
     "output_type": "display_data"
    },
    {
     "name": "stdout",
     "output_type": "stream",
     "text": [
      "TRAIN LOSS: On Epoch-13, we have 3.2347\n",
      "TEST LOSS: PRE Epoch-14, we have 5.2361\n"
     ]
    },
    {
     "data": {
      "text/plain": [
       "Training Epoch 14:   0%|          | 0/41 [00:00<?, ?it/s]"
      ],
      "application/vnd.jupyter.widget-view+json": {
       "version_major": 2,
       "version_minor": 0,
       "model_id": "38ad1111433148d284b68b5e8e4c68ab"
      }
     },
     "metadata": {},
     "output_type": "display_data"
    },
    {
     "name": "stdout",
     "output_type": "stream",
     "text": [
      "TRAIN LOSS: On Epoch-14, we have 2.8958\n"
     ]
    }
   ],
   "execution_count": 13
  },
  {
   "metadata": {
    "ExecuteTime": {
     "end_time": "2024-12-13T18:06:17.941725Z",
     "start_time": "2024-12-13T18:06:17.892081Z"
    }
   },
   "cell_type": "code",
   "source": "plt.plot(train_losses)",
   "id": "ff1b01ac0e48b754",
   "outputs": [
    {
     "data": {
      "text/plain": [
       "[<matplotlib.lines.Line2D at 0x75e2e2960ec0>]"
      ]
     },
     "execution_count": 14,
     "metadata": {},
     "output_type": "execute_result"
    },
    {
     "data": {
      "text/plain": [
       "<Figure size 640x480 with 1 Axes>"
      ],
      "image/png": "[encoded data removed]"
     },
     "metadata": {},
     "output_type": "display_data"
    }
   ],
   "execution_count": 14
  },
  {
   "metadata": {
    "ExecuteTime": {
     "end_time": "2024-12-13T18:06:18.000562Z",
     "start_time": "2024-12-13T18:06:17.959510Z"
    }
   },
   "cell_type": "code",
   "source": [
    "\n",
    "plt.plot(test_losses)"
   ],
   "id": "c862ce9afbcc0d0f",
   "outputs": [
    {
     "data": {
      "text/plain": [
       "[<matplotlib.lines.Line2D at 0x75e2e29a30e0>]"
      ]
     },
     "execution_count": 15,
     "metadata": {},
     "output_type": "execute_result"
    },
    {
     "data": {
      "text/plain": [
       "<Figure size 640x480 with 1 Axes>"
      ],
      "image/png": "[encoded data removed]"
     },
     "metadata": {},
     "output_type": "display_data"
    }
   ],
   "execution_count": 15
  },
  {
   "metadata": {
    "ExecuteTime": {
     "end_time": "2024-12-13T18:06:18.051131Z",
     "start_time": "2024-12-13T18:06:18.013860Z"
    }
   },
   "cell_type": "code",
   "source": "plt.plot(test_losses[-10:])",
   "id": "64e5772ff0383f50",
   "outputs": [
    {
     "data": {
      "text/plain": [
       "[<matplotlib.lines.Line2D at 0x75e2e0732120>]"
      ]
     },
     "execution_count": 16,
     "metadata": {},
     "output_type": "execute_result"
    },
    {
     "data": {
      "text/plain": [
       "<Figure size 640x480 with 1 Axes>"
      ],
      "image/png": "[encoded data removed]"
     },
     "metadata": {},
     "output_type": "display_data"
    }
   ],
   "execution_count": 16
  },
  {
   "metadata": {
    "ExecuteTime": {
     "end_time": "2024-12-13T18:06:18.072789Z",
     "start_time": "2024-12-13T18:06:18.060976Z"
    }
   },
   "cell_type": "code",
   "source": [
    "val_loader = DataLoader(val_dataset, batch_size=batch_size, shuffle=False)\n",
    "\n",
    "val_loss = 0.0\n",
    "model.eval()\n",
    "with torch.no_grad():\n",
    "    # for inputs, labels in tqdm(test_loader, desc=f\"Testing Epoch {epoch_num}\"):\n",
    "    for inputs, labels in test_loader:\n",
    "        inputs, labels = inputs.to(\"cuda\"), labels.to(\"cuda\")\n",
    "        outputs = model(inputs)\n",
    "        loss = criterion(outputs.squeeze(-1), labels)\n",
    "        # test_loss += loss.item()\n",
    "        val_loss += loss.item() * inputs.size(0)  # Multiply batch loss by batch size\n",
    "    avg_loss = val_loss/len(testing_dataset)\n",
    "    print(f\"ON VAL SET, ACHIEVED {avg_loss:.4f}\")"
   ],
   "id": "80fefc83a8dbb686",
   "outputs": [
    {
     "name": "stdout",
     "output_type": "stream",
     "text": [
      "ON VAL SET, ACHIEVED 5.6846\n"
     ]
    }
   ],
   "execution_count": 17
  },
  {
   "metadata": {
    "ExecuteTime": {
     "end_time": "2024-12-13T18:06:18.104796Z",
     "start_time": "2024-12-13T18:06:18.103731Z"
    }
   },
   "cell_type": "code",
   "source": "",
   "id": "567e227e95c6bca",
   "outputs": [],
   "execution_count": null
  },
  {
   "metadata": {
    "ExecuteTime": {
     "end_time": "2024-12-13T18:06:18.149732Z",
     "start_time": "2024-12-13T18:06:18.145475Z"
    }
   },
   "cell_type": "code",
   "source": [
    "val_dataset = torch.load(\"../data/2_ready_for_training/embedded/val_dataset_small.pth\")\n",
    "\n",
    "# Assuming val_dataset is a list of (inputs, labels)\n",
    "inputs_list = []\n",
    "labels_list = []\n",
    "\n",
    "for item in val_dataset:\n",
    "    inputs, labels = item  # Unpack inputs and labels\n",
    "    inputs_list.append(inputs.cpu().numpy())  # Convert tensors to numpy arrays\n",
    "    labels_list.append(labels.cpu().numpy())"
   ],
   "id": "a077bf1390ae9e00",
   "outputs": [
    {
     "name": "stderr",
     "output_type": "stream",
     "text": [
      "/tmp/ipykernel_10909/3621458664.py:1: FutureWarning: You are using `torch.load` with `weights_only=False` (the current default value), which uses the default pickle module implicitly. It is possible to construct malicious pickle data which will execute arbitrary code during unpickling (See https://github.com/pytorch/pytorch/blob/main/SECURITY.md#untrusted-models for more details). In a future release, the default value for `weights_only` will be flipped to `True`. This limits the functions that could be executed during unpickling. Arbitrary objects will no longer be allowed to be loaded via this mode unless they are explicitly allowlisted by the user via `torch.serialization.add_safe_globals`. We recommend you start setting `weights_only=True` for any use case where you don't have full control of the loaded file. Please open an issue on GitHub for any issues related to this experimental feature.\n",
      "  val_dataset = torch.load(\"../data/2_ready_for_training/embedded/val_dataset_small.pth\")\n"
     ]
    }
   ],
   "execution_count": 18
  },
  {
   "metadata": {
    "ExecuteTime": {
     "end_time": "2024-12-13T18:06:18.192396Z",
     "start_time": "2024-12-13T18:06:18.190771Z"
    }
   },
   "cell_type": "code",
   "source": "labels_list_flat = [int(i) for i in labels_list]",
   "id": "2150c197e87bea1d",
   "outputs": [],
   "execution_count": 19
  },
  {
   "metadata": {
    "ExecuteTime": {
     "end_time": "2024-12-13T18:06:18.236526Z",
     "start_time": "2024-12-13T18:06:18.234762Z"
    }
   },
   "cell_type": "code",
   "source": [
    "# inputs_list_flat = [inp.flatten() for inp in inputs_list]  # Flatten the inputs\n",
    "# labels_list_flat = [lbl.flatten() for lbl in labels_list]  # Flatten the labels\n",
    "\n",
    "val_df = pl.DataFrame({\n",
    "    # \"inputs\": inputs_list_flat,  # Polars will handle the flat numpy arrays\n",
    "    \"labels\": labels_list_flat\n",
    "})\n"
   ],
   "id": "26b8dd8b0a603060",
   "outputs": [],
   "execution_count": 20
  },
  {
   "metadata": {
    "ExecuteTime": {
     "end_time": "2024-12-13T18:06:18.284339Z",
     "start_time": "2024-12-13T18:06:18.277689Z"
    }
   },
   "cell_type": "code",
   "source": [
    "\n",
    "\n",
    "# Assuming val_dataset, batch_size, and model are already defined\n",
    "val_loader = DataLoader(val_dataset, batch_size=batch_size, shuffle=False)\n",
    "\n",
    "val_loss = 0.0\n",
    "model.eval()\n",
    "predictions = []  # List to store predictions in order\n",
    "\n",
    "with torch.no_grad():\n",
    "    for inputs, labels in val_loader:\n",
    "        inputs, labels = inputs.to(\"cuda\"), labels.to(\"cuda\")\n",
    "        outputs = model(inputs)  # Forward pass\n",
    "        loss = criterion(outputs.squeeze(-1), labels)\n",
    "        val_loss += loss.item() * inputs.size(0)  # Multiply batch loss by batch size\n",
    "\n",
    "        # Collect predictions\n",
    "        predictions.extend(outputs.squeeze(-1).cpu().tolist())\n",
    "\n",
    "# Compute the average loss\n",
    "avg_loss = val_loss / len(val_dataset)\n",
    "print(f\"ON VAL SET, ACHIEVED {avg_loss:.4f}\")\n"
   ],
   "id": "d7f2480d69c26512",
   "outputs": [
    {
     "name": "stdout",
     "output_type": "stream",
     "text": [
      "ON VAL SET, ACHIEVED 3.9208\n"
     ]
    }
   ],
   "execution_count": 21
  },
  {
   "metadata": {
    "ExecuteTime": {
     "end_time": "2024-12-13T18:06:18.381993Z",
     "start_time": "2024-12-13T18:06:18.376388Z"
    }
   },
   "cell_type": "code",
   "source": [
    "# Use the predictions to create a Polars column\n",
    "val_df = val_df.with_columns(pl.Series(predictions).alias(\"small_embed_predictions\"))\n",
    "val_df.write_csv(\"../outputs/predictions/small_embed_predictions.csv\")"
   ],
   "id": "2318a0fe7ff16fd6",
   "outputs": [],
   "execution_count": 22
  },
  {
   "metadata": {
    "ExecuteTime": {
     "end_time": "2024-12-13T18:06:18.422993Z",
     "start_time": "2024-12-13T18:06:18.420633Z"
    }
   },
   "cell_type": "code",
   "source": "torch.save(model.state_dict(), \"../models/embedding/nn_on_small_embeddings.pth\")",
   "id": "a7d0f7fbf0b9004c",
   "outputs": [],
   "execution_count": 23
  }
 ],
 "metadata": {
  "kernelspec": {
   "display_name": "Python 3",
   "language": "python",
   "name": "python3"
  },
  "language_info": {
   "codemirror_mode": {
    "name": "ipython",
    "version": 2
   },
   "file_extension": ".py",
   "mimetype": "text/x-python",
   "name": "python",
   "nbconvert_exporter": "python",
   "pygments_lexer": "ipython2",
   "version": "2.7.6"
  }
 },
 "nbformat": 4,
 "nbformat_minor": 5
}
